{
 "cells": [
  {
   "attachments": {},
   "cell_type": "markdown",
   "metadata": {},
   "source": [
    "## DATASET CLEANING AND TRANSFORM"
   ]
  },
  {
   "cell_type": "code",
   "execution_count": 3,
   "metadata": {},
   "outputs": [
    {
     "name": "stdout",
     "output_type": "stream",
     "text": [
      "Requirement already satisfied: imbalanced-learn in /usr/local/lib/python3.10/site-packages (0.11.0)\n",
      "Requirement already satisfied: numpy>=1.17.3 in /usr/local/lib/python3.10/site-packages (from imbalanced-learn) (1.25.1)\n",
      "Requirement already satisfied: scipy>=1.5.0 in /usr/local/lib/python3.10/site-packages (from imbalanced-learn) (1.11.1)\n",
      "Requirement already satisfied: scikit-learn>=1.0.2 in /usr/local/lib/python3.10/site-packages (from imbalanced-learn) (1.0.2)\n",
      "Requirement already satisfied: joblib>=1.1.1 in /usr/local/lib/python3.10/site-packages (from imbalanced-learn) (1.3.1)\n",
      "Requirement already satisfied: threadpoolctl>=2.0.0 in /usr/local/lib/python3.10/site-packages (from imbalanced-learn) (3.2.0)\n",
      "\n",
      "\u001b[1m[\u001b[0m\u001b[34;49mnotice\u001b[0m\u001b[1;39;49m]\u001b[0m\u001b[39;49m A new release of pip is available: \u001b[0m\u001b[31;49m23.1.2\u001b[0m\u001b[39;49m -> \u001b[0m\u001b[32;49m23.2.1\u001b[0m\n",
      "\u001b[1m[\u001b[0m\u001b[34;49mnotice\u001b[0m\u001b[1;39;49m]\u001b[0m\u001b[39;49m To update, run: \u001b[0m\u001b[32;49mpython3.10 -m pip install --upgrade pip\u001b[0m\n",
      "Note: you may need to restart the kernel to use updated packages.\n",
      "Requirement already satisfied: scikit-learn==1.0.2 in /usr/local/lib/python3.10/site-packages (1.0.2)\n",
      "Requirement already satisfied: numpy>=1.14.6 in /usr/local/lib/python3.10/site-packages (from scikit-learn==1.0.2) (1.25.1)\n",
      "Requirement already satisfied: scipy>=1.1.0 in /usr/local/lib/python3.10/site-packages (from scikit-learn==1.0.2) (1.11.1)\n",
      "Requirement already satisfied: joblib>=0.11 in /usr/local/lib/python3.10/site-packages (from scikit-learn==1.0.2) (1.3.1)\n",
      "Requirement already satisfied: threadpoolctl>=2.0.0 in /usr/local/lib/python3.10/site-packages (from scikit-learn==1.0.2) (3.2.0)\n",
      "\n",
      "\u001b[1m[\u001b[0m\u001b[34;49mnotice\u001b[0m\u001b[1;39;49m]\u001b[0m\u001b[39;49m A new release of pip is available: \u001b[0m\u001b[31;49m23.1.2\u001b[0m\u001b[39;49m -> \u001b[0m\u001b[32;49m23.2.1\u001b[0m\n",
      "\u001b[1m[\u001b[0m\u001b[34;49mnotice\u001b[0m\u001b[1;39;49m]\u001b[0m\u001b[39;49m To update, run: \u001b[0m\u001b[32;49mpython3.10 -m pip install --upgrade pip\u001b[0m\n",
      "Note: you may need to restart the kernel to use updated packages.\n"
     ]
    }
   ],
   "source": [
    "%pip install -U imbalanced-learn\n",
    "%pip install scikit-learn==1.0.2"
   ]
  },
  {
   "cell_type": "code",
   "execution_count": 2,
   "metadata": {},
   "outputs": [],
   "source": [
    "import pandas as pd\n",
    "import numpy as np\n",
    "pd.set_option('display.max_columns', None) #MOSTRAR TODAS LAS COLUMNAS\n",
    "y_col_name = 'Protestas'"
   ]
  },
  {
   "cell_type": "code",
   "execution_count": 2,
   "metadata": {},
   "outputs": [
    {
     "name": "stdout",
     "output_type": "stream",
     "text": [
      "/opt/homebrew/lib/python3.10/site-packages/gdown/cli.py:126: FutureWarning: Option `--id` was deprecated in version 4.3.1 and will be removed in 5.0. You don't need to pass it anymore to use a file ID.\n",
      "  warnings.warn(\n",
      "Downloading...\n",
      "From (uriginal): https://drive.google.com/uc?id=1-tNBUCWFU0_b9QW6ie4Vvfs7eb4WbIPY\n",
      "From (redirected): https://drive.google.com/uc?id=1-tNBUCWFU0_b9QW6ie4Vvfs7eb4WbIPY&confirm=t&uuid=50c01bb4-0c8a-4edb-a31f-4494ba0844a0\n",
      "To: /Users/davidnunez/Desktop/tesis/tesis-model/TestBalanceo1.csv\n",
      "  0%|                                                | 0.00/827M [00:00<?, ?B/s]^C\n",
      "Traceback (most recent call last):\n",
      "  File \"/opt/homebrew/bin/gdown\", line 8, in <module>\n",
      "    sys.exit(main())\n",
      "  File \"/opt/homebrew/lib/python3.10/site-packages/gdown/cli.py\", line 156, in main\n",
      "    filename = download(\n",
      "  File \"/opt/homebrew/lib/python3.10/site-packages/gdown/download.py\", line 334, in download\n",
      "    for chunk in res.iter_content(chunk_size=CHUNK_SIZE):\n",
      "  File \"/opt/homebrew/lib/python3.10/site-packages/requests/models.py\", line 816, in generate\n",
      "    yield from self.raw.stream(chunk_size, decode_content=True)\n",
      "  File \"/opt/homebrew/lib/python3.10/site-packages/urllib3/response.py\", line 628, in stream\n",
      "    data = self.read(amt=amt, decode_content=decode_content)\n",
      "  File \"/opt/homebrew/lib/python3.10/site-packages/urllib3/response.py\", line 567, in read\n",
      "    data = self._fp_read(amt) if not fp_closed else b\"\"\n",
      "  File \"/opt/homebrew/lib/python3.10/site-packages/urllib3/response.py\", line 533, in _fp_read\n",
      "    return self._fp.read(amt) if amt is not None else self._fp.read()\n",
      "  File \"/opt/homebrew/Cellar/python@3.10/3.10.6_1/Frameworks/Python.framework/Versions/3.10/lib/python3.10/http/client.py\", line 465, in read\n",
      "    s = self.fp.read(amt)\n",
      "  File \"/opt/homebrew/Cellar/python@3.10/3.10.6_1/Frameworks/Python.framework/Versions/3.10/lib/python3.10/socket.py\", line 705, in readinto\n",
      "    return self._sock.recv_into(b)\n",
      "  File \"/opt/homebrew/Cellar/python@3.10/3.10.6_1/Frameworks/Python.framework/Versions/3.10/lib/python3.10/ssl.py\", line 1274, in recv_into\n",
      "    return self.read(nbytes, buffer)\n",
      "  File \"/opt/homebrew/Cellar/python@3.10/3.10.6_1/Frameworks/Python.framework/Versions/3.10/lib/python3.10/ssl.py\", line 1130, in read\n",
      "    return self._sslobj.read(len, buffer)\n",
      "KeyboardInterrupt\n",
      "  0%|                                                | 0.00/827M [00:00<?, ?B/s]\n",
      "/opt/homebrew/lib/python3.10/site-packages/gdown/cli.py:126: FutureWarning: Option `--id` was deprecated in version 4.3.1 and will be removed in 5.0. You don't need to pass it anymore to use a file ID.\n",
      "  warnings.warn(\n",
      "Downloading...\n",
      "From: https://drive.google.com/uc?id=11eGwBDC3FoJh8eanfpYXFAS-3SZ6vNnO\n",
      "To: /Users/davidnunez/Desktop/tesis/tesis-model/OcidConBanderas.csv\n",
      "100%|██████████████████████████████████████| 14.6M/14.6M [00:01<00:00, 9.89MB/s]\n"
     ]
    }
   ],
   "source": [
    "!gdown --id 1-tNBUCWFU0_b9QW6ie4Vvfs7eb4WbIPY\n",
    "# https://drive.google.com/file/d/1-tNBUCWFU0_b9QW6ie4Vvfs7eb4WbIPY/view?usp=share_link\n",
    "!gdown --id 11eGwBDC3FoJh8eanfpYXFAS-3SZ6vNnO\n",
    "#https://drive.google.com/file/d/11eGwBDC3FoJh8eanfpYXFAS-3SZ6vNnO/view?usp=sharing"
   ]
  },
  {
   "cell_type": "code",
   "execution_count": 70,
   "metadata": {},
   "outputs": [
    {
     "name": "stderr",
     "output_type": "stream",
     "text": [
      "/var/folders/6s/z3758tx16yd17yy35vnsnx_80000gn/T/ipykernel_13327/2578874532.py:1: ParserWarning: Falling back to the 'python' engine because the 'c' engine does not support regex separators (separators > 1 char and different from '\\s+' are interpreted as regex); you can avoid this warning by specifying engine='python'.\n",
      "  df_completo = pd.read_csv('TestBalanceo1.csv', sep=\";;;\", index_col=False)\n"
     ]
    }
   ],
   "source": [
    "df_completo = pd.read_csv('TestBalanceo1.csv', sep=\";;;\", index_col=False)\n",
    "df_banderas_completo = pd.read_csv('OcidConBanderas.csv', sep=\";\", index_col=False)\n",
    "df_banderas_completo.drop(['Unnamed: 10'], inplace=True, axis=1)\n",
    "df_completo = df_completo.merge(df_banderas_completo, left_on='ocid', right_on='id', how='left')"
   ]
  },
  {
   "cell_type": "code",
   "execution_count": 73,
   "metadata": {},
   "outputs": [],
   "source": [
    "df_completo_filtered = df_completo[df_completo['tender.value.amount'].notna()]\n",
    "df_completo_filtered = df_completo_filtered[df_completo_filtered['tender.tenderPeriod.durationInDays'].notna()]\n",
    "df_completo_filtered = df_completo_filtered[df_completo_filtered['tender.enquiryPeriod.durationInDays'].notna()]\n",
    "# df_dummizado['tender.tenderPeriod.durationInDays'].fillna(df_dummizado['tender.tenderPeriod.durationInDays'].mean(), inplace=True)\n",
    "# df_dummizado['tender.enquiryPeriod.durationInDays'].fillna(df_dummizado['tender.enquiryPeriod.durationInDays'].mean(), inplace=True)"
   ]
  },
  {
   "cell_type": "code",
   "execution_count": 74,
   "metadata": {},
   "outputs": [],
   "source": [
    "#Drop columns\n",
    "df_dummizado = df_completo_filtered.drop(['ocid', 'id_x', 'id_y', 'tender.id', # Dropeamos por que son IDs\n",
    "    'tender.bidOpening.address.streetAddress', 'tender.enquiriesAddress.streetAddress', #Dropeamos por que son direcciones, creemos que no tienen valor\n",
    "    'ocid.1', 'tender.procurementIntention.uri', # URL y id\n",
    "    'tender.procurementIntention.description', #Descripcion\n",
    "    'tender.procurementIntention.category', # Dropeamos porque ya esta la info en otra columna\n",
    "    'tender.procurementIntention.title', #Titulo, practicamente todos son unicos\n",
    "    'initiationType', #Todos tienen el mismo valor (tender)\n",
    "    'tender.procurementIntention.id', # Ver vien por que dropeamos\n",
    "    'tag', #Todos tienen el mismo valor (compiled)\n",
    "    'language', #Todos tienen el mismo valor (es)\n",
    "    'tender.techniques.hasFrameworkAgreement', #Solo 48 rows con datos, no vale la pena\n",
    "    # 'Protestas', #Tiene info del resultado\n",
    "\t'tender.contractPeriod.durationInDays',\n",
    "\t'has_complaint',\n",
    "], axis=1)\n",
    "\n",
    "df_dummizado['date.month'] = pd.to_datetime(df_dummizado['date'], format='%Y-%m-%dT%H:%M:%S-04:00').dt.month\n",
    "df_dummizado['date.year'] = pd.to_datetime(df_dummizado['date'], format='%Y-%m-%dT%H:%M:%S-04:00').dt.year\n",
    "df_dummizado['date.yearmonth'] = pd.to_datetime(df_dummizado['date'], format='%Y-%m-%dT%H:%M:%S-04:00').dt.strftime('%Y%m')"
   ]
  },
  {
   "cell_type": "code",
   "execution_count": 75,
   "metadata": {},
   "outputs": [],
   "source": [
    "df_dummizado = df_dummizado[df_dummizado['date.year'] >= 2016] #JUST USING 2016 onwards"
   ]
  },
  {
   "cell_type": "code",
   "execution_count": 76,
   "metadata": {},
   "outputs": [],
   "source": [
    "#Dummies\n",
    "df_dummizado = pd.get_dummies(df_dummizado, columns=['tender.status']) # Cardinalidad baja\n",
    "df_dummizado = pd.get_dummies(df_dummizado, columns=['tender.awardCriteria']) # Cardinalidad baja\n",
    "df_dummizado = pd.get_dummies(df_dummizado, columns=['tender.awardCriteriaDetails']) # Cardinalidad baja\n",
    "df_dummizado = pd.get_dummies(df_dummizado, columns=['tender.statusDetails']) # Cardinalidad baja\n",
    "df_dummizado = pd.get_dummies(df_dummizado, columns=['tender.hasEnquiries']) # Cardinalidad baja\n",
    "df_dummizado = pd.get_dummies(df_dummizado, columns=['tender.value.currency']) # Cardinalidad baja\n",
    "df_dummizado = pd.get_dummies(df_dummizado, columns=['tender.mainProcurementCategory']) # Cardinalidad baja\n",
    "df_dummizado = pd.get_dummies(df_dummizado, columns=['tender.procurementMethod']) # Cardinalidad baja\n",
    "df_dummizado = pd.get_dummies(df_dummizado, columns=['tender.procurementMethodRationale']) # Cardinalidad baja\n",
    "df_dummizado = pd.get_dummies(df_dummizado, columns=['tender.procurementIntention.rationale']) # Cardinalidad baja\n",
    "df_dummizado = pd.get_dummies(df_dummizado, columns=['planning.budget.amount.currency']) # Cardinalidad baja\n",
    "\n",
    "df_dummizado = pd.get_dummies(df_dummizado, columns=['tender.procurementIntention.status']) # Cardinalidad baja\n",
    "df_dummizado = pd.get_dummies(df_dummizado, columns=['tender.procurementIntention.statusDetails']) # Cardinalidad baja\n",
    "\n",
    "\n",
    "#Dates\n",
    "df_dummizado['tender.bidOpening.date.month'] = pd.to_datetime(df_dummizado['tender.bidOpening.date'], format='%Y-%m-%dT%H:%M:%S-04:00').dt.month\n",
    "df_dummizado['tender.bidOpening.date.year'] = pd.to_datetime(df_dummizado['tender.bidOpening.date'], format='%Y-%m-%dT%H:%M:%S-04:00').dt.year\n",
    "df_dummizado['tender.bidOpening.date.yearmonth'] = pd.to_datetime(df_dummizado['tender.bidOpening.date'], format='%Y-%m-%dT%H:%M:%S-04:00').dt.strftime('%Y%m')\n",
    "\n",
    "df_dummizado['tender.datePublished.month'] = pd.to_datetime(df_dummizado['tender.datePublished'], format='%Y-%m-%dT%H:%M:%S-04:00').dt.month\n",
    "df_dummizado['tender.datePublished.year'] = pd.to_datetime(df_dummizado['tender.datePublished'], format='%Y-%m-%dT%H:%M:%S-04:00').dt.year\n",
    "df_dummizado['tender.datePublished.yearmonth'] = pd.to_datetime(df_dummizado['tender.datePublished'], format='%Y-%m-%dT%H:%M:%S-04:00').dt.strftime('%Y%m')\n",
    "\n",
    "df_dummizado['tender.tenderPeriod.startDate.month'] = pd.to_datetime(df_dummizado['tender.tenderPeriod.startDate'], format='%Y-%m-%dT%H:%M:%S-04:00').dt.month\n",
    "df_dummizado['tender.tenderPeriod.startDate.year'] = pd.to_datetime(df_dummizado['tender.tenderPeriod.startDate'], format='%Y-%m-%dT%H:%M:%S-04:00').dt.year\n",
    "df_dummizado['tender.tenderPeriod.startDate.yearmonth'] = pd.to_datetime(df_dummizado['tender.tenderPeriod.startDate'], format='%Y-%m-%dT%H:%M:%S-04:00').dt.strftime('%Y%m')\n",
    "\n",
    "df_dummizado['tender.tenderPeriod.endDate.month'] = pd.to_datetime(df_dummizado['tender.tenderPeriod.startDate'], format='%Y-%m-%dT%H:%M:%S-04:00').dt.month\n",
    "df_dummizado['tender.tenderPeriod.endDate.year'] = pd.to_datetime(df_dummizado['tender.tenderPeriod.startDate'], format='%Y-%m-%dT%H:%M:%S-04:00').dt.year\n",
    "df_dummizado['tender.tenderPeriod.endDate.yearmonth'] = pd.to_datetime(df_dummizado['tender.tenderPeriod.startDate'], format='%Y-%m-%dT%H:%M:%S-04:00').dt.strftime('%Y%m')\n",
    "\n",
    "df_dummizado['tender.awardPeriod.startDate.month'] = pd.to_datetime(df_dummizado['tender.awardPeriod.startDate'], format='%Y-%m-%dT%H:%M:%S-04:00').dt.month\n",
    "df_dummizado['tender.awardPeriod.startDate.year'] = pd.to_datetime(df_dummizado['tender.awardPeriod.startDate'], format='%Y-%m-%dT%H:%M:%S-04:00').dt.year\n",
    "df_dummizado['tender.awardPeriod.startDate.yearmonth'] = pd.to_datetime(df_dummizado['tender.awardPeriod.startDate'], format='%Y-%m-%dT%H:%M:%S-04:00').dt.strftime('%Y%m')\n",
    "\n",
    "df_dummizado['tender.enquiryPeriod.endDate.month'] = pd.to_datetime(df_dummizado['tender.enquiryPeriod.endDate'], format='%Y-%m-%dT%H:%M:%S-04:00').dt.month\n",
    "df_dummizado['tender.enquiryPeriod.endDate.year'] = pd.to_datetime(df_dummizado['tender.enquiryPeriod.endDate'], format='%Y-%m-%dT%H:%M:%S-04:00').dt.year\n",
    "df_dummizado['tender.enquiryPeriod.endDate.yearmonth'] = pd.to_datetime(df_dummizado['tender.enquiryPeriod.endDate'], format='%Y-%m-%dT%H:%M:%S-04:00').dt.strftime('%Y%m')\n",
    "\n",
    "df_dummizado['tender.enquiryPeriod.startDate.month'] = pd.to_datetime(df_dummizado['tender.enquiryPeriod.startDate'], format='%Y-%m-%dT%H:%M:%S-04:00').dt.month\n",
    "df_dummizado['tender.enquiryPeriod.startDate.year'] = pd.to_datetime(df_dummizado['tender.enquiryPeriod.startDate'], format='%Y-%m-%dT%H:%M:%S-04:00').dt.year\n",
    "df_dummizado['tender.enquiryPeriod.startDate.yearmonth'] = pd.to_datetime(df_dummizado['tender.enquiryPeriod.startDate'], format='%Y-%m-%dT%H:%M:%S-04:00').dt.strftime('%Y%m')\n",
    "\n",
    "df_dummizado['planning.estimatedDate.month'] = pd.to_datetime(df_dummizado['planning.estimatedDate'], format='%Y-%m-%dT%H:%M:%S-04:00').dt.month\n",
    "df_dummizado['planning.estimatedDate.year'] = pd.to_datetime(df_dummizado['planning.estimatedDate'], format='%Y-%m-%dT%H:%M:%S-04:00').dt.year\n",
    "df_dummizado['planning.estimatedDate.yearmonth'] = pd.to_datetime(df_dummizado['planning.estimatedDate'], format='%Y-%m-%dT%H:%M:%S-04:00').dt.strftime('%Y%m')\n",
    "# Dropeando data interesante (Despues ver como procesar, son datos practicamente unicos)\n",
    "df_dummizado = df_dummizado.drop(['tender.title', 'tender.submissionMethodDetails', 'tender.eligibilityCriteria', 'tender.mainProcurementCategoryDetails', 'planning.budget.description', ], axis=1)\n",
    "\n",
    "# Dropeando por cardinalidad alta? Datos no 100% unicos por cada row\n",
    "df_dummizado = df_dummizado.drop(['tender.procurementMethodDetails', 'tender.procuringEntity.id', 'tender.procuringEntity.name', 'buyer.id', 'buyer.name', \n",
    "\t'tender.procurementIntention.procuringEntity.id', 'tender.procurementIntention.procuringEntity.name', 'secondStage.id',\n",
    "], axis=1)\n"
   ]
  },
  {
   "cell_type": "code",
   "execution_count": 77,
   "metadata": {},
   "outputs": [],
   "source": [
    "#Dropeando dates\n",
    "df_dummizado = df_dummizado.drop(['tender.bidOpening.date',\n",
    "\t'tender.datePublished', 'tender.tenderPeriod.startDate', 'tender.tenderPeriod.endDate', 'tender.awardPeriod.startDate','tender.enquiryPeriod.endDate','tender.enquiryPeriod.startDate',\n",
    "    'date', 'planning.estimatedDate', \n",
    "    'tender.contractPeriod.maxExtentDate', # Hay solo 7000\n",
    "    'tender.procurementIntention.startDate', 'tender.procurementIntention.publishedDate', #Hay solo 1200 en todo el dataset\n",
    "\t'tender.contractPeriod.startDate', 'tender.contractPeriod.endDate' # Hay solo 35 datos en todo el dataset\n",
    "], axis= 1)\n",
    "\n",
    "# Otras conversiones\n",
    "df_dummizado['tender.techniques.hasElectronicAuction'] = np.where(df_dummizado['tender.techniques.hasElectronicAuction'] == True, 1, 0)"
   ]
  },
  {
   "cell_type": "code",
   "execution_count": 78,
   "metadata": {},
   "outputs": [],
   "source": [
    "df_dummizado['tender.bidOpening.date.month'].fillna(0, inplace=True)\n",
    "df_dummizado['tender.bidOpening.date.year'].fillna(0, inplace=True)\n",
    "df_dummizado['tender.bidOpening.date.yearmonth'].fillna(0, inplace=True)\n",
    "\n",
    "df_dummizado['tender.enquiryPeriod.endDate.month'].fillna(0, inplace=True)\n",
    "df_dummizado['tender.enquiryPeriod.endDate.year'].fillna(0, inplace=True)\n",
    "df_dummizado['tender.enquiryPeriod.endDate.yearmonth'].fillna(0, inplace=True)\n",
    "df_dummizado['tender.enquiryPeriod.startDate.month'].fillna(0, inplace=True)\n",
    "df_dummizado['tender.enquiryPeriod.startDate.year'].fillna(0, inplace=True)\n",
    "df_dummizado['tender.enquiryPeriod.startDate.yearmonth'].fillna(0, inplace=True)\n",
    "df_dummizado['tender.tenderPeriod.startDate.month'].fillna(0, inplace=True)\n",
    "df_dummizado['tender.tenderPeriod.startDate.year'].fillna(0, inplace=True)\n",
    "df_dummizado['tender.tenderPeriod.startDate.yearmonth'].fillna(0, inplace=True)\n",
    "df_dummizado['tender.tenderPeriod.endDate.month'].fillna(0, inplace=True)\n",
    "df_dummizado['tender.tenderPeriod.endDate.year'].fillna(0, inplace=True)\n",
    "df_dummizado['tender.tenderPeriod.endDate.yearmonth'].fillna(0, inplace=True)\n",
    "df_dummizado['tender.awardPeriod.startDate.month'].fillna(0, inplace=True)\n",
    "df_dummizado['tender.awardPeriod.startDate.year'].fillna(0, inplace=True)\n",
    "df_dummizado['tender.awardPeriod.startDate.yearmonth'].fillna(0, inplace=True)\n",
    "df_dummizado['tender.datePublished.month'].fillna(0, inplace=True)\n",
    "df_dummizado['tender.datePublished.year'].fillna(0, inplace=True)\n",
    "df_dummizado['tender.datePublished.yearmonth'].fillna(0, inplace=True)\n",
    "df_dummizado['planning.estimatedDate.month'].fillna(0, inplace=True)\n",
    "df_dummizado['planning.estimatedDate.year'].fillna(0, inplace=True)\n",
    "df_dummizado['planning.estimatedDate.yearmonth'].fillna(0, inplace=True)\n",
    "df_dummizado['planning.identifier'] = df_dummizado['planning.identifier'].fillna(0)\n",
    "\n",
    "df_dummizado['tender.numberOfTenderers'].fillna(1, inplace=True)\n",
    "df_dummizado['tender.techniques.hasElectronicAuction'] = df_dummizado['tender.techniques.hasElectronicAuction'].fillna(False)\n",
    "# df_dummizado['tender.value.amount'].fillna(df_dummizado['tender.value.amount'].mean(), inplace=True)\n",
    "\n",
    "df_dummizado['planning.budget.amount.amount'].fillna(df_dummizado['tender.value.amount'], inplace=True)\n"
   ]
  },
  {
   "cell_type": "code",
   "execution_count": 85,
   "metadata": {},
   "outputs": [
    {
     "data": {
      "text/plain": [
       "(89675, 785)"
      ]
     },
     "execution_count": 85,
     "metadata": {},
     "output_type": "execute_result"
    }
   ],
   "source": [
    "df_dummizado_up_to_2023 = df_dummizado[df_dummizado['date.year'] < 2023]\n",
    "df_dummizado_up_to_2023.shape"
   ]
  },
  {
   "cell_type": "code",
   "execution_count": 86,
   "metadata": {},
   "outputs": [
    {
     "data": {
      "text/plain": [
       "(10769, 785)"
      ]
     },
     "execution_count": 86,
     "metadata": {},
     "output_type": "execute_result"
    }
   ],
   "source": [
    "df_dummizado_from_2023 = df_dummizado[df_dummizado['date.year'] >= 2023]\n",
    "df_dummizado_from_2023.shape"
   ]
  },
  {
   "cell_type": "code",
   "execution_count": 87,
   "metadata": {},
   "outputs": [
    {
     "data": {
      "text/plain": [
       "0.10763206976198417"
      ]
     },
     "execution_count": 87,
     "metadata": {},
     "output_type": "execute_result"
    }
   ],
   "source": [
    "df_complaints = df_dummizado_up_to_2023[(df_dummizado_up_to_2023[y_col_name] == True)]\n",
    "df_no_complaints = df_dummizado_up_to_2023[(df_dummizado_up_to_2023[y_col_name] == False)]\n",
    "# PERCENTAGE OF COMPLAINTS / NO COMPLAINTS\n",
    "(df_complaints.shape[0] * 1) / df_no_complaints.shape[0]"
   ]
  },
  {
   "attachments": {},
   "cell_type": "markdown",
   "metadata": {},
   "source": [
    "## SMOTE BALANCING"
   ]
  },
  {
   "cell_type": "code",
   "execution_count": 88,
   "metadata": {},
   "outputs": [
    {
     "name": "stdout",
     "output_type": "stream",
     "text": [
      "Original dataset shape Counter({False: 80961, True: 8714})\n"
     ]
    },
    {
     "name": "stderr",
     "output_type": "stream",
     "text": [
      "/opt/homebrew/lib/python3.11/site-packages/sklearn/utils/extmath.py:153: RuntimeWarning: invalid value encountered in matmul\n",
      "  ret = a @ b\n"
     ]
    },
    {
     "name": "stdout",
     "output_type": "stream",
     "text": [
      "Resampled dataset shape Counter({False: 80961, True: 24288})\n"
     ]
    }
   ],
   "source": [
    "from imblearn.over_sampling import SMOTE\n",
    "from collections import Counter\n",
    "X = df_dummizado_up_to_2023.drop(y_col_name, axis=1)  # Features (all columns except 'target')\n",
    "y = df_dummizado_up_to_2023[y_col_name]  # Target variable\n",
    "print('Original dataset shape %s' % Counter(y))\n",
    "#https://imbalanced-learn.org/stable/references/generated/imblearn.over_sampling.SMOTE.html#examples-using-imblearn-over-sampling-smote\n",
    "smote = SMOTE(random_state=24, sampling_strategy= 0.30)\n",
    "#TODO: Experimentacion empirica con el sampling_strategy, mantener demas parametros fijos (Analisis de sensibilidad)\n",
    "X_resampled, y_resampled = smote.fit_resample(X, y)\n",
    "print('Resampled dataset shape %s' % Counter(y_resampled))"
   ]
  },
  {
   "cell_type": "code",
   "execution_count": 89,
   "metadata": {},
   "outputs": [],
   "source": [
    "df_dummizado_from_2023.to_csv('df_dummizado_from_2023.csv', index=False, encoding='utf-8')"
   ]
  },
  {
   "cell_type": "code",
   "execution_count": 90,
   "metadata": {},
   "outputs": [],
   "source": [
    "resampled_df = pd.concat([X_resampled, y_resampled], axis=1, join=\"inner\")\n",
    "resampled_df.to_csv('balanced_output_30.csv', index = False, encoding='utf-8') # False: not include index"
   ]
  },
  {
   "attachments": {},
   "cell_type": "markdown",
   "metadata": {},
   "source": [
    "## USEFUL FUNCTIONS"
   ]
  },
  {
   "cell_type": "code",
   "execution_count": 26,
   "metadata": {},
   "outputs": [],
   "source": [
    "# TO CSV EXAMPLE\n",
    "\n",
    "X_resampled.to_csv('ouput_x.csv', index = False, encoding='utf-8') # False: not include index\n",
    "y_resampled.to_csv('ouput_y.csv', index = False, encoding='utf-8') # False: not include index\n",
    "# print(df)"
   ]
  },
  {
   "cell_type": "code",
   "execution_count": null,
   "metadata": {},
   "outputs": [],
   "source": [
    "# GROUP BY EXAMPLE\n",
    "gkk = df_dummizado[df_dummizado['Protestas'] == True].groupby(['date.yearmonth'], dropna=False)\n",
    "# df = df_dummizado[df_dummizado]\n",
    "# gkk = df_dummizado.groupby(['date.year'], dropna=False)\n",
    "# with pd.option_context('display.max_rows', None, 'display.max_columns', None):  # more options can be specified also\n",
    "# pd.set_option('display.max_rows', None)\n",
    "gkk.count()"
   ]
  },
  {
   "cell_type": "code",
   "execution_count": 14,
   "metadata": {},
   "outputs": [],
   "source": [
    "gkk = df_completo.groupby(['ocid'], dropna=False)\n",
    "gkk.count()"
   ]
  },
  {
   "cell_type": "code",
   "execution_count": 1,
   "metadata": {},
   "outputs": [
    {
     "ename": "NameError",
     "evalue": "name 'pd' is not defined",
     "output_type": "error",
     "traceback": [
      "\u001b[0;31m---------------------------------------------------------------------------\u001b[0m",
      "\u001b[0;31mNameError\u001b[0m                                 Traceback (most recent call last)",
      "Cell \u001b[0;32mIn[1], line 6\u001b[0m\n\u001b[1;32m      1\u001b[0m \u001b[39m#VERIFICAR VALORES NAN EN DUMMIZADO\u001b[39;00m\n\u001b[1;32m      2\u001b[0m \n\u001b[1;32m      3\u001b[0m \u001b[39m# list(df_dummizado.columns)\u001b[39;00m\n\u001b[1;32m      4\u001b[0m \u001b[39m# df_dummizado.isna().mean().round(4) * 100\u001b[39;00m\n\u001b[1;32m      5\u001b[0m \u001b[39m# with pd.option_context('display.max_rows', None, 'display.max_columns', None):  # more options can be specified also\u001b[39;00m\n\u001b[0;32m----> 6\u001b[0m pd\u001b[39m.\u001b[39mset_option(\u001b[39m'\u001b[39m\u001b[39mdisplay.max_columns\u001b[39m\u001b[39m'\u001b[39m, \u001b[39mNone\u001b[39;00m)  \u001b[39m# or 1000\u001b[39;00m\n\u001b[1;32m      7\u001b[0m pd\u001b[39m.\u001b[39mset_option(\u001b[39m'\u001b[39m\u001b[39mdisplay.max_rows\u001b[39m\u001b[39m'\u001b[39m, \u001b[39mNone\u001b[39;00m)  \u001b[39m# or 1000\u001b[39;00m\n\u001b[1;32m      8\u001b[0m df_dummizado\u001b[39m.\u001b[39misna()\u001b[39m.\u001b[39msum()\n",
      "\u001b[0;31mNameError\u001b[0m: name 'pd' is not defined"
     ]
    }
   ],
   "source": [
    "#VERIFICAR VALORES NAN EN DUMMIZADO\n",
    "\n",
    "# list(df_dummizado.columns)\n",
    "# df_dummizado.isna().mean().round(4) * 100\n",
    "# with pd.option_context('display.max_rows', None, 'display.max_columns', None):  # more options can be specified also\n",
    "pd.set_option('display.max_columns', None)  # or 1000\n",
    "pd.set_option('display.max_rows', None)  # or 1000\n",
    "df_dummizado.isna().sum()"
   ]
  }
 ],
 "metadata": {
  "kernelspec": {
   "display_name": "Python 3",
   "language": "python",
   "name": "python3"
  },
  "language_info": {
   "codemirror_mode": {
    "name": "ipython",
    "version": 3
   },
   "file_extension": ".py",
   "mimetype": "text/x-python",
   "name": "python",
   "nbconvert_exporter": "python",
   "pygments_lexer": "ipython3",
   "version": "3.11.4"
  },
  "orig_nbformat": 4
 },
 "nbformat": 4,
 "nbformat_minor": 2
}
