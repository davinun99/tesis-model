{
 "cells": [
  {
   "attachments": {},
   "cell_type": "markdown",
   "metadata": {},
   "source": [
    "## DATASET CLEANING AND TRANSFORM"
   ]
  },
  {
   "cell_type": "code",
   "execution_count": 41,
   "metadata": {},
   "outputs": [],
   "source": [
    "PARAMETERS = {\n",
    "\t'BALANCE_RATIO': 0.145,\n",
    "\t'DOWNLOAD_FROM_DRIVE': False,\n",
    "\t'INSTALL_LIBS': False,\n",
    "\t'CLASS_COL_NAME': 'Protestas',\n",
    "\t'START_YEAR': 2016,\n",
    "\t'BALANCED_OUPUT_FILE_NAME': 'balanced_output_145.csv',\n",
    "\t'TEST_2023_FILE_NAME': 'test_2023.csv',\n",
    "}"
   ]
  },
  {
   "cell_type": "code",
   "execution_count": 42,
   "metadata": {},
   "outputs": [],
   "source": [
    "if(PARAMETERS['INSTALL_LIBS']):\n",
    "\t%pip install -U imbalanced-learn\n",
    "\t%pip install scikit-learn==1.0.2"
   ]
  },
  {
   "cell_type": "code",
   "execution_count": 43,
   "metadata": {},
   "outputs": [],
   "source": [
    "import pandas as pd\n",
    "import numpy as np\n",
    "pd.set_option('display.max_columns', None) #MOSTRAR TODAS LAS COLUMNAS\n",
    "y_col_name = PARAMETERS['CLASS_COL_NAME']"
   ]
  },
  {
   "cell_type": "code",
   "execution_count": 44,
   "metadata": {},
   "outputs": [],
   "source": [
    "if(PARAMETERS['DOWNLOAD_FROM_DRIVE']):\n",
    "\t!gdown --id 1-tNBUCWFU0_b9QW6ie4Vvfs7eb4WbIPY\n",
    "\t# https://drive.google.com/file/d/1-tNBUCWFU0_b9QW6ie4Vvfs7eb4WbIPY/view?usp=share_link\n",
    "\t!gdown --id 11eGwBDC3FoJh8eanfpYXFAS-3SZ6vNnO\n",
    "\t#https://drive.google.com/file/d/11eGwBDC3FoJh8eanfpYXFAS-3SZ6vNnO/view?usp=sharing"
   ]
  },
  {
   "cell_type": "code",
   "execution_count": 45,
   "metadata": {},
   "outputs": [
    {
     "name": "stderr",
     "output_type": "stream",
     "text": [
      "/var/folders/0s/ngx4k9892vv59rf4q5h1h4w00000gn/T/ipykernel_1747/2578874532.py:1: ParserWarning: Falling back to the 'python' engine because the 'c' engine does not support regex separators (separators > 1 char and different from '\\s+' are interpreted as regex); you can avoid this warning by specifying engine='python'.\n",
      "  df_completo = pd.read_csv('TestBalanceo1.csv', sep=\";;;\", index_col=False)\n"
     ]
    }
   ],
   "source": [
    "df_completo = pd.read_csv('TestBalanceo1.csv', sep=\";;;\", index_col=False)\n",
    "df_banderas_completo = pd.read_csv('OcidConBanderas.csv', sep=\";\", index_col=False)\n",
    "df_banderas_completo.drop(['Unnamed: 10'], inplace=True, axis=1)\n",
    "df_completo = df_completo.merge(df_banderas_completo, left_on='ocid', right_on='id', how='left')"
   ]
  },
  {
   "cell_type": "code",
   "execution_count": 46,
   "metadata": {},
   "outputs": [],
   "source": [
    "df_completo_filtered = df_completo[df_completo['tender.value.amount'].notna()]\n",
    "df_completo_filtered = df_completo_filtered[df_completo_filtered['tender.tenderPeriod.durationInDays'].notna()]\n",
    "df_completo_filtered = df_completo_filtered[df_completo_filtered['tender.enquiryPeriod.durationInDays'].notna()]\n",
    "# df_dummizado['tender.tenderPeriod.durationInDays'].fillna(df_dummizado['tender.tenderPeriod.durationInDays'].mean(), inplace=True)\n",
    "# df_dummizado['tender.enquiryPeriod.durationInDays'].fillna(df_dummizado['tender.enquiryPeriod.durationInDays'].mean(), inplace=True)"
   ]
  },
  {
   "cell_type": "code",
   "execution_count": 47,
   "metadata": {},
   "outputs": [],
   "source": [
    "#Drop columns\n",
    "df_dummizado = df_completo_filtered.drop(['ocid', 'id_x', 'id_y', 'tender.id', # Dropeamos por que son IDs\n",
    "    'tender.bidOpening.address.streetAddress', 'tender.enquiriesAddress.streetAddress', #Dropeamos por que son direcciones, creemos que no tienen valor\n",
    "    'ocid.1', 'tender.procurementIntention.uri', # URL y id\n",
    "    'tender.procurementIntention.description', #Descripcion\n",
    "    'tender.procurementIntention.category', # Dropeamos porque ya esta la info en otra columna\n",
    "    'tender.procurementIntention.title', #Titulo, practicamente todos son unicos\n",
    "    'initiationType', #Todos tienen el mismo valor (tender)\n",
    "    'tender.procurementIntention.id', # Ver vien por que dropeamos\n",
    "    'tag', #Todos tienen el mismo valor (compiled)\n",
    "    'language', #Todos tienen el mismo valor (es)\n",
    "    'tender.techniques.hasFrameworkAgreement', #Solo 48 rows con datos, no vale la pena\n",
    "    # 'Protestas', #Tiene info del resultado\n",
    "\t'tender.contractPeriod.durationInDays',\n",
    "\t'has_complaint',\n",
    "], axis=1)\n",
    "\n",
    "df_dummizado['date.month'] = pd.to_datetime(df_dummizado['date'], format='%Y-%m-%dT%H:%M:%S-04:00').dt.month\n",
    "df_dummizado['date.year'] = pd.to_datetime(df_dummizado['date'], format='%Y-%m-%dT%H:%M:%S-04:00').dt.year\n",
    "df_dummizado['date.yearmonth'] = pd.to_datetime(df_dummizado['date'], format='%Y-%m-%dT%H:%M:%S-04:00').dt.strftime('%Y%m')"
   ]
  },
  {
   "cell_type": "code",
   "execution_count": 48,
   "metadata": {},
   "outputs": [],
   "source": [
    "df_dummizado = df_dummizado[df_dummizado['date.year'] >= PARAMETERS['START_YEAR']] #JUST USING 2016 onwards"
   ]
  },
  {
   "cell_type": "code",
   "execution_count": 49,
   "metadata": {},
   "outputs": [],
   "source": [
    "#Dummies\n",
    "df_dummizado = pd.get_dummies(df_dummizado, columns=['tender.status']) # Cardinalidad baja\n",
    "df_dummizado = pd.get_dummies(df_dummizado, columns=['tender.awardCriteria']) # Cardinalidad baja\n",
    "df_dummizado = pd.get_dummies(df_dummizado, columns=['tender.awardCriteriaDetails']) # Cardinalidad baja\n",
    "df_dummizado = pd.get_dummies(df_dummizado, columns=['tender.statusDetails']) # Cardinalidad baja\n",
    "df_dummizado = pd.get_dummies(df_dummizado, columns=['tender.hasEnquiries']) # Cardinalidad baja\n",
    "df_dummizado = pd.get_dummies(df_dummizado, columns=['tender.value.currency']) # Cardinalidad baja\n",
    "df_dummizado = pd.get_dummies(df_dummizado, columns=['tender.mainProcurementCategory']) # Cardinalidad baja\n",
    "df_dummizado = pd.get_dummies(df_dummizado, columns=['tender.procurementMethod']) # Cardinalidad baja\n",
    "df_dummizado = pd.get_dummies(df_dummizado, columns=['tender.procurementMethodRationale']) # Cardinalidad baja\n",
    "df_dummizado = pd.get_dummies(df_dummizado, columns=['tender.procurementIntention.rationale']) # Cardinalidad baja\n",
    "df_dummizado = pd.get_dummies(df_dummizado, columns=['planning.budget.amount.currency']) # Cardinalidad baja\n",
    "\n",
    "df_dummizado = pd.get_dummies(df_dummizado, columns=['tender.procurementIntention.status']) # Cardinalidad baja\n",
    "df_dummizado = pd.get_dummies(df_dummizado, columns=['tender.procurementIntention.statusDetails']) # Cardinalidad baja\n",
    "\n",
    "\n",
    "#Dates\n",
    "df_dummizado['tender.bidOpening.date.month'] = pd.to_datetime(df_dummizado['tender.bidOpening.date'], format='%Y-%m-%dT%H:%M:%S-04:00').dt.month\n",
    "df_dummizado['tender.bidOpening.date.year'] = pd.to_datetime(df_dummizado['tender.bidOpening.date'], format='%Y-%m-%dT%H:%M:%S-04:00').dt.year\n",
    "df_dummizado['tender.bidOpening.date.yearmonth'] = pd.to_datetime(df_dummizado['tender.bidOpening.date'], format='%Y-%m-%dT%H:%M:%S-04:00').dt.strftime('%Y%m')\n",
    "\n",
    "df_dummizado['tender.datePublished.month'] = pd.to_datetime(df_dummizado['tender.datePublished'], format='%Y-%m-%dT%H:%M:%S-04:00').dt.month\n",
    "df_dummizado['tender.datePublished.year'] = pd.to_datetime(df_dummizado['tender.datePublished'], format='%Y-%m-%dT%H:%M:%S-04:00').dt.year\n",
    "df_dummizado['tender.datePublished.yearmonth'] = pd.to_datetime(df_dummizado['tender.datePublished'], format='%Y-%m-%dT%H:%M:%S-04:00').dt.strftime('%Y%m')\n",
    "\n",
    "df_dummizado['tender.tenderPeriod.startDate.month'] = pd.to_datetime(df_dummizado['tender.tenderPeriod.startDate'], format='%Y-%m-%dT%H:%M:%S-04:00').dt.month\n",
    "df_dummizado['tender.tenderPeriod.startDate.year'] = pd.to_datetime(df_dummizado['tender.tenderPeriod.startDate'], format='%Y-%m-%dT%H:%M:%S-04:00').dt.year\n",
    "df_dummizado['tender.tenderPeriod.startDate.yearmonth'] = pd.to_datetime(df_dummizado['tender.tenderPeriod.startDate'], format='%Y-%m-%dT%H:%M:%S-04:00').dt.strftime('%Y%m')\n",
    "\n",
    "df_dummizado['tender.tenderPeriod.endDate.month'] = pd.to_datetime(df_dummizado['tender.tenderPeriod.startDate'], format='%Y-%m-%dT%H:%M:%S-04:00').dt.month\n",
    "df_dummizado['tender.tenderPeriod.endDate.year'] = pd.to_datetime(df_dummizado['tender.tenderPeriod.startDate'], format='%Y-%m-%dT%H:%M:%S-04:00').dt.year\n",
    "df_dummizado['tender.tenderPeriod.endDate.yearmonth'] = pd.to_datetime(df_dummizado['tender.tenderPeriod.startDate'], format='%Y-%m-%dT%H:%M:%S-04:00').dt.strftime('%Y%m')\n",
    "\n",
    "df_dummizado['tender.awardPeriod.startDate.month'] = pd.to_datetime(df_dummizado['tender.awardPeriod.startDate'], format='%Y-%m-%dT%H:%M:%S-04:00').dt.month\n",
    "df_dummizado['tender.awardPeriod.startDate.year'] = pd.to_datetime(df_dummizado['tender.awardPeriod.startDate'], format='%Y-%m-%dT%H:%M:%S-04:00').dt.year\n",
    "df_dummizado['tender.awardPeriod.startDate.yearmonth'] = pd.to_datetime(df_dummizado['tender.awardPeriod.startDate'], format='%Y-%m-%dT%H:%M:%S-04:00').dt.strftime('%Y%m')\n",
    "\n",
    "df_dummizado['tender.enquiryPeriod.endDate.month'] = pd.to_datetime(df_dummizado['tender.enquiryPeriod.endDate'], format='%Y-%m-%dT%H:%M:%S-04:00').dt.month\n",
    "df_dummizado['tender.enquiryPeriod.endDate.year'] = pd.to_datetime(df_dummizado['tender.enquiryPeriod.endDate'], format='%Y-%m-%dT%H:%M:%S-04:00').dt.year\n",
    "df_dummizado['tender.enquiryPeriod.endDate.yearmonth'] = pd.to_datetime(df_dummizado['tender.enquiryPeriod.endDate'], format='%Y-%m-%dT%H:%M:%S-04:00').dt.strftime('%Y%m')\n",
    "\n",
    "df_dummizado['tender.enquiryPeriod.startDate.month'] = pd.to_datetime(df_dummizado['tender.enquiryPeriod.startDate'], format='%Y-%m-%dT%H:%M:%S-04:00').dt.month\n",
    "df_dummizado['tender.enquiryPeriod.startDate.year'] = pd.to_datetime(df_dummizado['tender.enquiryPeriod.startDate'], format='%Y-%m-%dT%H:%M:%S-04:00').dt.year\n",
    "df_dummizado['tender.enquiryPeriod.startDate.yearmonth'] = pd.to_datetime(df_dummizado['tender.enquiryPeriod.startDate'], format='%Y-%m-%dT%H:%M:%S-04:00').dt.strftime('%Y%m')\n",
    "\n",
    "df_dummizado['planning.estimatedDate.month'] = pd.to_datetime(df_dummizado['planning.estimatedDate'], format='%Y-%m-%dT%H:%M:%S-04:00').dt.month\n",
    "df_dummizado['planning.estimatedDate.year'] = pd.to_datetime(df_dummizado['planning.estimatedDate'], format='%Y-%m-%dT%H:%M:%S-04:00').dt.year\n",
    "df_dummizado['planning.estimatedDate.yearmonth'] = pd.to_datetime(df_dummizado['planning.estimatedDate'], format='%Y-%m-%dT%H:%M:%S-04:00').dt.strftime('%Y%m')\n",
    "# Dropeando data interesante (Despues ver como procesar, son datos practicamente unicos)\n",
    "df_dummizado = df_dummizado.drop(['tender.title', 'tender.submissionMethodDetails', 'tender.eligibilityCriteria', 'tender.mainProcurementCategoryDetails', 'planning.budget.description', ], axis=1)\n",
    "\n",
    "# Dropeando por cardinalidad alta? Datos no 100% unicos por cada row\n",
    "df_dummizado = df_dummizado.drop(['tender.procurementMethodDetails', 'tender.procuringEntity.id', 'tender.procuringEntity.name', 'buyer.id', 'buyer.name', \n",
    "\t'tender.procurementIntention.procuringEntity.id', 'tender.procurementIntention.procuringEntity.name', 'secondStage.id',\n",
    "], axis=1)\n"
   ]
  },
  {
   "cell_type": "code",
   "execution_count": 50,
   "metadata": {},
   "outputs": [],
   "source": [
    "#Dropeando dates\n",
    "df_dummizado = df_dummizado.drop(['tender.bidOpening.date',\n",
    "\t'tender.datePublished', 'tender.tenderPeriod.startDate', 'tender.tenderPeriod.endDate', 'tender.awardPeriod.startDate','tender.enquiryPeriod.endDate','tender.enquiryPeriod.startDate',\n",
    "    'date', 'planning.estimatedDate', \n",
    "    'tender.contractPeriod.maxExtentDate', # Hay solo 7000\n",
    "    'tender.procurementIntention.startDate', 'tender.procurementIntention.publishedDate', #Hay solo 1200 en todo el dataset\n",
    "\t'tender.contractPeriod.startDate', 'tender.contractPeriod.endDate' # Hay solo 35 datos en todo el dataset\n",
    "], axis= 1)\n",
    "\n",
    "# Otras conversiones\n",
    "df_dummizado['tender.techniques.hasElectronicAuction'] = np.where(df_dummizado['tender.techniques.hasElectronicAuction'] == True, 1, 0)"
   ]
  },
  {
   "cell_type": "code",
   "execution_count": 51,
   "metadata": {},
   "outputs": [],
   "source": [
    "df_dummizado['tender.bidOpening.date.month'].fillna(0, inplace=True)\n",
    "df_dummizado['tender.bidOpening.date.year'].fillna(0, inplace=True)\n",
    "df_dummizado['tender.bidOpening.date.yearmonth'].fillna(0, inplace=True)\n",
    "\n",
    "df_dummizado['tender.enquiryPeriod.endDate.month'].fillna(0, inplace=True)\n",
    "df_dummizado['tender.enquiryPeriod.endDate.year'].fillna(0, inplace=True)\n",
    "df_dummizado['tender.enquiryPeriod.endDate.yearmonth'].fillna(0, inplace=True)\n",
    "df_dummizado['tender.enquiryPeriod.startDate.month'].fillna(0, inplace=True)\n",
    "df_dummizado['tender.enquiryPeriod.startDate.year'].fillna(0, inplace=True)\n",
    "df_dummizado['tender.enquiryPeriod.startDate.yearmonth'].fillna(0, inplace=True)\n",
    "df_dummizado['tender.tenderPeriod.startDate.month'].fillna(0, inplace=True)\n",
    "df_dummizado['tender.tenderPeriod.startDate.year'].fillna(0, inplace=True)\n",
    "df_dummizado['tender.tenderPeriod.startDate.yearmonth'].fillna(0, inplace=True)\n",
    "df_dummizado['tender.tenderPeriod.endDate.month'].fillna(0, inplace=True)\n",
    "df_dummizado['tender.tenderPeriod.endDate.year'].fillna(0, inplace=True)\n",
    "df_dummizado['tender.tenderPeriod.endDate.yearmonth'].fillna(0, inplace=True)\n",
    "df_dummizado['tender.awardPeriod.startDate.month'].fillna(0, inplace=True)\n",
    "df_dummizado['tender.awardPeriod.startDate.year'].fillna(0, inplace=True)\n",
    "df_dummizado['tender.awardPeriod.startDate.yearmonth'].fillna(0, inplace=True)\n",
    "df_dummizado['tender.datePublished.month'].fillna(0, inplace=True)\n",
    "df_dummizado['tender.datePublished.year'].fillna(0, inplace=True)\n",
    "df_dummizado['tender.datePublished.yearmonth'].fillna(0, inplace=True)\n",
    "df_dummizado['planning.estimatedDate.month'].fillna(0, inplace=True)\n",
    "df_dummizado['planning.estimatedDate.year'].fillna(0, inplace=True)\n",
    "df_dummizado['planning.estimatedDate.yearmonth'].fillna(0, inplace=True)\n",
    "df_dummizado['planning.identifier'] = df_dummizado['planning.identifier'].fillna(0)\n",
    "\n",
    "df_dummizado['tender.numberOfTenderers'].fillna(1, inplace=True)\n",
    "df_dummizado['tender.techniques.hasElectronicAuction'] = df_dummizado['tender.techniques.hasElectronicAuction'].fillna(False)\n",
    "# df_dummizado['tender.value.amount'].fillna(df_dummizado['tender.value.amount'].mean(), inplace=True)\n",
    "\n",
    "df_dummizado['planning.budget.amount.amount'].fillna(df_dummizado['tender.value.amount'], inplace=True)\n"
   ]
  },
  {
   "cell_type": "code",
   "execution_count": 52,
   "metadata": {},
   "outputs": [
    {
     "data": {
      "text/plain": [
       "(89675, 785)"
      ]
     },
     "execution_count": 52,
     "metadata": {},
     "output_type": "execute_result"
    }
   ],
   "source": [
    "df_dummizado_up_to_2023 = df_dummizado[df_dummizado['date.year'] < 2023]\n",
    "df_dummizado_up_to_2023.shape"
   ]
  },
  {
   "cell_type": "code",
   "execution_count": 53,
   "metadata": {},
   "outputs": [
    {
     "data": {
      "text/plain": [
       "(10769, 785)"
      ]
     },
     "execution_count": 53,
     "metadata": {},
     "output_type": "execute_result"
    }
   ],
   "source": [
    "df_dummizado_from_2023 = df_dummizado[df_dummizado['date.year'] >= 2023]\n",
    "df_dummizado_from_2023.shape"
   ]
  },
  {
   "cell_type": "code",
   "execution_count": 54,
   "metadata": {},
   "outputs": [
    {
     "data": {
      "text/plain": [
       "0.10763206976198417"
      ]
     },
     "execution_count": 54,
     "metadata": {},
     "output_type": "execute_result"
    }
   ],
   "source": [
    "df_complaints = df_dummizado_up_to_2023[(df_dummizado_up_to_2023[y_col_name] == True)]\n",
    "df_no_complaints = df_dummizado_up_to_2023[(df_dummizado_up_to_2023[y_col_name] == False)]\n",
    "# PERCENTAGE OF COMPLAINTS / NO COMPLAINTS\n",
    "(df_complaints.shape[0] * 1) / df_no_complaints.shape[0]"
   ]
  },
  {
   "attachments": {},
   "cell_type": "markdown",
   "metadata": {},
   "source": [
    "## SMOTE BALANCING"
   ]
  },
  {
   "cell_type": "code",
   "execution_count": 55,
   "metadata": {},
   "outputs": [
    {
     "name": "stdout",
     "output_type": "stream",
     "text": [
      "Original dataset shape Counter({False: 80961, True: 8714})\n"
     ]
    },
    {
     "name": "stderr",
     "output_type": "stream",
     "text": [
      "/usr/local/lib/python3.10/site-packages/sklearn/utils/extmath.py:153: RuntimeWarning: invalid value encountered in matmul\n",
      "  ret = a @ b\n"
     ]
    },
    {
     "name": "stdout",
     "output_type": "stream",
     "text": [
      "Resampled dataset shape Counter({False: 80961, True: 11739})\n"
     ]
    }
   ],
   "source": [
    "from imblearn.over_sampling import SMOTE\n",
    "from collections import Counter\n",
    "X = df_dummizado_up_to_2023.drop(y_col_name, axis=1)  # Features (all columns except 'target')\n",
    "y = df_dummizado_up_to_2023[y_col_name]  # Target variable\n",
    "print('Original dataset shape %s' % Counter(y))\n",
    "#https://imbalanced-learn.org/stable/references/generated/imblearn.over_sampling.SMOTE.html#examples-using-imblearn-over-sampling-smote\n",
    "smote = SMOTE(random_state=24, sampling_strategy= PARAMETERS['BALANCE_RATIO'])\n",
    "#TODO: Experimentacion empirica con el sampling_strategy, mantener demas parametros fijos (Analisis de sensibilidad)\n",
    "X_resampled, y_resampled = smote.fit_resample(X, y)\n",
    "print('Resampled dataset shape %s' % Counter(y_resampled))"
   ]
  },
  {
   "cell_type": "code",
   "execution_count": 56,
   "metadata": {},
   "outputs": [],
   "source": [
    "df_dummizado_from_2023.to_csv(PARAMETERS['TEST_2023_FILE_NAME'], index=False, encoding='utf-8')"
   ]
  },
  {
   "cell_type": "code",
   "execution_count": 57,
   "metadata": {},
   "outputs": [],
   "source": [
    "resampled_df = pd.concat([X_resampled, y_resampled], axis=1, join=\"inner\")\n",
    "resampled_df.to_csv(PARAMETERS['BALANCED_OUPUT_FILE_NAME'], index = False, encoding='utf-8') # False: not include index"
   ]
  }
 ],
 "metadata": {
  "kernelspec": {
   "display_name": "Python 3",
   "language": "python",
   "name": "python3"
  },
  "language_info": {
   "codemirror_mode": {
    "name": "ipython",
    "version": 3
   },
   "file_extension": ".py",
   "mimetype": "text/x-python",
   "name": "python",
   "nbconvert_exporter": "python",
   "pygments_lexer": "ipython3",
   "version": "3.10.12"
  },
  "orig_nbformat": 4
 },
 "nbformat": 4,
 "nbformat_minor": 2
}
