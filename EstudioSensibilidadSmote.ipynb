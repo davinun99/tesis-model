{
 "cells": [
  {
   "attachments": {},
   "cell_type": "markdown",
   "metadata": {},
   "source": [
    "## DATASET CLEANING AND TRANSFORM"
   ]
  },
  {
   "cell_type": "code",
   "execution_count": 3,
   "metadata": {},
   "outputs": [],
   "source": [
    "PARAMETERS = {\n",
    "\t'BALANCE_RATIO': 0.35,\n",
    "\t'DOWNLOAD_FROM_DRIVE': False,\n",
    "\t'INSTALL_LIBS': False,\n",
    "\t'CLASS_COL_NAME': 'Protestas',\n",
    "\t'START_YEAR': 2016,\n",
    "\t'BALANCED_OUPUT_FILE_NAME': 'balanced_output_35.csv',\n",
    "\t'TEST_2023_FILE_NAME': 'test_2023.csv',\n",
    "}"
   ]
  },
  {
   "cell_type": "code",
   "execution_count": 4,
   "metadata": {},
   "outputs": [],
   "source": [
    "if(PARAMETERS['INSTALL_LIBS']):\n",
    "\t%pip install -U imbalanced-learn\n",
    "\t%pip install scikit-learn==1.0.2"
   ]
  },
  {
   "cell_type": "code",
   "execution_count": 5,
   "metadata": {},
   "outputs": [],
   "source": [
    "import pandas as pd\n",
    "import numpy as np\n",
    "pd.set_option('display.max_columns', None) #MOSTRAR TODAS LAS COLUMNAS\n",
    "y_col_name = PARAMETERS['CLASS_COL_NAME']"
   ]
  },
  {
   "cell_type": "code",
   "execution_count": 6,
   "metadata": {},
   "outputs": [],
   "source": [
    "if(PARAMETERS['DOWNLOAD_FROM_DRIVE']):\n",
    "\t!gdown --id 1-tNBUCWFU0_b9QW6ie4Vvfs7eb4WbIPY\n",
    "\t# https://drive.google.com/file/d/1-tNBUCWFU0_b9QW6ie4Vvfs7eb4WbIPY/view?usp=share_link\n",
    "\t!gdown --id 11eGwBDC3FoJh8eanfpYXFAS-3SZ6vNnO\n",
    "\t#https://drive.google.com/file/d/11eGwBDC3FoJh8eanfpYXFAS-3SZ6vNnO/view?usp=sharing"
   ]
  },
  {
   "cell_type": "code",
   "execution_count": 7,
   "metadata": {},
   "outputs": [
    {
     "name": "stderr",
     "output_type": "stream",
     "text": [
      "/var/folders/0s/ngx4k9892vv59rf4q5h1h4w00000gn/T/ipykernel_3669/2578874532.py:1: ParserWarning: Falling back to the 'python' engine because the 'c' engine does not support regex separators (separators > 1 char and different from '\\s+' are interpreted as regex); you can avoid this warning by specifying engine='python'.\n",
      "  df_completo = pd.read_csv('TestBalanceo1.csv', sep=\";;;\", index_col=False)\n"
     ]
    }
   ],
   "source": [
    "df_completo = pd.read_csv('TestBalanceo1.csv', sep=\";;;\", index_col=False)\n",
    "df_banderas_completo = pd.read_csv('OcidConBanderas.csv', sep=\";\", index_col=False)\n",
    "df_banderas_completo.drop(['Unnamed: 10'], inplace=True, axis=1)\n",
    "df_completo = df_completo.merge(df_banderas_completo, left_on='ocid', right_on='id', how='left')"
   ]
  },
  {
   "cell_type": "code",
   "execution_count": 8,
   "metadata": {},
   "outputs": [],
   "source": [
    "df_completo_filtered = df_completo[df_completo['tender.value.amount'].notna()]\n",
    "df_completo_filtered = df_completo_filtered[df_completo_filtered['tender.tenderPeriod.durationInDays'].notna()]\n",
    "df_completo_filtered = df_completo_filtered[df_completo_filtered['tender.enquiryPeriod.durationInDays'].notna()]\n",
    "# df_dummizado['tender.tenderPeriod.durationInDays'].fillna(df_dummizado['tender.tenderPeriod.durationInDays'].mean(), inplace=True)\n",
    "# df_dummizado['tender.enquiryPeriod.durationInDays'].fillna(df_dummizado['tender.enquiryPeriod.durationInDays'].mean(), inplace=True)"
   ]
  },
  {
   "cell_type": "code",
   "execution_count": 9,
   "metadata": {},
   "outputs": [],
   "source": [
    "#Drop columns\n",
    "df_dummizado = df_completo_filtered.drop(['ocid', 'id_x', 'id_y', 'tender.id', # Dropeamos por que son IDs\n",
    "    'tender.bidOpening.address.streetAddress', 'tender.enquiriesAddress.streetAddress', #Dropeamos por que son direcciones, creemos que no tienen valor\n",
    "    'ocid.1', 'tender.procurementIntention.uri', # URL y id\n",
    "    'tender.procurementIntention.description', #Descripcion\n",
    "    'tender.procurementIntention.category', # Dropeamos porque ya esta la info en otra columna\n",
    "    'tender.procurementIntention.title', #Titulo, practicamente todos son unicos\n",
    "    'initiationType', #Todos tienen el mismo valor (tender)\n",
    "    'tender.procurementIntention.id', # Ver vien por que dropeamos\n",
    "    'tag', #Todos tienen el mismo valor (compiled)\n",
    "    'language', #Todos tienen el mismo valor (es)\n",
    "    'tender.techniques.hasFrameworkAgreement', #Solo 48 rows con datos, no vale la pena\n",
    "    # 'Protestas', #Tiene info del resultado\n",
    "\t'tender.contractPeriod.durationInDays',\n",
    "\t'has_complaint',\n",
    "], axis=1)\n",
    "\n",
    "df_dummizado['date.month'] = pd.to_datetime(df_dummizado['date'], format='%Y-%m-%dT%H:%M:%S-04:00').dt.month\n",
    "df_dummizado['date.year'] = pd.to_datetime(df_dummizado['date'], format='%Y-%m-%dT%H:%M:%S-04:00').dt.year\n",
    "df_dummizado['date.yearmonth'] = pd.to_datetime(df_dummizado['date'], format='%Y-%m-%dT%H:%M:%S-04:00').dt.strftime('%Y%m')"
   ]
  },
  {
   "cell_type": "code",
   "execution_count": 10,
   "metadata": {},
   "outputs": [],
   "source": [
    "df_dummizado = df_dummizado[df_dummizado['date.year'] >= PARAMETERS['START_YEAR']] #JUST USING 2016 onwards"
   ]
  },
  {
   "cell_type": "code",
   "execution_count": 11,
   "metadata": {},
   "outputs": [],
   "source": [
    "#Dummies\n",
    "df_dummizado = pd.get_dummies(df_dummizado, columns=['tender.status']) # Cardinalidad baja\n",
    "df_dummizado = pd.get_dummies(df_dummizado, columns=['tender.awardCriteria']) # Cardinalidad baja\n",
    "df_dummizado = pd.get_dummies(df_dummizado, columns=['tender.awardCriteriaDetails']) # Cardinalidad baja\n",
    "df_dummizado = pd.get_dummies(df_dummizado, columns=['tender.statusDetails']) # Cardinalidad baja\n",
    "df_dummizado = pd.get_dummies(df_dummizado, columns=['tender.hasEnquiries']) # Cardinalidad baja\n",
    "df_dummizado = pd.get_dummies(df_dummizado, columns=['tender.value.currency']) # Cardinalidad baja\n",
    "df_dummizado = pd.get_dummies(df_dummizado, columns=['tender.mainProcurementCategory']) # Cardinalidad baja\n",
    "df_dummizado = pd.get_dummies(df_dummizado, columns=['tender.procurementMethod']) # Cardinalidad baja\n",
    "df_dummizado = pd.get_dummies(df_dummizado, columns=['tender.procurementMethodRationale']) # Cardinalidad baja\n",
    "df_dummizado = pd.get_dummies(df_dummizado, columns=['tender.procurementIntention.rationale']) # Cardinalidad baja\n",
    "df_dummizado = pd.get_dummies(df_dummizado, columns=['planning.budget.amount.currency']) # Cardinalidad baja\n",
    "\n",
    "df_dummizado = pd.get_dummies(df_dummizado, columns=['tender.procurementIntention.status']) # Cardinalidad baja\n",
    "df_dummizado = pd.get_dummies(df_dummizado, columns=['tender.procurementIntention.statusDetails']) # Cardinalidad baja\n",
    "\n",
    "\n",
    "#Dates\n",
    "df_dummizado['tender.bidOpening.date.month'] = pd.to_datetime(df_dummizado['tender.bidOpening.date'], format='%Y-%m-%dT%H:%M:%S-04:00').dt.month\n",
    "df_dummizado['tender.bidOpening.date.year'] = pd.to_datetime(df_dummizado['tender.bidOpening.date'], format='%Y-%m-%dT%H:%M:%S-04:00').dt.year\n",
    "df_dummizado['tender.bidOpening.date.yearmonth'] = pd.to_datetime(df_dummizado['tender.bidOpening.date'], format='%Y-%m-%dT%H:%M:%S-04:00').dt.strftime('%Y%m')\n",
    "\n",
    "df_dummizado['tender.datePublished.month'] = pd.to_datetime(df_dummizado['tender.datePublished'], format='%Y-%m-%dT%H:%M:%S-04:00').dt.month\n",
    "df_dummizado['tender.datePublished.year'] = pd.to_datetime(df_dummizado['tender.datePublished'], format='%Y-%m-%dT%H:%M:%S-04:00').dt.year\n",
    "df_dummizado['tender.datePublished.yearmonth'] = pd.to_datetime(df_dummizado['tender.datePublished'], format='%Y-%m-%dT%H:%M:%S-04:00').dt.strftime('%Y%m')\n",
    "\n",
    "df_dummizado['tender.tenderPeriod.startDate.month'] = pd.to_datetime(df_dummizado['tender.tenderPeriod.startDate'], format='%Y-%m-%dT%H:%M:%S-04:00').dt.month\n",
    "df_dummizado['tender.tenderPeriod.startDate.year'] = pd.to_datetime(df_dummizado['tender.tenderPeriod.startDate'], format='%Y-%m-%dT%H:%M:%S-04:00').dt.year\n",
    "df_dummizado['tender.tenderPeriod.startDate.yearmonth'] = pd.to_datetime(df_dummizado['tender.tenderPeriod.startDate'], format='%Y-%m-%dT%H:%M:%S-04:00').dt.strftime('%Y%m')\n",
    "\n",
    "df_dummizado['tender.tenderPeriod.endDate.month'] = pd.to_datetime(df_dummizado['tender.tenderPeriod.startDate'], format='%Y-%m-%dT%H:%M:%S-04:00').dt.month\n",
    "df_dummizado['tender.tenderPeriod.endDate.year'] = pd.to_datetime(df_dummizado['tender.tenderPeriod.startDate'], format='%Y-%m-%dT%H:%M:%S-04:00').dt.year\n",
    "df_dummizado['tender.tenderPeriod.endDate.yearmonth'] = pd.to_datetime(df_dummizado['tender.tenderPeriod.startDate'], format='%Y-%m-%dT%H:%M:%S-04:00').dt.strftime('%Y%m')\n",
    "\n",
    "df_dummizado['tender.awardPeriod.startDate.month'] = pd.to_datetime(df_dummizado['tender.awardPeriod.startDate'], format='%Y-%m-%dT%H:%M:%S-04:00').dt.month\n",
    "df_dummizado['tender.awardPeriod.startDate.year'] = pd.to_datetime(df_dummizado['tender.awardPeriod.startDate'], format='%Y-%m-%dT%H:%M:%S-04:00').dt.year\n",
    "df_dummizado['tender.awardPeriod.startDate.yearmonth'] = pd.to_datetime(df_dummizado['tender.awardPeriod.startDate'], format='%Y-%m-%dT%H:%M:%S-04:00').dt.strftime('%Y%m')\n",
    "\n",
    "df_dummizado['tender.enquiryPeriod.endDate.month'] = pd.to_datetime(df_dummizado['tender.enquiryPeriod.endDate'], format='%Y-%m-%dT%H:%M:%S-04:00').dt.month\n",
    "df_dummizado['tender.enquiryPeriod.endDate.year'] = pd.to_datetime(df_dummizado['tender.enquiryPeriod.endDate'], format='%Y-%m-%dT%H:%M:%S-04:00').dt.year\n",
    "df_dummizado['tender.enquiryPeriod.endDate.yearmonth'] = pd.to_datetime(df_dummizado['tender.enquiryPeriod.endDate'], format='%Y-%m-%dT%H:%M:%S-04:00').dt.strftime('%Y%m')\n",
    "\n",
    "df_dummizado['tender.enquiryPeriod.startDate.month'] = pd.to_datetime(df_dummizado['tender.enquiryPeriod.startDate'], format='%Y-%m-%dT%H:%M:%S-04:00').dt.month\n",
    "df_dummizado['tender.enquiryPeriod.startDate.year'] = pd.to_datetime(df_dummizado['tender.enquiryPeriod.startDate'], format='%Y-%m-%dT%H:%M:%S-04:00').dt.year\n",
    "df_dummizado['tender.enquiryPeriod.startDate.yearmonth'] = pd.to_datetime(df_dummizado['tender.enquiryPeriod.startDate'], format='%Y-%m-%dT%H:%M:%S-04:00').dt.strftime('%Y%m')\n",
    "\n",
    "df_dummizado['planning.estimatedDate.month'] = pd.to_datetime(df_dummizado['planning.estimatedDate'], format='%Y-%m-%dT%H:%M:%S-04:00').dt.month\n",
    "df_dummizado['planning.estimatedDate.year'] = pd.to_datetime(df_dummizado['planning.estimatedDate'], format='%Y-%m-%dT%H:%M:%S-04:00').dt.year\n",
    "df_dummizado['planning.estimatedDate.yearmonth'] = pd.to_datetime(df_dummizado['planning.estimatedDate'], format='%Y-%m-%dT%H:%M:%S-04:00').dt.strftime('%Y%m')\n",
    "# Dropeando data interesante (Despues ver como procesar, son datos practicamente unicos)\n",
    "df_dummizado = df_dummizado.drop(['tender.title', 'tender.submissionMethodDetails', 'tender.eligibilityCriteria', 'tender.mainProcurementCategoryDetails', 'planning.budget.description', ], axis=1)\n",
    "\n",
    "# Dropeando por cardinalidad alta? Datos no 100% unicos por cada row\n",
    "df_dummizado = df_dummizado.drop(['tender.procurementMethodDetails', 'tender.procuringEntity.id', 'tender.procuringEntity.name', 'buyer.id', 'buyer.name', \n",
    "\t'tender.procurementIntention.procuringEntity.id', 'tender.procurementIntention.procuringEntity.name', 'secondStage.id',\n",
    "], axis=1)\n"
   ]
  },
  {
   "cell_type": "code",
   "execution_count": 12,
   "metadata": {},
   "outputs": [],
   "source": [
    "#Dropeando dates\n",
    "df_dummizado = df_dummizado.drop(['tender.bidOpening.date',\n",
    "\t'tender.datePublished', 'tender.tenderPeriod.startDate', 'tender.tenderPeriod.endDate', 'tender.awardPeriod.startDate','tender.enquiryPeriod.endDate','tender.enquiryPeriod.startDate',\n",
    "    'date', 'planning.estimatedDate', \n",
    "    'tender.contractPeriod.maxExtentDate', # Hay solo 7000\n",
    "    'tender.procurementIntention.startDate', 'tender.procurementIntention.publishedDate', #Hay solo 1200 en todo el dataset\n",
    "\t'tender.contractPeriod.startDate', 'tender.contractPeriod.endDate' # Hay solo 35 datos en todo el dataset\n",
    "], axis= 1)\n",
    "\n",
    "# Otras conversiones\n",
    "df_dummizado['tender.techniques.hasElectronicAuction'] = np.where(df_dummizado['tender.techniques.hasElectronicAuction'] == True, 1, 0)"
   ]
  },
  {
   "cell_type": "code",
   "execution_count": 13,
   "metadata": {},
   "outputs": [],
   "source": [
    "df_dummizado['tender.bidOpening.date.month'].fillna(0, inplace=True)\n",
    "df_dummizado['tender.bidOpening.date.year'].fillna(0, inplace=True)\n",
    "df_dummizado['tender.bidOpening.date.yearmonth'].fillna(0, inplace=True)\n",
    "\n",
    "df_dummizado['tender.enquiryPeriod.endDate.month'].fillna(0, inplace=True)\n",
    "df_dummizado['tender.enquiryPeriod.endDate.year'].fillna(0, inplace=True)\n",
    "df_dummizado['tender.enquiryPeriod.endDate.yearmonth'].fillna(0, inplace=True)\n",
    "df_dummizado['tender.enquiryPeriod.startDate.month'].fillna(0, inplace=True)\n",
    "df_dummizado['tender.enquiryPeriod.startDate.year'].fillna(0, inplace=True)\n",
    "df_dummizado['tender.enquiryPeriod.startDate.yearmonth'].fillna(0, inplace=True)\n",
    "df_dummizado['tender.tenderPeriod.startDate.month'].fillna(0, inplace=True)\n",
    "df_dummizado['tender.tenderPeriod.startDate.year'].fillna(0, inplace=True)\n",
    "df_dummizado['tender.tenderPeriod.startDate.yearmonth'].fillna(0, inplace=True)\n",
    "df_dummizado['tender.tenderPeriod.endDate.month'].fillna(0, inplace=True)\n",
    "df_dummizado['tender.tenderPeriod.endDate.year'].fillna(0, inplace=True)\n",
    "df_dummizado['tender.tenderPeriod.endDate.yearmonth'].fillna(0, inplace=True)\n",
    "df_dummizado['tender.awardPeriod.startDate.month'].fillna(0, inplace=True)\n",
    "df_dummizado['tender.awardPeriod.startDate.year'].fillna(0, inplace=True)\n",
    "df_dummizado['tender.awardPeriod.startDate.yearmonth'].fillna(0, inplace=True)\n",
    "df_dummizado['tender.datePublished.month'].fillna(0, inplace=True)\n",
    "df_dummizado['tender.datePublished.year'].fillna(0, inplace=True)\n",
    "df_dummizado['tender.datePublished.yearmonth'].fillna(0, inplace=True)\n",
    "df_dummizado['planning.estimatedDate.month'].fillna(0, inplace=True)\n",
    "df_dummizado['planning.estimatedDate.year'].fillna(0, inplace=True)\n",
    "df_dummizado['planning.estimatedDate.yearmonth'].fillna(0, inplace=True)\n",
    "df_dummizado['planning.identifier'] = df_dummizado['planning.identifier'].fillna(0)\n",
    "\n",
    "df_dummizado['tender.numberOfTenderers'].fillna(1, inplace=True)\n",
    "df_dummizado['tender.techniques.hasElectronicAuction'] = df_dummizado['tender.techniques.hasElectronicAuction'].fillna(False)\n",
    "# df_dummizado['tender.value.amount'].fillna(df_dummizado['tender.value.amount'].mean(), inplace=True)\n",
    "\n",
    "df_dummizado['planning.budget.amount.amount'].fillna(df_dummizado['tender.value.amount'], inplace=True)\n"
   ]
  },
  {
   "cell_type": "code",
   "execution_count": 14,
   "metadata": {},
   "outputs": [
    {
     "data": {
      "text/plain": [
       "(89675, 785)"
      ]
     },
     "execution_count": 14,
     "metadata": {},
     "output_type": "execute_result"
    }
   ],
   "source": [
    "df_dummizado_up_to_2023 = df_dummizado[df_dummizado['date.year'] < 2023]\n",
    "df_dummizado_up_to_2023.shape"
   ]
  },
  {
   "cell_type": "code",
   "execution_count": 15,
   "metadata": {},
   "outputs": [
    {
     "data": {
      "text/plain": [
       "(10769, 785)"
      ]
     },
     "execution_count": 15,
     "metadata": {},
     "output_type": "execute_result"
    }
   ],
   "source": [
    "df_dummizado_from_2023 = df_dummizado[df_dummizado['date.year'] >= 2023]\n",
    "df_dummizado_from_2023.shape"
   ]
  },
  {
   "cell_type": "code",
   "execution_count": 16,
   "metadata": {},
   "outputs": [
    {
     "data": {
      "text/plain": [
       "0.10763206976198417"
      ]
     },
     "execution_count": 16,
     "metadata": {},
     "output_type": "execute_result"
    }
   ],
   "source": [
    "df_complaints = df_dummizado_up_to_2023[(df_dummizado_up_to_2023[y_col_name] == True)]\n",
    "df_no_complaints = df_dummizado_up_to_2023[(df_dummizado_up_to_2023[y_col_name] == False)]\n",
    "# PERCENTAGE OF COMPLAINTS / NO COMPLAINTS\n",
    "(df_complaints.shape[0] * 1) / df_no_complaints.shape[0]"
   ]
  },
  {
   "attachments": {},
   "cell_type": "markdown",
   "metadata": {},
   "source": [
    "## SMOTE BALANCING (FOR)"
   ]
  },
  {
   "cell_type": "code",
   "execution_count": 30,
   "metadata": {},
   "outputs": [
    {
     "name": "stdout",
     "output_type": "stream",
     "text": [
      "Checking whether there is an H2O instance running at http://localhost:54321. connected.\n"
     ]
    },
    {
     "data": {
      "text/html": [
       "\n",
       "<style>\n",
       "\n",
       "#h2o-table-3.h2o-container {\n",
       "  overflow-x: auto;\n",
       "}\n",
       "#h2o-table-3 .h2o-table {\n",
       "  /* width: 100%; */\n",
       "  margin-top: 1em;\n",
       "  margin-bottom: 1em;\n",
       "}\n",
       "#h2o-table-3 .h2o-table caption {\n",
       "  white-space: nowrap;\n",
       "  caption-side: top;\n",
       "  text-align: left;\n",
       "  /* margin-left: 1em; */\n",
       "  margin: 0;\n",
       "  font-size: larger;\n",
       "}\n",
       "#h2o-table-3 .h2o-table thead {\n",
       "  white-space: nowrap; \n",
       "  position: sticky;\n",
       "  top: 0;\n",
       "  box-shadow: 0 -1px inset;\n",
       "}\n",
       "#h2o-table-3 .h2o-table tbody {\n",
       "  overflow: auto;\n",
       "}\n",
       "#h2o-table-3 .h2o-table th,\n",
       "#h2o-table-3 .h2o-table td {\n",
       "  text-align: right;\n",
       "  /* border: 1px solid; */\n",
       "}\n",
       "#h2o-table-3 .h2o-table tr:nth-child(even) {\n",
       "  /* background: #F5F5F5 */\n",
       "}\n",
       "\n",
       "</style>      \n",
       "<div id=\"h2o-table-3\" class=\"h2o-container\">\n",
       "  <table class=\"h2o-table\">\n",
       "    <caption></caption>\n",
       "    <thead></thead>\n",
       "    <tbody><tr><td>H2O_cluster_uptime:</td>\n",
       "<td>2 hours 47 mins</td></tr>\n",
       "<tr><td>H2O_cluster_timezone:</td>\n",
       "<td>America/Asuncion</td></tr>\n",
       "<tr><td>H2O_data_parsing_timezone:</td>\n",
       "<td>UTC</td></tr>\n",
       "<tr><td>H2O_cluster_version:</td>\n",
       "<td>3.42.0.1</td></tr>\n",
       "<tr><td>H2O_cluster_version_age:</td>\n",
       "<td>1 month and 19 days</td></tr>\n",
       "<tr><td>H2O_cluster_name:</td>\n",
       "<td>H2O_from_python_matiaslopez_nsue9n</td></tr>\n",
       "<tr><td>H2O_cluster_total_nodes:</td>\n",
       "<td>1</td></tr>\n",
       "<tr><td>H2O_cluster_free_memory:</td>\n",
       "<td>14.13 Gb</td></tr>\n",
       "<tr><td>H2O_cluster_total_cores:</td>\n",
       "<td>12</td></tr>\n",
       "<tr><td>H2O_cluster_allowed_cores:</td>\n",
       "<td>12</td></tr>\n",
       "<tr><td>H2O_cluster_status:</td>\n",
       "<td>locked, healthy</td></tr>\n",
       "<tr><td>H2O_connection_url:</td>\n",
       "<td>http://localhost:54321</td></tr>\n",
       "<tr><td>H2O_connection_proxy:</td>\n",
       "<td>{\"http\": null, \"https\": null}</td></tr>\n",
       "<tr><td>H2O_internal_security:</td>\n",
       "<td>False</td></tr>\n",
       "<tr><td>Python_version:</td>\n",
       "<td>3.10.12 final</td></tr></tbody>\n",
       "  </table>\n",
       "</div>\n"
      ],
      "text/plain": [
       "--------------------------  ----------------------------------\n",
       "H2O_cluster_uptime:         2 hours 47 mins\n",
       "H2O_cluster_timezone:       America/Asuncion\n",
       "H2O_data_parsing_timezone:  UTC\n",
       "H2O_cluster_version:        3.42.0.1\n",
       "H2O_cluster_version_age:    1 month and 19 days\n",
       "H2O_cluster_name:           H2O_from_python_matiaslopez_nsue9n\n",
       "H2O_cluster_total_nodes:    1\n",
       "H2O_cluster_free_memory:    14.13 Gb\n",
       "H2O_cluster_total_cores:    12\n",
       "H2O_cluster_allowed_cores:  12\n",
       "H2O_cluster_status:         locked, healthy\n",
       "H2O_connection_url:         http://localhost:54321\n",
       "H2O_connection_proxy:       {\"http\": null, \"https\": null}\n",
       "H2O_internal_security:      False\n",
       "Python_version:             3.10.12 final\n",
       "--------------------------  ----------------------------------"
      ]
     },
     "metadata": {},
     "output_type": "display_data"
    }
   ],
   "source": [
    "import h2o\n",
    "from h2o.estimators import H2OXGBoostEstimator\n",
    "from h2o.automl import H2OAutoML\n",
    "h2o.init()"
   ]
  },
  {
   "cell_type": "code",
   "execution_count": 23,
   "metadata": {},
   "outputs": [],
   "source": [
    "def get_performance(model, test: h2o.H2OFrame):\n",
    "\tcm = model.model_performance(test).confusion_matrix().to_list()\n",
    "\tperf_t = cm[1][1] / (cm[1][0] + cm[1][1])\n",
    "\tperf_f = cm[0][0] / (cm[0][1] + cm[0][0])\n",
    "\treturn perf_t, perf_f"
   ]
  },
  {
   "cell_type": "code",
   "execution_count": 27,
   "metadata": {},
   "outputs": [],
   "source": [
    "# BEST SMOTE HYPERPARAMS:\n",
    "# H2OXGBoostEstimator - 0.8228451418286427 => 0.155"
   ]
  },
  {
   "cell_type": "code",
   "execution_count": 26,
   "metadata": {},
   "outputs": [
    {
     "name": "stdout",
     "output_type": "stream",
     "text": [
      "Original dataset shape Counter({False: 80961, True: 8714})\n"
     ]
    },
    {
     "name": "stderr",
     "output_type": "stream",
     "text": [
      "/usr/local/lib/python3.10/site-packages/sklearn/utils/extmath.py:153: RuntimeWarning: invalid value encountered in matmul\n",
      "  ret = a @ b\n"
     ]
    },
    {
     "name": "stdout",
     "output_type": "stream",
     "text": [
      "para value 0.11:\n",
      "Parse progress: |████████████████████████████████████████████████████████████████| (done) 100%\n",
      "Parse progress: |████████████████████████████████████████████████████████████████| (done) 100%\n",
      "xgboost Model Build progress: |"
     ]
    },
    {
     "name": "stderr",
     "output_type": "stream",
     "text": [
      "/usr/local/lib/python3.10/site-packages/h2o/estimators/estimator_base.py:192: RuntimeWarning: Dropping bad and constant columns: [tender.procurementMethod_open, parties.details.legalEntityTypeDetail buyer_15, parties.details.legalEntityTypeDetail buyer_14, parties.details.legalEntityTypeDetail buyer_13, parties.details.legalEntityTypeDetail buyer_12, parties.details.legalEntityTypeDetail buyer_11, parties.details.legalEntityTypeDetail buyer_10, parties.details.EntityType payee_1, parties.details.EntityType payee_2, parties.details.EntityType payee_3, parties.details.EntityType payee_4, planning.items.classification.id.n1_1_57, planning.items.classification.id.n1_1_58, Monto faltante, tender.status_active, tender.statusDetails_En Convocatoria (Abierta), parties.details.EntityType candidate_2, parties.details.EntityType candidate_1, parties.details.EntityType candidate_4, parties.details.legalEntityTypeDetail candidate_1, awards.statusDetails_2, parties.details.EntityType candidate_3, parties.details.legalEntityTypeDetail candidate_2, awards.statusDetails_3, parties.details.legalEntityTypeDetail procuringEntity_2, parties.details.legalEntityTypeDetail buyer_19, awards.statusDetails_4, parties.details.legalEntityTypeDetail procuringEntity_3, parties.details.legalEntityTypeDetail buyer_18, parties.details.legalEntityTypeDetail buyer_17, awards.statusDetails_6, parties.details.legalEntityTypeDetail procuringEntity_1, parties.details.legalEntityTypeDetail buyer_16, parties.details.legalEntityTypeDetail candidate_7, parties.details.legalEntityTypeDetail procuringEntity_6, awards.status_4, parties.details.legalEntityTypeDetail candidate_8, parties.details.legalEntityTypeDetail procuringEntity_7, parties.details.legalEntityTypeDetail candidate_9, parties.details.legalEntityTypeDetail procuringEntity_4, parties.details.legalEntityTypeDetail procuringEntity_10, parties.details.legalEntityTypeDetail procuringEntity_5, parties.details.legalEntityTypeDetail candidate_3, parties.details.legalEntityTypeDetail procuringEntity_12, parties.details.legalEntityTypeDetail candidate_4, parties.details.legalEntityTypeDetail procuringEntity_11, parties.details.legalEntityTypeDetail candidate_5, parties.details.legalEntityTypeDetail procuringEntity_8, parties.details.legalEntityTypeDetail procuringEntity_14, parties.details.legalEntityTypeDetail candidate_6, parties.details.legalEntityTypeDetail procuringEntity_9, parties.details.legalEntityTypeDetail procuringEntity_13, parties.details.legalEntityTypeDetail notifiedSupplier_24, awards.statusDetails_7, parties.details.legalEntityTypeDetail buyer_25, awards.statusDetails_9, parties.details.legalEntityTypeDetail buyer_24, parties.details.legalEntityTypeDetail buyer_23, parties.details.legalEntityTypeDetail buyer_22, parties.details.legalEntityTypeDetail buyer_21, parties.details.legalEntityTypeDetail buyer_20, parties.details.legalEntityTypeDetail procuringEntity_21, parties.details.legalEntityTypeDetail procuringEntity_20, parties.details.legalEntityTypeDetail procuringEntity_23, parties.details.legalEntityTypeDetail procuringEntity_22, parties.details.legalEntityTypeDetail procuringEntity_25, parties.details.legalEntityTypeDetail procuringEntity_24, parties.details.legalEntityTypeDetail procuringEntity_16, parties.details.legalEntityTypeDetail procuringEntity_15, parties.details.legalEntityTypeDetail procuringEntity_18, parties.details.legalEntityTypeDetail procuringEntity_17, parties.details.legalEntityTypeDetail procuringEntity_19, parties.roles candidate q2, parties.roles candidate q1, parties.roles candidate q4, parties.roles candidate q3, tender.procurementMethodDetails q2, parties.details.legalEntityTypeDetail candidate_13, parties.details.legalEntityTypeDetail candidate_12, parties.details.legalEntityTypeDetail candidate_15, parties.details.legalEntityTypeDetail candidate_14, secondStage.id q4, secondStage.id q3, secondStage.id q2, parties.details.legalEntityTypeDetail candidate_11, secondStage.id q1, parties.details.legalEntityTypeDetail candidate_10, parties.details.legalEntityTypeDetail payee_21, parties.details.legalEntityTypeDetail buyer_1, parties.details.legalEntityTypeDetail payee_22, parties.details.legalEntityTypeDetail buyer_2, parties.details.legalEntityTypeDetail candidate_17, parties.details.legalEntityTypeDetail candidate_16, parties.details.legalEntityTypeDetail candidate_19, parties.details.legalEntityTypeDetail candidate_18, parties.details.legalEntityTypeDetail buyer_7, parties.details.legalEntityTypeDetail buyer_8, parties.details.legalEntityTypeDetail buyer_9, parties.details.legalEntityTypeDetail payee_25, parties.details.legalEntityTypeDetail buyer_3, parties.details.legalEntityTypeDetail payee_24, parties.details.legalEntityTypeDetail buyer_4, parties.details.legalEntityTypeDetail buyer_5, parties.details.legalEntityTypeDetail buyer_6, parties.details.legalEntityTypeDetail payee_18, parties.details.legalEntityTypeDetail payer_3, parties.details.legalEntityTypeDetail payer_23, parties.details.legalEntityTypeDetail payer_4, parties.details.legalEntityTypeDetail payer_24, tender.eligibilityCriteria q3, parties.details.legalEntityTypeDetail payer_1, parties.details.legalEntityTypeDetail payer_21, parties.details.legalEntityTypeDetail payer_2, parties.details.legalEntityTypeDetail payer_22, parties.details.legalEntityTypeDetail payer_7, parties.details.legalEntityTypeDetail payer_8, parties.details.legalEntityTypeDetail payer_5, parties.details.legalEntityTypeDetail payer_25, awards.documents.DocumentTypeDetails_19, parties.details.legalEntityTypeDetail payer_6, awards.documents.DocumentTypeDetails_17, parties.details.legalEntityTypeDetail tenderer_18, awards.documents.DocumentTypeDetails_14, parties.details.legalEntityTypeDetail payer_20, parties.details.legalEntityTypeDetail enquirer_18, awards.documents.DocumentTypeDetails_20, parties.details.legalEntityTypeDetail enquirer_15, parties.details.legalEntityTypeDetail payer_18, parties.details.legalEntityTypeDetail payer_19, tender.eligibilityCriteria q2, contracts.status_4, parties.details.legalEntityTypeDetail payer_12, parties.details.legalEntityTypeDetail payer_13, parties.details.legalEntityTypeDetail payer_10, parties.details.legalEntityTypeDetail payer_11, tender.items.classification.id.n1_1_57, parties.details.legalEntityTypeDetail payer_16, parties.details.legalEntityTypeDetail payer_17, parties.details.legalEntityTypeDetail payer_14, parties.details.legalEntityTypeDetail payer_15, tender.criteria.id, parties.details.legalEntityTypeDetail candidate_24, parties.details.legalEntityTypeDetail enquirer_21, parties.details.legalEntityTypeDetail candidate_23, parties.details.legalEntityTypeDetail enquirer_22, parties.details.legalEntityTypeDetail enquirer_23, parties.details.legalEntityTypeDetail candidate_25, parties.details.legalEntityTypeDetail enquirer_24, parties.details.legalEntityTypeDetail candidate_20, parties.details.legalEntityTypeDetail candidate_22, parties.details.legalEntityTypeDetail candidate_21, parties.details.legalEntityTypeDetail enquirer_20, parties.details.legalEntityTypeDetail enquirer_25, parties.details.legalEntityTypeDetail payer_9, parties.details.EntityType tenderer_1, parties.details.EntityType tenderer_2, parties.details.EntityType tenderer_3, parties.details.EntityType tenderer_4, parties.details.legalEntityTypeDetail tenderer_24, parties.details.legalEntityTypeDetail tenderer_25, contracts.statusDetails_3, parties.details.EntityType notifiedSupplier_1, contracts.statusDetails_2, parties.details.EntityType notifiedSupplier_3, parties.details.EntityType notifiedSupplier_2, parties.details.EntityType notifiedSupplier_4, contracts.statusDetails_9, contracts.statusDetails_4, contracts.statusDetails_7, tender.coveredBy_8, contracts.statusDetails_6, contracts.amendments.amendsAmount_usd, contracts.amendments.amendsAmount_pyg, tender.procurementIntention.procuringEntity.id q1, tender.procurementIntention.procuringEntity.name q1, parties.details.EntityType enquirer_4, parties.details.EntityType enquirer_3, parties.details.EntityType enquirer_2, parties.details.EntityType enquirer_1, parties.details.EntityType supplier_1, parties.details.EntityType supplier_3, tender.ProcurementIntentionCategory q3, parties.details.EntityType supplier_2, tender.ProcurementIntentionCategory q1, parties.details.EntityType supplier_4, parties.details.legalEntityTypeDetail supplier_22, parties.details.legalEntityTypeDetail supplier_25, parties.details.legalEntityTypeDetail supplier_24, Criterio de evaluacion faltante, parties.details.legalEntityTypeDetail supplier_21, contracts.documents.DocumentTypeDetails_12, awards.statusDetails_11, awards.statusDetails_10, parties.details.legalEntityTypeDetail supplier_18]\n",
      "  warnings.warn(mesg[\"message\"], RuntimeWarning)\n",
      "/usr/local/lib/python3.10/site-packages/h2o/estimators/estimator_base.py:192: RuntimeWarning: Stopping metric is ignored for _stopping_rounds=0.\n",
      "  warnings.warn(mesg[\"message\"], RuntimeWarning)\n"
     ]
    },
    {
     "name": "stdout",
     "output_type": "stream",
     "text": [
      "██████████████████████████████████████████████████| (done) 100%\n",
      "0.8203102609097221\n",
      "(0.7429775280898876, 0.9084711526322434)\n"
     ]
    },
    {
     "name": "stderr",
     "output_type": "stream",
     "text": [
      "/usr/local/lib/python3.10/site-packages/sklearn/utils/extmath.py:153: RuntimeWarning: invalid value encountered in matmul\n",
      "  ret = a @ b\n"
     ]
    },
    {
     "name": "stdout",
     "output_type": "stream",
     "text": [
      "para value 0.125:\n",
      "Parse progress: |████████████████████████████████████████████████████████████████| (done) 100%\n",
      "Parse progress: |████████████████████████████████████████████████████████████████| (done) 100%\n",
      "xgboost Model Build progress: |"
     ]
    },
    {
     "name": "stderr",
     "output_type": "stream",
     "text": [
      "/usr/local/lib/python3.10/site-packages/h2o/estimators/estimator_base.py:192: RuntimeWarning: Dropping bad and constant columns: [tender.procurementMethod_open, parties.details.legalEntityTypeDetail buyer_15, parties.details.legalEntityTypeDetail buyer_14, parties.details.legalEntityTypeDetail buyer_13, parties.details.legalEntityTypeDetail buyer_12, parties.details.legalEntityTypeDetail buyer_11, parties.details.legalEntityTypeDetail buyer_10, parties.details.EntityType payee_1, parties.details.EntityType payee_2, parties.details.EntityType payee_3, parties.details.EntityType payee_4, planning.items.classification.id.n1_1_57, planning.items.classification.id.n1_1_58, Monto faltante, tender.status_active, tender.statusDetails_En Convocatoria (Abierta), parties.details.EntityType candidate_2, parties.details.EntityType candidate_1, parties.details.EntityType candidate_4, parties.details.legalEntityTypeDetail candidate_1, awards.statusDetails_2, parties.details.EntityType candidate_3, parties.details.legalEntityTypeDetail candidate_2, awards.statusDetails_3, parties.details.legalEntityTypeDetail procuringEntity_2, parties.details.legalEntityTypeDetail buyer_19, awards.statusDetails_4, parties.details.legalEntityTypeDetail procuringEntity_3, parties.details.legalEntityTypeDetail buyer_18, parties.details.legalEntityTypeDetail buyer_17, awards.statusDetails_6, parties.details.legalEntityTypeDetail procuringEntity_1, parties.details.legalEntityTypeDetail buyer_16, parties.details.legalEntityTypeDetail candidate_7, parties.details.legalEntityTypeDetail procuringEntity_6, awards.status_4, parties.details.legalEntityTypeDetail candidate_8, parties.details.legalEntityTypeDetail procuringEntity_7, parties.details.legalEntityTypeDetail candidate_9, parties.details.legalEntityTypeDetail procuringEntity_4, parties.details.legalEntityTypeDetail procuringEntity_10, parties.details.legalEntityTypeDetail procuringEntity_5, parties.details.legalEntityTypeDetail candidate_3, parties.details.legalEntityTypeDetail procuringEntity_12, parties.details.legalEntityTypeDetail candidate_4, parties.details.legalEntityTypeDetail procuringEntity_11, parties.details.legalEntityTypeDetail candidate_5, parties.details.legalEntityTypeDetail procuringEntity_8, parties.details.legalEntityTypeDetail procuringEntity_14, parties.details.legalEntityTypeDetail candidate_6, parties.details.legalEntityTypeDetail procuringEntity_9, parties.details.legalEntityTypeDetail procuringEntity_13, parties.details.legalEntityTypeDetail notifiedSupplier_24, awards.statusDetails_7, parties.details.legalEntityTypeDetail buyer_25, awards.statusDetails_9, parties.details.legalEntityTypeDetail buyer_24, parties.details.legalEntityTypeDetail buyer_23, parties.details.legalEntityTypeDetail buyer_22, parties.details.legalEntityTypeDetail buyer_21, parties.details.legalEntityTypeDetail buyer_20, parties.details.legalEntityTypeDetail procuringEntity_21, parties.details.legalEntityTypeDetail procuringEntity_20, parties.details.legalEntityTypeDetail procuringEntity_23, parties.details.legalEntityTypeDetail procuringEntity_22, parties.details.legalEntityTypeDetail procuringEntity_25, parties.details.legalEntityTypeDetail procuringEntity_24, parties.details.legalEntityTypeDetail procuringEntity_16, parties.details.legalEntityTypeDetail procuringEntity_15, parties.details.legalEntityTypeDetail procuringEntity_18, parties.details.legalEntityTypeDetail procuringEntity_17, parties.details.legalEntityTypeDetail procuringEntity_19, parties.roles candidate q2, parties.roles candidate q1, parties.roles candidate q4, parties.roles candidate q3, tender.procurementMethodDetails q2, parties.details.legalEntityTypeDetail candidate_13, parties.details.legalEntityTypeDetail candidate_12, parties.details.legalEntityTypeDetail candidate_15, parties.details.legalEntityTypeDetail candidate_14, secondStage.id q4, secondStage.id q3, secondStage.id q2, parties.details.legalEntityTypeDetail candidate_11, secondStage.id q1, parties.details.legalEntityTypeDetail candidate_10, parties.details.legalEntityTypeDetail payee_21, parties.details.legalEntityTypeDetail buyer_1, parties.details.legalEntityTypeDetail payee_22, parties.details.legalEntityTypeDetail buyer_2, parties.details.legalEntityTypeDetail candidate_17, parties.details.legalEntityTypeDetail candidate_16, parties.details.legalEntityTypeDetail candidate_19, parties.details.legalEntityTypeDetail candidate_18, parties.details.legalEntityTypeDetail buyer_7, parties.details.legalEntityTypeDetail buyer_8, parties.details.legalEntityTypeDetail buyer_9, parties.details.legalEntityTypeDetail payee_25, parties.details.legalEntityTypeDetail buyer_3, parties.details.legalEntityTypeDetail payee_24, parties.details.legalEntityTypeDetail buyer_4, parties.details.legalEntityTypeDetail buyer_5, parties.details.legalEntityTypeDetail buyer_6, parties.details.legalEntityTypeDetail payee_18, parties.details.legalEntityTypeDetail payer_3, parties.details.legalEntityTypeDetail payer_23, parties.details.legalEntityTypeDetail payer_4, parties.details.legalEntityTypeDetail payer_24, tender.eligibilityCriteria q3, parties.details.legalEntityTypeDetail payer_1, parties.details.legalEntityTypeDetail payer_21, parties.details.legalEntityTypeDetail payer_2, parties.details.legalEntityTypeDetail payer_22, parties.details.legalEntityTypeDetail payer_7, parties.details.legalEntityTypeDetail payer_8, parties.details.legalEntityTypeDetail payer_5, parties.details.legalEntityTypeDetail payer_25, awards.documents.DocumentTypeDetails_19, parties.details.legalEntityTypeDetail payer_6, awards.documents.DocumentTypeDetails_17, parties.details.legalEntityTypeDetail tenderer_18, awards.documents.DocumentTypeDetails_14, parties.details.legalEntityTypeDetail payer_20, parties.details.legalEntityTypeDetail enquirer_18, awards.documents.DocumentTypeDetails_20, parties.details.legalEntityTypeDetail enquirer_15, parties.details.legalEntityTypeDetail payer_18, parties.details.legalEntityTypeDetail payer_19, tender.eligibilityCriteria q2, contracts.status_4, parties.details.legalEntityTypeDetail payer_12, parties.details.legalEntityTypeDetail payer_13, parties.details.legalEntityTypeDetail payer_10, parties.details.legalEntityTypeDetail payer_11, tender.items.classification.id.n1_1_57, parties.details.legalEntityTypeDetail payer_16, parties.details.legalEntityTypeDetail payer_17, parties.details.legalEntityTypeDetail payer_14, parties.details.legalEntityTypeDetail payer_15, tender.criteria.id, parties.details.legalEntityTypeDetail candidate_24, parties.details.legalEntityTypeDetail enquirer_21, parties.details.legalEntityTypeDetail candidate_23, parties.details.legalEntityTypeDetail enquirer_22, parties.details.legalEntityTypeDetail enquirer_23, parties.details.legalEntityTypeDetail candidate_25, parties.details.legalEntityTypeDetail enquirer_24, parties.details.legalEntityTypeDetail candidate_20, parties.details.legalEntityTypeDetail candidate_22, parties.details.legalEntityTypeDetail candidate_21, parties.details.legalEntityTypeDetail enquirer_20, parties.details.legalEntityTypeDetail enquirer_25, parties.details.legalEntityTypeDetail payer_9, parties.details.EntityType tenderer_1, parties.details.EntityType tenderer_2, parties.details.EntityType tenderer_3, parties.details.EntityType tenderer_4, parties.details.legalEntityTypeDetail tenderer_24, parties.details.legalEntityTypeDetail tenderer_25, contracts.statusDetails_3, parties.details.EntityType notifiedSupplier_1, contracts.statusDetails_2, parties.details.EntityType notifiedSupplier_3, parties.details.EntityType notifiedSupplier_2, parties.details.EntityType notifiedSupplier_4, contracts.statusDetails_9, contracts.statusDetails_4, contracts.statusDetails_7, tender.coveredBy_8, contracts.statusDetails_6, contracts.amendments.amendsAmount_usd, contracts.amendments.amendsAmount_pyg, tender.procurementIntention.procuringEntity.id q1, tender.procurementIntention.procuringEntity.name q1, parties.details.EntityType enquirer_4, parties.details.EntityType enquirer_3, parties.details.EntityType enquirer_2, parties.details.EntityType enquirer_1, parties.details.EntityType supplier_1, parties.details.EntityType supplier_3, tender.ProcurementIntentionCategory q3, parties.details.EntityType supplier_2, tender.ProcurementIntentionCategory q1, parties.details.EntityType supplier_4, parties.details.legalEntityTypeDetail supplier_22, parties.details.legalEntityTypeDetail supplier_25, parties.details.legalEntityTypeDetail supplier_24, Criterio de evaluacion faltante, parties.details.legalEntityTypeDetail supplier_21, contracts.documents.DocumentTypeDetails_12, awards.statusDetails_11, awards.statusDetails_10, parties.details.legalEntityTypeDetail supplier_18]\n",
      "  warnings.warn(mesg[\"message\"], RuntimeWarning)\n",
      "/usr/local/lib/python3.10/site-packages/h2o/estimators/estimator_base.py:192: RuntimeWarning: Stopping metric is ignored for _stopping_rounds=0.\n",
      "  warnings.warn(mesg[\"message\"], RuntimeWarning)\n"
     ]
    },
    {
     "name": "stdout",
     "output_type": "stream",
     "text": [
      "██████████████████████████████████████████████████| (done) 100%\n",
      "0.8193911434154598\n",
      "(0.7566713483146067, 0.89938139123848)\n"
     ]
    },
    {
     "name": "stderr",
     "output_type": "stream",
     "text": [
      "/usr/local/lib/python3.10/site-packages/sklearn/utils/extmath.py:153: RuntimeWarning: invalid value encountered in matmul\n",
      "  ret = a @ b\n"
     ]
    },
    {
     "name": "stdout",
     "output_type": "stream",
     "text": [
      "para value 0.14:\n",
      "Parse progress: |████████████████████████████████████████████████████████████████| (done) 100%\n",
      "Parse progress: |████████████████████████████████████████████████████████████████| (done) 100%\n",
      "xgboost Model Build progress: |"
     ]
    },
    {
     "name": "stderr",
     "output_type": "stream",
     "text": [
      "/usr/local/lib/python3.10/site-packages/h2o/estimators/estimator_base.py:192: RuntimeWarning: Dropping bad and constant columns: [tender.procurementMethod_open, parties.details.legalEntityTypeDetail buyer_15, parties.details.legalEntityTypeDetail buyer_14, parties.details.legalEntityTypeDetail buyer_13, parties.details.legalEntityTypeDetail buyer_12, parties.details.legalEntityTypeDetail buyer_11, parties.details.legalEntityTypeDetail buyer_10, parties.details.EntityType payee_1, parties.details.EntityType payee_2, parties.details.EntityType payee_3, parties.details.EntityType payee_4, planning.items.classification.id.n1_1_57, planning.items.classification.id.n1_1_58, Monto faltante, tender.status_active, tender.statusDetails_En Convocatoria (Abierta), parties.details.EntityType candidate_2, parties.details.EntityType candidate_1, parties.details.EntityType candidate_4, parties.details.legalEntityTypeDetail candidate_1, awards.statusDetails_2, parties.details.EntityType candidate_3, parties.details.legalEntityTypeDetail candidate_2, awards.statusDetails_3, parties.details.legalEntityTypeDetail procuringEntity_2, parties.details.legalEntityTypeDetail buyer_19, awards.statusDetails_4, parties.details.legalEntityTypeDetail procuringEntity_3, parties.details.legalEntityTypeDetail buyer_18, parties.details.legalEntityTypeDetail buyer_17, awards.statusDetails_6, parties.details.legalEntityTypeDetail procuringEntity_1, parties.details.legalEntityTypeDetail buyer_16, parties.details.legalEntityTypeDetail candidate_7, parties.details.legalEntityTypeDetail procuringEntity_6, awards.status_4, parties.details.legalEntityTypeDetail candidate_8, parties.details.legalEntityTypeDetail procuringEntity_7, parties.details.legalEntityTypeDetail candidate_9, parties.details.legalEntityTypeDetail procuringEntity_4, parties.details.legalEntityTypeDetail procuringEntity_10, parties.details.legalEntityTypeDetail procuringEntity_5, parties.details.legalEntityTypeDetail candidate_3, parties.details.legalEntityTypeDetail procuringEntity_12, parties.details.legalEntityTypeDetail candidate_4, parties.details.legalEntityTypeDetail procuringEntity_11, parties.details.legalEntityTypeDetail candidate_5, parties.details.legalEntityTypeDetail procuringEntity_8, parties.details.legalEntityTypeDetail procuringEntity_14, parties.details.legalEntityTypeDetail candidate_6, parties.details.legalEntityTypeDetail procuringEntity_9, parties.details.legalEntityTypeDetail procuringEntity_13, parties.details.legalEntityTypeDetail notifiedSupplier_24, awards.statusDetails_7, parties.details.legalEntityTypeDetail buyer_25, awards.statusDetails_9, parties.details.legalEntityTypeDetail buyer_24, parties.details.legalEntityTypeDetail buyer_23, parties.details.legalEntityTypeDetail buyer_22, parties.details.legalEntityTypeDetail buyer_21, parties.details.legalEntityTypeDetail buyer_20, parties.details.legalEntityTypeDetail procuringEntity_21, parties.details.legalEntityTypeDetail procuringEntity_20, parties.details.legalEntityTypeDetail procuringEntity_23, parties.details.legalEntityTypeDetail procuringEntity_22, parties.details.legalEntityTypeDetail procuringEntity_25, parties.details.legalEntityTypeDetail procuringEntity_24, parties.details.legalEntityTypeDetail procuringEntity_16, parties.details.legalEntityTypeDetail procuringEntity_15, parties.details.legalEntityTypeDetail procuringEntity_18, parties.details.legalEntityTypeDetail procuringEntity_17, parties.details.legalEntityTypeDetail procuringEntity_19, parties.roles candidate q2, parties.roles candidate q1, parties.roles candidate q4, parties.roles candidate q3, tender.procurementMethodDetails q2, parties.details.legalEntityTypeDetail candidate_13, parties.details.legalEntityTypeDetail candidate_12, parties.details.legalEntityTypeDetail candidate_15, parties.details.legalEntityTypeDetail candidate_14, secondStage.id q4, secondStage.id q3, secondStage.id q2, parties.details.legalEntityTypeDetail candidate_11, secondStage.id q1, parties.details.legalEntityTypeDetail candidate_10, parties.details.legalEntityTypeDetail payee_21, parties.details.legalEntityTypeDetail buyer_1, parties.details.legalEntityTypeDetail payee_22, parties.details.legalEntityTypeDetail buyer_2, parties.details.legalEntityTypeDetail candidate_17, parties.details.legalEntityTypeDetail candidate_16, parties.details.legalEntityTypeDetail candidate_19, parties.details.legalEntityTypeDetail candidate_18, parties.details.legalEntityTypeDetail buyer_7, parties.details.legalEntityTypeDetail buyer_8, parties.details.legalEntityTypeDetail buyer_9, parties.details.legalEntityTypeDetail payee_25, parties.details.legalEntityTypeDetail buyer_3, parties.details.legalEntityTypeDetail payee_24, parties.details.legalEntityTypeDetail buyer_4, parties.details.legalEntityTypeDetail buyer_5, parties.details.legalEntityTypeDetail buyer_6, parties.details.legalEntityTypeDetail payee_18, parties.details.legalEntityTypeDetail payer_3, parties.details.legalEntityTypeDetail payer_23, parties.details.legalEntityTypeDetail payer_4, parties.details.legalEntityTypeDetail payer_24, tender.eligibilityCriteria q3, parties.details.legalEntityTypeDetail payer_1, parties.details.legalEntityTypeDetail payer_21, parties.details.legalEntityTypeDetail payer_2, parties.details.legalEntityTypeDetail payer_22, parties.details.legalEntityTypeDetail payer_7, parties.details.legalEntityTypeDetail payer_8, parties.details.legalEntityTypeDetail payer_5, parties.details.legalEntityTypeDetail payer_25, awards.documents.DocumentTypeDetails_19, parties.details.legalEntityTypeDetail payer_6, awards.documents.DocumentTypeDetails_17, parties.details.legalEntityTypeDetail tenderer_18, awards.documents.DocumentTypeDetails_14, parties.details.legalEntityTypeDetail payer_20, parties.details.legalEntityTypeDetail enquirer_18, awards.documents.DocumentTypeDetails_20, parties.details.legalEntityTypeDetail enquirer_15, parties.details.legalEntityTypeDetail payer_18, parties.details.legalEntityTypeDetail payer_19, tender.eligibilityCriteria q2, contracts.status_4, parties.details.legalEntityTypeDetail payer_12, parties.details.legalEntityTypeDetail payer_13, parties.details.legalEntityTypeDetail payer_10, parties.details.legalEntityTypeDetail payer_11, tender.items.classification.id.n1_1_57, parties.details.legalEntityTypeDetail payer_16, parties.details.legalEntityTypeDetail payer_17, parties.details.legalEntityTypeDetail payer_14, parties.details.legalEntityTypeDetail payer_15, tender.criteria.id, parties.details.legalEntityTypeDetail candidate_24, parties.details.legalEntityTypeDetail enquirer_21, parties.details.legalEntityTypeDetail candidate_23, parties.details.legalEntityTypeDetail enquirer_22, parties.details.legalEntityTypeDetail enquirer_23, parties.details.legalEntityTypeDetail candidate_25, parties.details.legalEntityTypeDetail enquirer_24, parties.details.legalEntityTypeDetail candidate_20, parties.details.legalEntityTypeDetail candidate_22, parties.details.legalEntityTypeDetail candidate_21, parties.details.legalEntityTypeDetail enquirer_20, parties.details.legalEntityTypeDetail enquirer_25, parties.details.legalEntityTypeDetail payer_9, parties.details.EntityType tenderer_1, parties.details.EntityType tenderer_2, parties.details.EntityType tenderer_3, parties.details.EntityType tenderer_4, parties.details.legalEntityTypeDetail tenderer_24, parties.details.legalEntityTypeDetail tenderer_25, contracts.statusDetails_3, parties.details.EntityType notifiedSupplier_1, contracts.statusDetails_2, parties.details.EntityType notifiedSupplier_3, parties.details.EntityType notifiedSupplier_2, parties.details.EntityType notifiedSupplier_4, contracts.statusDetails_9, contracts.statusDetails_4, contracts.statusDetails_7, tender.coveredBy_8, contracts.statusDetails_6, contracts.amendments.amendsAmount_usd, contracts.amendments.amendsAmount_pyg, tender.procurementIntention.procuringEntity.id q1, tender.procurementIntention.procuringEntity.name q1, parties.details.EntityType enquirer_4, parties.details.EntityType enquirer_3, parties.details.EntityType enquirer_2, parties.details.EntityType enquirer_1, parties.details.EntityType supplier_1, parties.details.EntityType supplier_3, tender.ProcurementIntentionCategory q3, parties.details.EntityType supplier_2, tender.ProcurementIntentionCategory q1, parties.details.EntityType supplier_4, parties.details.legalEntityTypeDetail supplier_22, parties.details.legalEntityTypeDetail supplier_25, parties.details.legalEntityTypeDetail supplier_24, Criterio de evaluacion faltante, parties.details.legalEntityTypeDetail supplier_21, contracts.documents.DocumentTypeDetails_12, awards.statusDetails_11, awards.statusDetails_10, parties.details.legalEntityTypeDetail supplier_18]\n",
      "  warnings.warn(mesg[\"message\"], RuntimeWarning)\n",
      "/usr/local/lib/python3.10/site-packages/h2o/estimators/estimator_base.py:192: RuntimeWarning: Stopping metric is ignored for _stopping_rounds=0.\n",
      "  warnings.warn(mesg[\"message\"], RuntimeWarning)\n"
     ]
    },
    {
     "name": "stdout",
     "output_type": "stream",
     "text": [
      "██████████████████████████████████████████████████| (done) 100%\n",
      "0.8198253624354225\n",
      "(0.7636938202247191, 0.8942052771114758)\n"
     ]
    },
    {
     "name": "stderr",
     "output_type": "stream",
     "text": [
      "/usr/local/lib/python3.10/site-packages/sklearn/utils/extmath.py:153: RuntimeWarning: invalid value encountered in matmul\n",
      "  ret = a @ b\n"
     ]
    },
    {
     "name": "stdout",
     "output_type": "stream",
     "text": [
      "para value 0.155:\n",
      "Parse progress: |████████████████████████████████████████████████████████████████| (done) 100%\n",
      "Parse progress: |████████████████████████████████████████████████████████████████| (done) 100%\n",
      "xgboost Model Build progress: |"
     ]
    },
    {
     "name": "stderr",
     "output_type": "stream",
     "text": [
      "/usr/local/lib/python3.10/site-packages/h2o/estimators/estimator_base.py:192: RuntimeWarning: Dropping bad and constant columns: [tender.procurementMethod_open, parties.details.legalEntityTypeDetail buyer_15, parties.details.legalEntityTypeDetail buyer_14, parties.details.legalEntityTypeDetail buyer_13, parties.details.legalEntityTypeDetail buyer_12, parties.details.legalEntityTypeDetail buyer_11, parties.details.legalEntityTypeDetail buyer_10, parties.details.EntityType payee_1, parties.details.EntityType payee_2, parties.details.EntityType payee_3, parties.details.EntityType payee_4, planning.items.classification.id.n1_1_57, planning.items.classification.id.n1_1_58, Monto faltante, tender.status_active, tender.statusDetails_En Convocatoria (Abierta), parties.details.EntityType candidate_2, parties.details.EntityType candidate_1, parties.details.EntityType candidate_4, parties.details.legalEntityTypeDetail candidate_1, awards.statusDetails_2, parties.details.EntityType candidate_3, parties.details.legalEntityTypeDetail candidate_2, awards.statusDetails_3, parties.details.legalEntityTypeDetail procuringEntity_2, parties.details.legalEntityTypeDetail buyer_19, awards.statusDetails_4, parties.details.legalEntityTypeDetail procuringEntity_3, parties.details.legalEntityTypeDetail buyer_18, parties.details.legalEntityTypeDetail buyer_17, awards.statusDetails_6, parties.details.legalEntityTypeDetail procuringEntity_1, parties.details.legalEntityTypeDetail buyer_16, parties.details.legalEntityTypeDetail candidate_7, parties.details.legalEntityTypeDetail procuringEntity_6, awards.status_4, parties.details.legalEntityTypeDetail candidate_8, parties.details.legalEntityTypeDetail procuringEntity_7, parties.details.legalEntityTypeDetail candidate_9, parties.details.legalEntityTypeDetail procuringEntity_4, parties.details.legalEntityTypeDetail procuringEntity_10, parties.details.legalEntityTypeDetail procuringEntity_5, parties.details.legalEntityTypeDetail candidate_3, parties.details.legalEntityTypeDetail procuringEntity_12, parties.details.legalEntityTypeDetail candidate_4, parties.details.legalEntityTypeDetail procuringEntity_11, parties.details.legalEntityTypeDetail candidate_5, parties.details.legalEntityTypeDetail procuringEntity_8, parties.details.legalEntityTypeDetail procuringEntity_14, parties.details.legalEntityTypeDetail candidate_6, parties.details.legalEntityTypeDetail procuringEntity_9, parties.details.legalEntityTypeDetail procuringEntity_13, parties.details.legalEntityTypeDetail notifiedSupplier_24, awards.statusDetails_7, parties.details.legalEntityTypeDetail buyer_25, awards.statusDetails_9, parties.details.legalEntityTypeDetail buyer_24, parties.details.legalEntityTypeDetail buyer_23, parties.details.legalEntityTypeDetail buyer_22, parties.details.legalEntityTypeDetail buyer_21, parties.details.legalEntityTypeDetail buyer_20, parties.details.legalEntityTypeDetail procuringEntity_21, parties.details.legalEntityTypeDetail procuringEntity_20, parties.details.legalEntityTypeDetail procuringEntity_23, parties.details.legalEntityTypeDetail procuringEntity_22, parties.details.legalEntityTypeDetail procuringEntity_25, parties.details.legalEntityTypeDetail procuringEntity_24, parties.details.legalEntityTypeDetail procuringEntity_16, parties.details.legalEntityTypeDetail procuringEntity_15, parties.details.legalEntityTypeDetail procuringEntity_18, parties.details.legalEntityTypeDetail procuringEntity_17, parties.details.legalEntityTypeDetail procuringEntity_19, parties.roles candidate q2, parties.roles candidate q1, parties.roles candidate q4, parties.roles candidate q3, tender.procurementMethodDetails q2, parties.details.legalEntityTypeDetail candidate_13, parties.details.legalEntityTypeDetail candidate_12, parties.details.legalEntityTypeDetail candidate_15, parties.details.legalEntityTypeDetail candidate_14, secondStage.id q4, secondStage.id q3, secondStage.id q2, parties.details.legalEntityTypeDetail candidate_11, secondStage.id q1, parties.details.legalEntityTypeDetail candidate_10, parties.details.legalEntityTypeDetail payee_21, parties.details.legalEntityTypeDetail buyer_1, parties.details.legalEntityTypeDetail payee_22, parties.details.legalEntityTypeDetail buyer_2, parties.details.legalEntityTypeDetail candidate_17, parties.details.legalEntityTypeDetail candidate_16, parties.details.legalEntityTypeDetail candidate_19, parties.details.legalEntityTypeDetail candidate_18, parties.details.legalEntityTypeDetail buyer_7, parties.details.legalEntityTypeDetail buyer_8, parties.details.legalEntityTypeDetail buyer_9, parties.details.legalEntityTypeDetail payee_25, parties.details.legalEntityTypeDetail buyer_3, parties.details.legalEntityTypeDetail payee_24, parties.details.legalEntityTypeDetail buyer_4, parties.details.legalEntityTypeDetail buyer_5, parties.details.legalEntityTypeDetail buyer_6, parties.details.legalEntityTypeDetail payee_18, parties.details.legalEntityTypeDetail payer_3, parties.details.legalEntityTypeDetail payer_23, parties.details.legalEntityTypeDetail payer_4, parties.details.legalEntityTypeDetail payer_24, tender.eligibilityCriteria q3, parties.details.legalEntityTypeDetail payer_1, parties.details.legalEntityTypeDetail payer_21, parties.details.legalEntityTypeDetail payer_2, parties.details.legalEntityTypeDetail payer_22, parties.details.legalEntityTypeDetail payer_7, parties.details.legalEntityTypeDetail payer_8, parties.details.legalEntityTypeDetail payer_5, parties.details.legalEntityTypeDetail payer_25, awards.documents.DocumentTypeDetails_19, parties.details.legalEntityTypeDetail payer_6, awards.documents.DocumentTypeDetails_17, parties.details.legalEntityTypeDetail tenderer_18, awards.documents.DocumentTypeDetails_14, parties.details.legalEntityTypeDetail payer_20, parties.details.legalEntityTypeDetail enquirer_18, awards.documents.DocumentTypeDetails_20, parties.details.legalEntityTypeDetail enquirer_15, parties.details.legalEntityTypeDetail payer_18, parties.details.legalEntityTypeDetail payer_19, tender.eligibilityCriteria q2, contracts.status_4, parties.details.legalEntityTypeDetail payer_12, parties.details.legalEntityTypeDetail payer_13, parties.details.legalEntityTypeDetail payer_10, parties.details.legalEntityTypeDetail payer_11, tender.items.classification.id.n1_1_57, parties.details.legalEntityTypeDetail payer_16, parties.details.legalEntityTypeDetail payer_17, parties.details.legalEntityTypeDetail payer_14, parties.details.legalEntityTypeDetail payer_15, tender.criteria.id, parties.details.legalEntityTypeDetail candidate_24, parties.details.legalEntityTypeDetail enquirer_21, parties.details.legalEntityTypeDetail candidate_23, parties.details.legalEntityTypeDetail enquirer_22, parties.details.legalEntityTypeDetail enquirer_23, parties.details.legalEntityTypeDetail candidate_25, parties.details.legalEntityTypeDetail enquirer_24, parties.details.legalEntityTypeDetail candidate_20, parties.details.legalEntityTypeDetail candidate_22, parties.details.legalEntityTypeDetail candidate_21, parties.details.legalEntityTypeDetail enquirer_20, parties.details.legalEntityTypeDetail enquirer_25, parties.details.legalEntityTypeDetail payer_9, parties.details.EntityType tenderer_1, parties.details.EntityType tenderer_2, parties.details.EntityType tenderer_3, parties.details.EntityType tenderer_4, parties.details.legalEntityTypeDetail tenderer_24, parties.details.legalEntityTypeDetail tenderer_25, contracts.statusDetails_3, parties.details.EntityType notifiedSupplier_1, contracts.statusDetails_2, parties.details.EntityType notifiedSupplier_3, parties.details.EntityType notifiedSupplier_2, parties.details.EntityType notifiedSupplier_4, contracts.statusDetails_9, contracts.statusDetails_4, contracts.statusDetails_7, tender.coveredBy_8, contracts.statusDetails_6, contracts.amendments.amendsAmount_usd, contracts.amendments.amendsAmount_pyg, tender.procurementIntention.procuringEntity.id q1, tender.procurementIntention.procuringEntity.name q1, parties.details.EntityType enquirer_4, parties.details.EntityType enquirer_3, parties.details.EntityType enquirer_2, parties.details.EntityType enquirer_1, parties.details.EntityType supplier_1, parties.details.EntityType supplier_3, tender.ProcurementIntentionCategory q3, parties.details.EntityType supplier_2, tender.ProcurementIntentionCategory q1, parties.details.EntityType supplier_4, parties.details.legalEntityTypeDetail supplier_22, parties.details.legalEntityTypeDetail supplier_25, parties.details.legalEntityTypeDetail supplier_24, Criterio de evaluacion faltante, parties.details.legalEntityTypeDetail supplier_21, contracts.documents.DocumentTypeDetails_12, awards.statusDetails_11, awards.statusDetails_10, parties.details.legalEntityTypeDetail supplier_18]\n",
      "  warnings.warn(mesg[\"message\"], RuntimeWarning)\n",
      "/usr/local/lib/python3.10/site-packages/h2o/estimators/estimator_base.py:192: RuntimeWarning: Stopping metric is ignored for _stopping_rounds=0.\n",
      "  warnings.warn(mesg[\"message\"], RuntimeWarning)\n"
     ]
    },
    {
     "name": "stdout",
     "output_type": "stream",
     "text": [
      "██████████████████████████████████████████████████| (done) 100%\n",
      "0.8228451418286427\n",
      "(0.7724719101123596, 0.8865042292639819)\n"
     ]
    },
    {
     "name": "stderr",
     "output_type": "stream",
     "text": [
      "/usr/local/lib/python3.10/site-packages/sklearn/utils/extmath.py:153: RuntimeWarning: invalid value encountered in matmul\n",
      "  ret = a @ b\n"
     ]
    },
    {
     "name": "stdout",
     "output_type": "stream",
     "text": [
      "para value 0.17:\n",
      "Parse progress: |████████████████████████████████████████████████████████████████| (done) 100%\n",
      "Parse progress: |████████████████████████████████████████████████████████████████| (done) 100%\n",
      "xgboost Model Build progress: |"
     ]
    },
    {
     "name": "stderr",
     "output_type": "stream",
     "text": [
      "/usr/local/lib/python3.10/site-packages/h2o/estimators/estimator_base.py:192: RuntimeWarning: Dropping bad and constant columns: [tender.procurementMethod_open, parties.details.legalEntityTypeDetail buyer_15, parties.details.legalEntityTypeDetail buyer_14, parties.details.legalEntityTypeDetail buyer_13, parties.details.legalEntityTypeDetail buyer_12, parties.details.legalEntityTypeDetail buyer_11, parties.details.legalEntityTypeDetail buyer_10, parties.details.EntityType payee_1, parties.details.EntityType payee_2, parties.details.EntityType payee_3, parties.details.EntityType payee_4, planning.items.classification.id.n1_1_57, planning.items.classification.id.n1_1_58, Monto faltante, tender.status_active, tender.statusDetails_En Convocatoria (Abierta), parties.details.EntityType candidate_2, parties.details.EntityType candidate_1, parties.details.EntityType candidate_4, parties.details.legalEntityTypeDetail candidate_1, awards.statusDetails_2, parties.details.EntityType candidate_3, parties.details.legalEntityTypeDetail candidate_2, awards.statusDetails_3, parties.details.legalEntityTypeDetail procuringEntity_2, parties.details.legalEntityTypeDetail buyer_19, awards.statusDetails_4, parties.details.legalEntityTypeDetail procuringEntity_3, parties.details.legalEntityTypeDetail buyer_18, parties.details.legalEntityTypeDetail buyer_17, awards.statusDetails_6, parties.details.legalEntityTypeDetail procuringEntity_1, parties.details.legalEntityTypeDetail buyer_16, parties.details.legalEntityTypeDetail candidate_7, parties.details.legalEntityTypeDetail procuringEntity_6, awards.status_4, parties.details.legalEntityTypeDetail candidate_8, parties.details.legalEntityTypeDetail procuringEntity_7, parties.details.legalEntityTypeDetail candidate_9, parties.details.legalEntityTypeDetail procuringEntity_4, parties.details.legalEntityTypeDetail procuringEntity_10, parties.details.legalEntityTypeDetail procuringEntity_5, parties.details.legalEntityTypeDetail candidate_3, parties.details.legalEntityTypeDetail procuringEntity_12, parties.details.legalEntityTypeDetail candidate_4, parties.details.legalEntityTypeDetail procuringEntity_11, parties.details.legalEntityTypeDetail candidate_5, parties.details.legalEntityTypeDetail procuringEntity_8, parties.details.legalEntityTypeDetail procuringEntity_14, parties.details.legalEntityTypeDetail candidate_6, parties.details.legalEntityTypeDetail procuringEntity_9, parties.details.legalEntityTypeDetail procuringEntity_13, parties.details.legalEntityTypeDetail notifiedSupplier_24, awards.statusDetails_7, parties.details.legalEntityTypeDetail buyer_25, awards.statusDetails_9, parties.details.legalEntityTypeDetail buyer_24, parties.details.legalEntityTypeDetail buyer_23, parties.details.legalEntityTypeDetail buyer_22, parties.details.legalEntityTypeDetail buyer_21, parties.details.legalEntityTypeDetail buyer_20, parties.details.legalEntityTypeDetail procuringEntity_21, parties.details.legalEntityTypeDetail procuringEntity_20, parties.details.legalEntityTypeDetail procuringEntity_23, parties.details.legalEntityTypeDetail procuringEntity_22, parties.details.legalEntityTypeDetail procuringEntity_25, parties.details.legalEntityTypeDetail procuringEntity_24, parties.details.legalEntityTypeDetail procuringEntity_16, parties.details.legalEntityTypeDetail procuringEntity_15, parties.details.legalEntityTypeDetail procuringEntity_18, parties.details.legalEntityTypeDetail procuringEntity_17, parties.details.legalEntityTypeDetail procuringEntity_19, parties.roles candidate q2, parties.roles candidate q1, parties.roles candidate q4, parties.roles candidate q3, tender.procurementMethodDetails q2, parties.details.legalEntityTypeDetail candidate_13, parties.details.legalEntityTypeDetail candidate_12, parties.details.legalEntityTypeDetail candidate_15, parties.details.legalEntityTypeDetail candidate_14, secondStage.id q4, secondStage.id q3, secondStage.id q2, parties.details.legalEntityTypeDetail candidate_11, secondStage.id q1, parties.details.legalEntityTypeDetail candidate_10, parties.details.legalEntityTypeDetail payee_21, parties.details.legalEntityTypeDetail buyer_1, parties.details.legalEntityTypeDetail payee_22, parties.details.legalEntityTypeDetail buyer_2, parties.details.legalEntityTypeDetail candidate_17, parties.details.legalEntityTypeDetail candidate_16, parties.details.legalEntityTypeDetail candidate_19, parties.details.legalEntityTypeDetail candidate_18, parties.details.legalEntityTypeDetail buyer_7, parties.details.legalEntityTypeDetail buyer_8, parties.details.legalEntityTypeDetail buyer_9, parties.details.legalEntityTypeDetail payee_25, parties.details.legalEntityTypeDetail buyer_3, parties.details.legalEntityTypeDetail payee_24, parties.details.legalEntityTypeDetail buyer_4, parties.details.legalEntityTypeDetail buyer_5, parties.details.legalEntityTypeDetail buyer_6, parties.details.legalEntityTypeDetail payee_18, parties.details.legalEntityTypeDetail payer_3, parties.details.legalEntityTypeDetail payer_23, parties.details.legalEntityTypeDetail payer_4, parties.details.legalEntityTypeDetail payer_24, tender.eligibilityCriteria q3, parties.details.legalEntityTypeDetail payer_1, parties.details.legalEntityTypeDetail payer_21, parties.details.legalEntityTypeDetail payer_2, parties.details.legalEntityTypeDetail payer_22, parties.details.legalEntityTypeDetail payer_7, parties.details.legalEntityTypeDetail payer_8, parties.details.legalEntityTypeDetail payer_5, parties.details.legalEntityTypeDetail payer_25, awards.documents.DocumentTypeDetails_19, parties.details.legalEntityTypeDetail payer_6, awards.documents.DocumentTypeDetails_17, parties.details.legalEntityTypeDetail tenderer_18, awards.documents.DocumentTypeDetails_14, parties.details.legalEntityTypeDetail payer_20, parties.details.legalEntityTypeDetail enquirer_18, awards.documents.DocumentTypeDetails_20, parties.details.legalEntityTypeDetail enquirer_15, parties.details.legalEntityTypeDetail payer_18, parties.details.legalEntityTypeDetail payer_19, tender.eligibilityCriteria q2, contracts.status_4, parties.details.legalEntityTypeDetail payer_12, parties.details.legalEntityTypeDetail payer_13, parties.details.legalEntityTypeDetail payer_10, parties.details.legalEntityTypeDetail payer_11, tender.items.classification.id.n1_1_57, parties.details.legalEntityTypeDetail payer_16, parties.details.legalEntityTypeDetail payer_17, parties.details.legalEntityTypeDetail payer_14, parties.details.legalEntityTypeDetail payer_15, tender.criteria.id, parties.details.legalEntityTypeDetail candidate_24, parties.details.legalEntityTypeDetail enquirer_21, parties.details.legalEntityTypeDetail candidate_23, parties.details.legalEntityTypeDetail enquirer_22, parties.details.legalEntityTypeDetail enquirer_23, parties.details.legalEntityTypeDetail candidate_25, parties.details.legalEntityTypeDetail enquirer_24, parties.details.legalEntityTypeDetail candidate_20, parties.details.legalEntityTypeDetail candidate_22, parties.details.legalEntityTypeDetail candidate_21, parties.details.legalEntityTypeDetail enquirer_20, parties.details.legalEntityTypeDetail enquirer_25, parties.details.legalEntityTypeDetail payer_9, parties.details.EntityType tenderer_1, parties.details.EntityType tenderer_2, parties.details.EntityType tenderer_3, parties.details.EntityType tenderer_4, parties.details.legalEntityTypeDetail tenderer_24, parties.details.legalEntityTypeDetail tenderer_25, contracts.statusDetails_3, parties.details.EntityType notifiedSupplier_1, contracts.statusDetails_2, parties.details.EntityType notifiedSupplier_3, parties.details.EntityType notifiedSupplier_2, parties.details.EntityType notifiedSupplier_4, contracts.statusDetails_9, contracts.statusDetails_4, contracts.statusDetails_7, tender.coveredBy_8, contracts.statusDetails_6, contracts.amendments.amendsAmount_usd, contracts.amendments.amendsAmount_pyg, tender.procurementIntention.procuringEntity.id q1, tender.procurementIntention.procuringEntity.name q1, parties.details.EntityType enquirer_4, parties.details.EntityType enquirer_3, parties.details.EntityType enquirer_2, parties.details.EntityType enquirer_1, parties.details.EntityType supplier_1, parties.details.EntityType supplier_3, tender.ProcurementIntentionCategory q3, parties.details.EntityType supplier_2, tender.ProcurementIntentionCategory q1, parties.details.EntityType supplier_4, parties.details.legalEntityTypeDetail supplier_22, parties.details.legalEntityTypeDetail supplier_25, parties.details.legalEntityTypeDetail supplier_24, Criterio de evaluacion faltante, parties.details.legalEntityTypeDetail supplier_21, contracts.documents.DocumentTypeDetails_12, awards.statusDetails_11, awards.statusDetails_10, parties.details.legalEntityTypeDetail supplier_18]\n",
      "  warnings.warn(mesg[\"message\"], RuntimeWarning)\n",
      "/usr/local/lib/python3.10/site-packages/h2o/estimators/estimator_base.py:192: RuntimeWarning: Stopping metric is ignored for _stopping_rounds=0.\n",
      "  warnings.warn(mesg[\"message\"], RuntimeWarning)\n"
     ]
    },
    {
     "name": "stdout",
     "output_type": "stream",
     "text": [
      "██████████████████████████████████████████████████| (done) 100%\n",
      "0.8205088373087741\n",
      "(0.7514044943820225, 0.9024113117030678)\n"
     ]
    },
    {
     "name": "stderr",
     "output_type": "stream",
     "text": [
      "/usr/local/lib/python3.10/site-packages/sklearn/utils/extmath.py:153: RuntimeWarning: invalid value encountered in matmul\n",
      "  ret = a @ b\n"
     ]
    },
    {
     "name": "stdout",
     "output_type": "stream",
     "text": [
      "para value 0.185:\n",
      "Parse progress: |████████████████████████████████████████████████████████████████| (done) 100%\n",
      "Parse progress: |████████████████████████████████████████████████████████████████| (done) 100%\n",
      "xgboost Model Build progress: |"
     ]
    },
    {
     "name": "stderr",
     "output_type": "stream",
     "text": [
      "/usr/local/lib/python3.10/site-packages/h2o/estimators/estimator_base.py:192: RuntimeWarning: Dropping bad and constant columns: [tender.procurementMethod_open, parties.details.legalEntityTypeDetail buyer_15, parties.details.legalEntityTypeDetail buyer_14, parties.details.legalEntityTypeDetail buyer_13, parties.details.legalEntityTypeDetail buyer_12, parties.details.legalEntityTypeDetail buyer_11, parties.details.legalEntityTypeDetail buyer_10, parties.details.EntityType payee_1, parties.details.EntityType payee_2, parties.details.EntityType payee_3, parties.details.EntityType payee_4, planning.items.classification.id.n1_1_57, planning.items.classification.id.n1_1_58, Monto faltante, tender.status_active, tender.statusDetails_En Convocatoria (Abierta), parties.details.EntityType candidate_2, parties.details.EntityType candidate_1, parties.details.EntityType candidate_4, parties.details.legalEntityTypeDetail candidate_1, awards.statusDetails_2, parties.details.EntityType candidate_3, parties.details.legalEntityTypeDetail candidate_2, awards.statusDetails_3, parties.details.legalEntityTypeDetail procuringEntity_2, parties.details.legalEntityTypeDetail buyer_19, awards.statusDetails_4, parties.details.legalEntityTypeDetail procuringEntity_3, parties.details.legalEntityTypeDetail buyer_18, parties.details.legalEntityTypeDetail buyer_17, awards.statusDetails_6, parties.details.legalEntityTypeDetail procuringEntity_1, parties.details.legalEntityTypeDetail buyer_16, parties.details.legalEntityTypeDetail candidate_7, parties.details.legalEntityTypeDetail procuringEntity_6, awards.status_4, parties.details.legalEntityTypeDetail candidate_8, parties.details.legalEntityTypeDetail procuringEntity_7, parties.details.legalEntityTypeDetail candidate_9, parties.details.legalEntityTypeDetail procuringEntity_4, parties.details.legalEntityTypeDetail procuringEntity_10, parties.details.legalEntityTypeDetail procuringEntity_5, parties.details.legalEntityTypeDetail candidate_3, parties.details.legalEntityTypeDetail procuringEntity_12, parties.details.legalEntityTypeDetail candidate_4, parties.details.legalEntityTypeDetail procuringEntity_11, parties.details.legalEntityTypeDetail candidate_5, parties.details.legalEntityTypeDetail procuringEntity_8, parties.details.legalEntityTypeDetail procuringEntity_14, parties.details.legalEntityTypeDetail candidate_6, parties.details.legalEntityTypeDetail procuringEntity_9, parties.details.legalEntityTypeDetail procuringEntity_13, parties.details.legalEntityTypeDetail notifiedSupplier_24, awards.statusDetails_7, parties.details.legalEntityTypeDetail buyer_25, awards.statusDetails_9, parties.details.legalEntityTypeDetail buyer_24, parties.details.legalEntityTypeDetail buyer_23, parties.details.legalEntityTypeDetail buyer_22, parties.details.legalEntityTypeDetail buyer_21, parties.details.legalEntityTypeDetail buyer_20, parties.details.legalEntityTypeDetail procuringEntity_21, parties.details.legalEntityTypeDetail procuringEntity_20, parties.details.legalEntityTypeDetail procuringEntity_23, parties.details.legalEntityTypeDetail procuringEntity_22, parties.details.legalEntityTypeDetail procuringEntity_25, parties.details.legalEntityTypeDetail procuringEntity_24, parties.details.legalEntityTypeDetail procuringEntity_16, parties.details.legalEntityTypeDetail procuringEntity_15, parties.details.legalEntityTypeDetail procuringEntity_18, parties.details.legalEntityTypeDetail procuringEntity_17, parties.details.legalEntityTypeDetail procuringEntity_19, parties.roles candidate q2, parties.roles candidate q1, parties.roles candidate q4, parties.roles candidate q3, tender.procurementMethodDetails q2, parties.details.legalEntityTypeDetail candidate_13, parties.details.legalEntityTypeDetail candidate_12, parties.details.legalEntityTypeDetail candidate_15, parties.details.legalEntityTypeDetail candidate_14, secondStage.id q4, secondStage.id q3, secondStage.id q2, parties.details.legalEntityTypeDetail candidate_11, secondStage.id q1, parties.details.legalEntityTypeDetail candidate_10, parties.details.legalEntityTypeDetail payee_21, parties.details.legalEntityTypeDetail buyer_1, parties.details.legalEntityTypeDetail payee_22, parties.details.legalEntityTypeDetail buyer_2, parties.details.legalEntityTypeDetail candidate_17, parties.details.legalEntityTypeDetail candidate_16, parties.details.legalEntityTypeDetail candidate_19, parties.details.legalEntityTypeDetail candidate_18, parties.details.legalEntityTypeDetail buyer_7, parties.details.legalEntityTypeDetail buyer_8, parties.details.legalEntityTypeDetail buyer_9, parties.details.legalEntityTypeDetail payee_25, parties.details.legalEntityTypeDetail buyer_3, parties.details.legalEntityTypeDetail payee_24, parties.details.legalEntityTypeDetail buyer_4, parties.details.legalEntityTypeDetail buyer_5, parties.details.legalEntityTypeDetail buyer_6, parties.details.legalEntityTypeDetail payee_18, parties.details.legalEntityTypeDetail payer_3, parties.details.legalEntityTypeDetail payer_23, parties.details.legalEntityTypeDetail payer_4, parties.details.legalEntityTypeDetail payer_24, tender.eligibilityCriteria q3, parties.details.legalEntityTypeDetail payer_1, parties.details.legalEntityTypeDetail payer_21, parties.details.legalEntityTypeDetail payer_2, parties.details.legalEntityTypeDetail payer_22, parties.details.legalEntityTypeDetail payer_7, parties.details.legalEntityTypeDetail payer_8, parties.details.legalEntityTypeDetail payer_5, parties.details.legalEntityTypeDetail payer_25, awards.documents.DocumentTypeDetails_19, parties.details.legalEntityTypeDetail payer_6, awards.documents.DocumentTypeDetails_17, parties.details.legalEntityTypeDetail tenderer_18, awards.documents.DocumentTypeDetails_14, parties.details.legalEntityTypeDetail payer_20, parties.details.legalEntityTypeDetail enquirer_18, awards.documents.DocumentTypeDetails_20, parties.details.legalEntityTypeDetail enquirer_15, parties.details.legalEntityTypeDetail payer_18, parties.details.legalEntityTypeDetail payer_19, tender.eligibilityCriteria q2, contracts.status_4, parties.details.legalEntityTypeDetail payer_12, parties.details.legalEntityTypeDetail payer_13, parties.details.legalEntityTypeDetail payer_10, parties.details.legalEntityTypeDetail payer_11, tender.items.classification.id.n1_1_57, parties.details.legalEntityTypeDetail payer_16, parties.details.legalEntityTypeDetail payer_17, parties.details.legalEntityTypeDetail payer_14, parties.details.legalEntityTypeDetail payer_15, tender.criteria.id, parties.details.legalEntityTypeDetail candidate_24, parties.details.legalEntityTypeDetail enquirer_21, parties.details.legalEntityTypeDetail candidate_23, parties.details.legalEntityTypeDetail enquirer_22, parties.details.legalEntityTypeDetail enquirer_23, parties.details.legalEntityTypeDetail candidate_25, parties.details.legalEntityTypeDetail enquirer_24, parties.details.legalEntityTypeDetail candidate_20, parties.details.legalEntityTypeDetail candidate_22, parties.details.legalEntityTypeDetail candidate_21, parties.details.legalEntityTypeDetail enquirer_20, parties.details.legalEntityTypeDetail enquirer_25, parties.details.legalEntityTypeDetail payer_9, parties.details.EntityType tenderer_1, parties.details.EntityType tenderer_2, parties.details.EntityType tenderer_3, parties.details.EntityType tenderer_4, parties.details.legalEntityTypeDetail tenderer_24, parties.details.legalEntityTypeDetail tenderer_25, contracts.statusDetails_3, parties.details.EntityType notifiedSupplier_1, contracts.statusDetails_2, parties.details.EntityType notifiedSupplier_3, parties.details.EntityType notifiedSupplier_2, parties.details.EntityType notifiedSupplier_4, contracts.statusDetails_9, contracts.statusDetails_4, contracts.statusDetails_7, tender.coveredBy_8, contracts.statusDetails_6, contracts.amendments.amendsAmount_usd, contracts.amendments.amendsAmount_pyg, tender.procurementIntention.procuringEntity.id q1, tender.procurementIntention.procuringEntity.name q1, parties.details.EntityType enquirer_4, parties.details.EntityType enquirer_3, parties.details.EntityType enquirer_2, parties.details.EntityType enquirer_1, parties.details.EntityType supplier_1, parties.details.EntityType supplier_3, tender.ProcurementIntentionCategory q3, parties.details.EntityType supplier_2, tender.ProcurementIntentionCategory q1, parties.details.EntityType supplier_4, parties.details.legalEntityTypeDetail supplier_22, parties.details.legalEntityTypeDetail supplier_25, parties.details.legalEntityTypeDetail supplier_24, Criterio de evaluacion faltante, parties.details.legalEntityTypeDetail supplier_21, contracts.documents.DocumentTypeDetails_12, awards.statusDetails_11, awards.statusDetails_10, parties.details.legalEntityTypeDetail supplier_18]\n",
      "  warnings.warn(mesg[\"message\"], RuntimeWarning)\n",
      "/usr/local/lib/python3.10/site-packages/h2o/estimators/estimator_base.py:192: RuntimeWarning: Stopping metric is ignored for _stopping_rounds=0.\n",
      "  warnings.warn(mesg[\"message\"], RuntimeWarning)\n"
     ]
    },
    {
     "name": "stdout",
     "output_type": "stream",
     "text": [
      "██████████████████████████████████████████████████| (done) 100%\n",
      "0.8196635257729308\n",
      "(0.7099719101123596, 0.9200858477464966)\n"
     ]
    },
    {
     "name": "stderr",
     "output_type": "stream",
     "text": [
      "/usr/local/lib/python3.10/site-packages/sklearn/utils/extmath.py:153: RuntimeWarning: invalid value encountered in matmul\n",
      "  ret = a @ b\n"
     ]
    },
    {
     "name": "stdout",
     "output_type": "stream",
     "text": [
      "para value 0.2:\n",
      "Parse progress: |████████████████████████████████████████████████████████████████| (done) 100%\n",
      "Parse progress: |████████████████████████████████████████████████████████████████| (done) 100%\n",
      "xgboost Model Build progress: |"
     ]
    },
    {
     "name": "stderr",
     "output_type": "stream",
     "text": [
      "/usr/local/lib/python3.10/site-packages/h2o/estimators/estimator_base.py:192: RuntimeWarning: Dropping bad and constant columns: [tender.procurementMethod_open, parties.details.legalEntityTypeDetail buyer_15, parties.details.legalEntityTypeDetail buyer_14, parties.details.legalEntityTypeDetail buyer_13, parties.details.legalEntityTypeDetail buyer_12, parties.details.legalEntityTypeDetail buyer_11, parties.details.legalEntityTypeDetail buyer_10, parties.details.EntityType payee_1, parties.details.EntityType payee_2, parties.details.EntityType payee_3, parties.details.EntityType payee_4, planning.items.classification.id.n1_1_57, planning.items.classification.id.n1_1_58, Monto faltante, tender.status_active, tender.statusDetails_En Convocatoria (Abierta), parties.details.EntityType candidate_2, parties.details.EntityType candidate_1, parties.details.EntityType candidate_4, parties.details.legalEntityTypeDetail candidate_1, awards.statusDetails_2, parties.details.EntityType candidate_3, parties.details.legalEntityTypeDetail candidate_2, awards.statusDetails_3, parties.details.legalEntityTypeDetail procuringEntity_2, parties.details.legalEntityTypeDetail buyer_19, awards.statusDetails_4, parties.details.legalEntityTypeDetail procuringEntity_3, parties.details.legalEntityTypeDetail buyer_18, parties.details.legalEntityTypeDetail buyer_17, awards.statusDetails_6, parties.details.legalEntityTypeDetail procuringEntity_1, parties.details.legalEntityTypeDetail buyer_16, parties.details.legalEntityTypeDetail candidate_7, parties.details.legalEntityTypeDetail procuringEntity_6, awards.status_4, parties.details.legalEntityTypeDetail candidate_8, parties.details.legalEntityTypeDetail procuringEntity_7, parties.details.legalEntityTypeDetail candidate_9, parties.details.legalEntityTypeDetail procuringEntity_4, parties.details.legalEntityTypeDetail procuringEntity_10, parties.details.legalEntityTypeDetail procuringEntity_5, parties.details.legalEntityTypeDetail candidate_3, parties.details.legalEntityTypeDetail procuringEntity_12, parties.details.legalEntityTypeDetail candidate_4, parties.details.legalEntityTypeDetail procuringEntity_11, parties.details.legalEntityTypeDetail candidate_5, parties.details.legalEntityTypeDetail procuringEntity_8, parties.details.legalEntityTypeDetail procuringEntity_14, parties.details.legalEntityTypeDetail candidate_6, parties.details.legalEntityTypeDetail procuringEntity_9, parties.details.legalEntityTypeDetail procuringEntity_13, parties.details.legalEntityTypeDetail notifiedSupplier_24, awards.statusDetails_7, parties.details.legalEntityTypeDetail buyer_25, awards.statusDetails_9, parties.details.legalEntityTypeDetail buyer_24, parties.details.legalEntityTypeDetail buyer_23, parties.details.legalEntityTypeDetail buyer_22, parties.details.legalEntityTypeDetail buyer_21, parties.details.legalEntityTypeDetail buyer_20, parties.details.legalEntityTypeDetail procuringEntity_21, parties.details.legalEntityTypeDetail procuringEntity_20, parties.details.legalEntityTypeDetail procuringEntity_23, parties.details.legalEntityTypeDetail procuringEntity_22, parties.details.legalEntityTypeDetail procuringEntity_25, parties.details.legalEntityTypeDetail procuringEntity_24, parties.details.legalEntityTypeDetail procuringEntity_16, parties.details.legalEntityTypeDetail procuringEntity_15, parties.details.legalEntityTypeDetail procuringEntity_18, parties.details.legalEntityTypeDetail procuringEntity_17, parties.details.legalEntityTypeDetail procuringEntity_19, parties.roles candidate q2, parties.roles candidate q1, parties.roles candidate q4, parties.roles candidate q3, tender.procurementMethodDetails q2, parties.details.legalEntityTypeDetail candidate_13, parties.details.legalEntityTypeDetail candidate_12, parties.details.legalEntityTypeDetail candidate_15, parties.details.legalEntityTypeDetail candidate_14, secondStage.id q4, secondStage.id q3, secondStage.id q2, parties.details.legalEntityTypeDetail candidate_11, secondStage.id q1, parties.details.legalEntityTypeDetail candidate_10, parties.details.legalEntityTypeDetail payee_21, parties.details.legalEntityTypeDetail buyer_1, parties.details.legalEntityTypeDetail payee_22, parties.details.legalEntityTypeDetail buyer_2, parties.details.legalEntityTypeDetail candidate_17, parties.details.legalEntityTypeDetail candidate_16, parties.details.legalEntityTypeDetail candidate_19, parties.details.legalEntityTypeDetail candidate_18, parties.details.legalEntityTypeDetail buyer_7, parties.details.legalEntityTypeDetail buyer_8, parties.details.legalEntityTypeDetail buyer_9, parties.details.legalEntityTypeDetail payee_25, parties.details.legalEntityTypeDetail buyer_3, parties.details.legalEntityTypeDetail payee_24, parties.details.legalEntityTypeDetail buyer_4, parties.details.legalEntityTypeDetail buyer_5, parties.details.legalEntityTypeDetail buyer_6, parties.details.legalEntityTypeDetail payee_18, parties.details.legalEntityTypeDetail payer_3, parties.details.legalEntityTypeDetail payer_23, parties.details.legalEntityTypeDetail payer_4, parties.details.legalEntityTypeDetail payer_24, tender.eligibilityCriteria q3, parties.details.legalEntityTypeDetail payer_1, parties.details.legalEntityTypeDetail payer_21, parties.details.legalEntityTypeDetail payer_2, parties.details.legalEntityTypeDetail payer_22, parties.details.legalEntityTypeDetail payer_7, parties.details.legalEntityTypeDetail payer_8, parties.details.legalEntityTypeDetail payer_5, parties.details.legalEntityTypeDetail payer_25, awards.documents.DocumentTypeDetails_19, parties.details.legalEntityTypeDetail payer_6, awards.documents.DocumentTypeDetails_17, parties.details.legalEntityTypeDetail tenderer_18, awards.documents.DocumentTypeDetails_14, parties.details.legalEntityTypeDetail payer_20, parties.details.legalEntityTypeDetail enquirer_18, awards.documents.DocumentTypeDetails_20, parties.details.legalEntityTypeDetail enquirer_15, parties.details.legalEntityTypeDetail payer_18, parties.details.legalEntityTypeDetail payer_19, tender.eligibilityCriteria q2, contracts.status_4, parties.details.legalEntityTypeDetail payer_12, parties.details.legalEntityTypeDetail payer_13, parties.details.legalEntityTypeDetail payer_10, parties.details.legalEntityTypeDetail payer_11, tender.items.classification.id.n1_1_57, parties.details.legalEntityTypeDetail payer_16, parties.details.legalEntityTypeDetail payer_17, parties.details.legalEntityTypeDetail payer_14, parties.details.legalEntityTypeDetail payer_15, tender.criteria.id, parties.details.legalEntityTypeDetail candidate_24, parties.details.legalEntityTypeDetail enquirer_21, parties.details.legalEntityTypeDetail candidate_23, parties.details.legalEntityTypeDetail enquirer_22, parties.details.legalEntityTypeDetail enquirer_23, parties.details.legalEntityTypeDetail candidate_25, parties.details.legalEntityTypeDetail enquirer_24, parties.details.legalEntityTypeDetail candidate_20, parties.details.legalEntityTypeDetail candidate_22, parties.details.legalEntityTypeDetail candidate_21, parties.details.legalEntityTypeDetail enquirer_20, parties.details.legalEntityTypeDetail enquirer_25, parties.details.legalEntityTypeDetail payer_9, parties.details.EntityType tenderer_1, parties.details.EntityType tenderer_2, parties.details.EntityType tenderer_3, parties.details.EntityType tenderer_4, parties.details.legalEntityTypeDetail tenderer_24, parties.details.legalEntityTypeDetail tenderer_25, contracts.statusDetails_3, parties.details.EntityType notifiedSupplier_1, contracts.statusDetails_2, parties.details.EntityType notifiedSupplier_3, parties.details.EntityType notifiedSupplier_2, parties.details.EntityType notifiedSupplier_4, contracts.statusDetails_9, contracts.statusDetails_4, contracts.statusDetails_7, tender.coveredBy_8, contracts.statusDetails_6, contracts.amendments.amendsAmount_usd, contracts.amendments.amendsAmount_pyg, tender.procurementIntention.procuringEntity.id q1, tender.procurementIntention.procuringEntity.name q1, parties.details.EntityType enquirer_4, parties.details.EntityType enquirer_3, parties.details.EntityType enquirer_2, parties.details.EntityType enquirer_1, parties.details.EntityType supplier_1, parties.details.EntityType supplier_3, tender.ProcurementIntentionCategory q3, parties.details.EntityType supplier_2, tender.ProcurementIntentionCategory q1, parties.details.EntityType supplier_4, parties.details.legalEntityTypeDetail supplier_22, parties.details.legalEntityTypeDetail supplier_25, parties.details.legalEntityTypeDetail supplier_24, Criterio de evaluacion faltante, parties.details.legalEntityTypeDetail supplier_21, contracts.documents.DocumentTypeDetails_12, awards.statusDetails_11, awards.statusDetails_10, parties.details.legalEntityTypeDetail supplier_18]\n",
      "  warnings.warn(mesg[\"message\"], RuntimeWarning)\n",
      "/usr/local/lib/python3.10/site-packages/h2o/estimators/estimator_base.py:192: RuntimeWarning: Stopping metric is ignored for _stopping_rounds=0.\n",
      "  warnings.warn(mesg[\"message\"], RuntimeWarning)\n"
     ]
    },
    {
     "name": "stdout",
     "output_type": "stream",
     "text": [
      "██████████████████████████████████████████████████| (done) 100%\n",
      "0.8155192326271324\n",
      "(0.7176966292134831, 0.9181921474561293)\n"
     ]
    },
    {
     "name": "stderr",
     "output_type": "stream",
     "text": [
      "/usr/local/lib/python3.10/site-packages/sklearn/utils/extmath.py:153: RuntimeWarning: invalid value encountered in matmul\n",
      "  ret = a @ b\n"
     ]
    },
    {
     "name": "stdout",
     "output_type": "stream",
     "text": [
      "para value 0.215:\n",
      "Parse progress: |████████████████████████████████████████████████████████████████| (done) 100%\n",
      "Parse progress: |████████████████████████████████████████████████████████████████| (done) 100%\n",
      "xgboost Model Build progress: |"
     ]
    },
    {
     "name": "stderr",
     "output_type": "stream",
     "text": [
      "/usr/local/lib/python3.10/site-packages/h2o/estimators/estimator_base.py:192: RuntimeWarning: Dropping bad and constant columns: [tender.procurementMethod_open, parties.details.legalEntityTypeDetail buyer_15, parties.details.legalEntityTypeDetail buyer_14, parties.details.legalEntityTypeDetail buyer_13, parties.details.legalEntityTypeDetail buyer_12, parties.details.legalEntityTypeDetail buyer_11, parties.details.legalEntityTypeDetail buyer_10, parties.details.EntityType payee_1, parties.details.EntityType payee_2, parties.details.EntityType payee_3, parties.details.EntityType payee_4, planning.items.classification.id.n1_1_57, planning.items.classification.id.n1_1_58, Monto faltante, tender.status_active, tender.statusDetails_En Convocatoria (Abierta), parties.details.EntityType candidate_2, parties.details.EntityType candidate_1, parties.details.EntityType candidate_4, parties.details.legalEntityTypeDetail candidate_1, awards.statusDetails_2, parties.details.EntityType candidate_3, parties.details.legalEntityTypeDetail candidate_2, awards.statusDetails_3, parties.details.legalEntityTypeDetail procuringEntity_2, parties.details.legalEntityTypeDetail buyer_19, awards.statusDetails_4, parties.details.legalEntityTypeDetail procuringEntity_3, parties.details.legalEntityTypeDetail buyer_18, parties.details.legalEntityTypeDetail buyer_17, awards.statusDetails_6, parties.details.legalEntityTypeDetail procuringEntity_1, parties.details.legalEntityTypeDetail buyer_16, parties.details.legalEntityTypeDetail candidate_7, parties.details.legalEntityTypeDetail procuringEntity_6, awards.status_4, parties.details.legalEntityTypeDetail candidate_8, parties.details.legalEntityTypeDetail procuringEntity_7, parties.details.legalEntityTypeDetail candidate_9, parties.details.legalEntityTypeDetail procuringEntity_4, parties.details.legalEntityTypeDetail procuringEntity_10, parties.details.legalEntityTypeDetail procuringEntity_5, parties.details.legalEntityTypeDetail candidate_3, parties.details.legalEntityTypeDetail procuringEntity_12, parties.details.legalEntityTypeDetail candidate_4, parties.details.legalEntityTypeDetail procuringEntity_11, parties.details.legalEntityTypeDetail candidate_5, parties.details.legalEntityTypeDetail procuringEntity_8, parties.details.legalEntityTypeDetail procuringEntity_14, parties.details.legalEntityTypeDetail candidate_6, parties.details.legalEntityTypeDetail procuringEntity_9, parties.details.legalEntityTypeDetail procuringEntity_13, parties.details.legalEntityTypeDetail notifiedSupplier_24, awards.statusDetails_7, parties.details.legalEntityTypeDetail buyer_25, awards.statusDetails_9, parties.details.legalEntityTypeDetail buyer_24, parties.details.legalEntityTypeDetail buyer_23, parties.details.legalEntityTypeDetail buyer_22, parties.details.legalEntityTypeDetail buyer_21, parties.details.legalEntityTypeDetail buyer_20, parties.details.legalEntityTypeDetail procuringEntity_21, parties.details.legalEntityTypeDetail procuringEntity_20, parties.details.legalEntityTypeDetail procuringEntity_23, parties.details.legalEntityTypeDetail procuringEntity_22, parties.details.legalEntityTypeDetail procuringEntity_25, parties.details.legalEntityTypeDetail procuringEntity_24, parties.details.legalEntityTypeDetail procuringEntity_16, parties.details.legalEntityTypeDetail procuringEntity_15, parties.details.legalEntityTypeDetail procuringEntity_18, parties.details.legalEntityTypeDetail procuringEntity_17, parties.details.legalEntityTypeDetail procuringEntity_19, parties.roles candidate q2, parties.roles candidate q1, parties.roles candidate q4, parties.roles candidate q3, tender.procurementMethodDetails q2, parties.details.legalEntityTypeDetail candidate_13, parties.details.legalEntityTypeDetail candidate_12, parties.details.legalEntityTypeDetail candidate_15, parties.details.legalEntityTypeDetail candidate_14, secondStage.id q4, secondStage.id q3, secondStage.id q2, parties.details.legalEntityTypeDetail candidate_11, secondStage.id q1, parties.details.legalEntityTypeDetail candidate_10, parties.details.legalEntityTypeDetail payee_21, parties.details.legalEntityTypeDetail buyer_1, parties.details.legalEntityTypeDetail payee_22, parties.details.legalEntityTypeDetail buyer_2, parties.details.legalEntityTypeDetail candidate_17, parties.details.legalEntityTypeDetail candidate_16, parties.details.legalEntityTypeDetail candidate_19, parties.details.legalEntityTypeDetail candidate_18, parties.details.legalEntityTypeDetail buyer_7, parties.details.legalEntityTypeDetail buyer_8, parties.details.legalEntityTypeDetail buyer_9, parties.details.legalEntityTypeDetail payee_25, parties.details.legalEntityTypeDetail buyer_3, parties.details.legalEntityTypeDetail payee_24, parties.details.legalEntityTypeDetail buyer_4, parties.details.legalEntityTypeDetail buyer_5, parties.details.legalEntityTypeDetail buyer_6, parties.details.legalEntityTypeDetail payee_18, parties.details.legalEntityTypeDetail payer_3, parties.details.legalEntityTypeDetail payer_23, parties.details.legalEntityTypeDetail payer_4, parties.details.legalEntityTypeDetail payer_24, tender.eligibilityCriteria q3, parties.details.legalEntityTypeDetail payer_1, parties.details.legalEntityTypeDetail payer_21, parties.details.legalEntityTypeDetail payer_2, parties.details.legalEntityTypeDetail payer_22, parties.details.legalEntityTypeDetail payer_7, parties.details.legalEntityTypeDetail payer_8, parties.details.legalEntityTypeDetail payer_5, parties.details.legalEntityTypeDetail payer_25, awards.documents.DocumentTypeDetails_19, parties.details.legalEntityTypeDetail payer_6, awards.documents.DocumentTypeDetails_17, parties.details.legalEntityTypeDetail tenderer_18, awards.documents.DocumentTypeDetails_14, parties.details.legalEntityTypeDetail payer_20, parties.details.legalEntityTypeDetail enquirer_18, awards.documents.DocumentTypeDetails_20, parties.details.legalEntityTypeDetail enquirer_15, parties.details.legalEntityTypeDetail payer_18, parties.details.legalEntityTypeDetail payer_19, tender.eligibilityCriteria q2, contracts.status_4, parties.details.legalEntityTypeDetail payer_12, parties.details.legalEntityTypeDetail payer_13, parties.details.legalEntityTypeDetail payer_10, parties.details.legalEntityTypeDetail payer_11, tender.items.classification.id.n1_1_57, parties.details.legalEntityTypeDetail payer_16, parties.details.legalEntityTypeDetail payer_17, parties.details.legalEntityTypeDetail payer_14, parties.details.legalEntityTypeDetail payer_15, tender.criteria.id, parties.details.legalEntityTypeDetail candidate_24, parties.details.legalEntityTypeDetail enquirer_21, parties.details.legalEntityTypeDetail candidate_23, parties.details.legalEntityTypeDetail enquirer_22, parties.details.legalEntityTypeDetail enquirer_23, parties.details.legalEntityTypeDetail candidate_25, parties.details.legalEntityTypeDetail enquirer_24, parties.details.legalEntityTypeDetail candidate_20, parties.details.legalEntityTypeDetail candidate_22, parties.details.legalEntityTypeDetail candidate_21, parties.details.legalEntityTypeDetail enquirer_20, parties.details.legalEntityTypeDetail enquirer_25, parties.details.legalEntityTypeDetail payer_9, parties.details.EntityType tenderer_1, parties.details.EntityType tenderer_2, parties.details.EntityType tenderer_3, parties.details.EntityType tenderer_4, parties.details.legalEntityTypeDetail tenderer_24, parties.details.legalEntityTypeDetail tenderer_25, contracts.statusDetails_3, parties.details.EntityType notifiedSupplier_1, contracts.statusDetails_2, parties.details.EntityType notifiedSupplier_3, parties.details.EntityType notifiedSupplier_2, parties.details.EntityType notifiedSupplier_4, contracts.statusDetails_9, contracts.statusDetails_4, contracts.statusDetails_7, tender.coveredBy_8, contracts.statusDetails_6, contracts.amendments.amendsAmount_usd, contracts.amendments.amendsAmount_pyg, tender.procurementIntention.procuringEntity.id q1, tender.procurementIntention.procuringEntity.name q1, parties.details.EntityType enquirer_4, parties.details.EntityType enquirer_3, parties.details.EntityType enquirer_2, parties.details.EntityType enquirer_1, parties.details.EntityType supplier_1, parties.details.EntityType supplier_3, tender.ProcurementIntentionCategory q3, parties.details.EntityType supplier_2, tender.ProcurementIntentionCategory q1, parties.details.EntityType supplier_4, parties.details.legalEntityTypeDetail supplier_22, parties.details.legalEntityTypeDetail supplier_25, parties.details.legalEntityTypeDetail supplier_24, Criterio de evaluacion faltante, parties.details.legalEntityTypeDetail supplier_21, contracts.documents.DocumentTypeDetails_12, awards.statusDetails_11, awards.statusDetails_10, parties.details.legalEntityTypeDetail supplier_18]\n",
      "  warnings.warn(mesg[\"message\"], RuntimeWarning)\n",
      "/usr/local/lib/python3.10/site-packages/h2o/estimators/estimator_base.py:192: RuntimeWarning: Stopping metric is ignored for _stopping_rounds=0.\n",
      "  warnings.warn(mesg[\"message\"], RuntimeWarning)\n"
     ]
    },
    {
     "name": "stdout",
     "output_type": "stream",
     "text": [
      "██████████████████████████████████████████████████| (done) 100%\n",
      "0.8202827795585818\n",
      "(0.7275280898876404, 0.9130160333291251)\n"
     ]
    },
    {
     "name": "stderr",
     "output_type": "stream",
     "text": [
      "/usr/local/lib/python3.10/site-packages/sklearn/utils/extmath.py:153: RuntimeWarning: invalid value encountered in matmul\n",
      "  ret = a @ b\n"
     ]
    },
    {
     "name": "stdout",
     "output_type": "stream",
     "text": [
      "para value 0.23:\n",
      "Parse progress: |████████████████████████████████████████████████████████████████| (done) 100%\n",
      "Parse progress: |████████████████████████████████████████████████████████████████| (done) 100%\n",
      "xgboost Model Build progress: |"
     ]
    },
    {
     "name": "stderr",
     "output_type": "stream",
     "text": [
      "/usr/local/lib/python3.10/site-packages/h2o/estimators/estimator_base.py:192: RuntimeWarning: Dropping bad and constant columns: [tender.procurementMethod_open, parties.details.legalEntityTypeDetail buyer_15, parties.details.legalEntityTypeDetail buyer_14, parties.details.legalEntityTypeDetail buyer_13, parties.details.legalEntityTypeDetail buyer_12, parties.details.legalEntityTypeDetail buyer_11, parties.details.legalEntityTypeDetail buyer_10, parties.details.EntityType payee_1, parties.details.EntityType payee_2, parties.details.EntityType payee_3, parties.details.EntityType payee_4, planning.items.classification.id.n1_1_57, planning.items.classification.id.n1_1_58, Monto faltante, tender.status_active, tender.statusDetails_En Convocatoria (Abierta), parties.details.EntityType candidate_2, parties.details.EntityType candidate_1, parties.details.EntityType candidate_4, parties.details.legalEntityTypeDetail candidate_1, awards.statusDetails_2, parties.details.EntityType candidate_3, parties.details.legalEntityTypeDetail candidate_2, awards.statusDetails_3, parties.details.legalEntityTypeDetail procuringEntity_2, parties.details.legalEntityTypeDetail buyer_19, awards.statusDetails_4, parties.details.legalEntityTypeDetail procuringEntity_3, parties.details.legalEntityTypeDetail buyer_18, parties.details.legalEntityTypeDetail buyer_17, awards.statusDetails_6, parties.details.legalEntityTypeDetail procuringEntity_1, parties.details.legalEntityTypeDetail buyer_16, parties.details.legalEntityTypeDetail candidate_7, parties.details.legalEntityTypeDetail procuringEntity_6, awards.status_4, parties.details.legalEntityTypeDetail candidate_8, parties.details.legalEntityTypeDetail procuringEntity_7, parties.details.legalEntityTypeDetail candidate_9, parties.details.legalEntityTypeDetail procuringEntity_4, parties.details.legalEntityTypeDetail procuringEntity_10, parties.details.legalEntityTypeDetail procuringEntity_5, parties.details.legalEntityTypeDetail candidate_3, parties.details.legalEntityTypeDetail procuringEntity_12, parties.details.legalEntityTypeDetail candidate_4, parties.details.legalEntityTypeDetail procuringEntity_11, parties.details.legalEntityTypeDetail candidate_5, parties.details.legalEntityTypeDetail procuringEntity_8, parties.details.legalEntityTypeDetail procuringEntity_14, parties.details.legalEntityTypeDetail candidate_6, parties.details.legalEntityTypeDetail procuringEntity_9, parties.details.legalEntityTypeDetail procuringEntity_13, parties.details.legalEntityTypeDetail notifiedSupplier_24, awards.statusDetails_7, parties.details.legalEntityTypeDetail buyer_25, awards.statusDetails_9, parties.details.legalEntityTypeDetail buyer_24, parties.details.legalEntityTypeDetail buyer_23, parties.details.legalEntityTypeDetail buyer_22, parties.details.legalEntityTypeDetail buyer_21, parties.details.legalEntityTypeDetail buyer_20, parties.details.legalEntityTypeDetail procuringEntity_21, parties.details.legalEntityTypeDetail procuringEntity_20, parties.details.legalEntityTypeDetail procuringEntity_23, parties.details.legalEntityTypeDetail procuringEntity_22, parties.details.legalEntityTypeDetail procuringEntity_25, parties.details.legalEntityTypeDetail procuringEntity_24, parties.details.legalEntityTypeDetail procuringEntity_16, parties.details.legalEntityTypeDetail procuringEntity_15, parties.details.legalEntityTypeDetail procuringEntity_18, parties.details.legalEntityTypeDetail procuringEntity_17, parties.details.legalEntityTypeDetail procuringEntity_19, parties.roles candidate q2, parties.roles candidate q1, parties.roles candidate q4, parties.roles candidate q3, tender.procurementMethodDetails q2, parties.details.legalEntityTypeDetail candidate_13, parties.details.legalEntityTypeDetail candidate_12, parties.details.legalEntityTypeDetail candidate_15, parties.details.legalEntityTypeDetail candidate_14, secondStage.id q4, secondStage.id q3, secondStage.id q2, parties.details.legalEntityTypeDetail candidate_11, secondStage.id q1, parties.details.legalEntityTypeDetail candidate_10, parties.details.legalEntityTypeDetail payee_21, parties.details.legalEntityTypeDetail buyer_1, parties.details.legalEntityTypeDetail payee_22, parties.details.legalEntityTypeDetail buyer_2, parties.details.legalEntityTypeDetail candidate_17, parties.details.legalEntityTypeDetail candidate_16, parties.details.legalEntityTypeDetail candidate_19, parties.details.legalEntityTypeDetail candidate_18, parties.details.legalEntityTypeDetail buyer_7, parties.details.legalEntityTypeDetail buyer_8, parties.details.legalEntityTypeDetail buyer_9, parties.details.legalEntityTypeDetail payee_25, parties.details.legalEntityTypeDetail buyer_3, parties.details.legalEntityTypeDetail payee_24, parties.details.legalEntityTypeDetail buyer_4, parties.details.legalEntityTypeDetail buyer_5, parties.details.legalEntityTypeDetail buyer_6, parties.details.legalEntityTypeDetail payee_18, parties.details.legalEntityTypeDetail payer_3, parties.details.legalEntityTypeDetail payer_23, parties.details.legalEntityTypeDetail payer_4, parties.details.legalEntityTypeDetail payer_24, tender.eligibilityCriteria q3, parties.details.legalEntityTypeDetail payer_1, parties.details.legalEntityTypeDetail payer_21, parties.details.legalEntityTypeDetail payer_2, parties.details.legalEntityTypeDetail payer_22, parties.details.legalEntityTypeDetail payer_7, parties.details.legalEntityTypeDetail payer_8, parties.details.legalEntityTypeDetail payer_5, parties.details.legalEntityTypeDetail payer_25, awards.documents.DocumentTypeDetails_19, parties.details.legalEntityTypeDetail payer_6, awards.documents.DocumentTypeDetails_17, parties.details.legalEntityTypeDetail tenderer_18, awards.documents.DocumentTypeDetails_14, parties.details.legalEntityTypeDetail payer_20, parties.details.legalEntityTypeDetail enquirer_18, awards.documents.DocumentTypeDetails_20, parties.details.legalEntityTypeDetail enquirer_15, parties.details.legalEntityTypeDetail payer_18, parties.details.legalEntityTypeDetail payer_19, tender.eligibilityCriteria q2, contracts.status_4, parties.details.legalEntityTypeDetail payer_12, parties.details.legalEntityTypeDetail payer_13, parties.details.legalEntityTypeDetail payer_10, parties.details.legalEntityTypeDetail payer_11, tender.items.classification.id.n1_1_57, parties.details.legalEntityTypeDetail payer_16, parties.details.legalEntityTypeDetail payer_17, parties.details.legalEntityTypeDetail payer_14, parties.details.legalEntityTypeDetail payer_15, tender.criteria.id, parties.details.legalEntityTypeDetail candidate_24, parties.details.legalEntityTypeDetail enquirer_21, parties.details.legalEntityTypeDetail candidate_23, parties.details.legalEntityTypeDetail enquirer_22, parties.details.legalEntityTypeDetail enquirer_23, parties.details.legalEntityTypeDetail candidate_25, parties.details.legalEntityTypeDetail enquirer_24, parties.details.legalEntityTypeDetail candidate_20, parties.details.legalEntityTypeDetail candidate_22, parties.details.legalEntityTypeDetail candidate_21, parties.details.legalEntityTypeDetail enquirer_20, parties.details.legalEntityTypeDetail enquirer_25, parties.details.legalEntityTypeDetail payer_9, parties.details.EntityType tenderer_1, parties.details.EntityType tenderer_2, parties.details.EntityType tenderer_3, parties.details.EntityType tenderer_4, parties.details.legalEntityTypeDetail tenderer_24, parties.details.legalEntityTypeDetail tenderer_25, contracts.statusDetails_3, parties.details.EntityType notifiedSupplier_1, contracts.statusDetails_2, parties.details.EntityType notifiedSupplier_3, parties.details.EntityType notifiedSupplier_2, parties.details.EntityType notifiedSupplier_4, contracts.statusDetails_9, contracts.statusDetails_4, contracts.statusDetails_7, tender.coveredBy_8, contracts.statusDetails_6, contracts.amendments.amendsAmount_usd, contracts.amendments.amendsAmount_pyg, tender.procurementIntention.procuringEntity.id q1, tender.procurementIntention.procuringEntity.name q1, parties.details.EntityType enquirer_4, parties.details.EntityType enquirer_3, parties.details.EntityType enquirer_2, parties.details.EntityType enquirer_1, parties.details.EntityType supplier_1, parties.details.EntityType supplier_3, tender.ProcurementIntentionCategory q3, parties.details.EntityType supplier_2, tender.ProcurementIntentionCategory q1, parties.details.EntityType supplier_4, parties.details.legalEntityTypeDetail supplier_22, parties.details.legalEntityTypeDetail supplier_25, parties.details.legalEntityTypeDetail supplier_24, Criterio de evaluacion faltante, parties.details.legalEntityTypeDetail supplier_21, contracts.documents.DocumentTypeDetails_12, awards.statusDetails_11, awards.statusDetails_10, parties.details.legalEntityTypeDetail supplier_18]\n",
      "  warnings.warn(mesg[\"message\"], RuntimeWarning)\n",
      "/usr/local/lib/python3.10/site-packages/h2o/estimators/estimator_base.py:192: RuntimeWarning: Stopping metric is ignored for _stopping_rounds=0.\n",
      "  warnings.warn(mesg[\"message\"], RuntimeWarning)\n"
     ]
    },
    {
     "name": "stdout",
     "output_type": "stream",
     "text": [
      "██████████████████████████████████████████████████| (done) 100%\n",
      "0.8162055201399433\n",
      "(0.7482443820224719, 0.9017800782729454)\n"
     ]
    },
    {
     "name": "stderr",
     "output_type": "stream",
     "text": [
      "/usr/local/lib/python3.10/site-packages/sklearn/utils/extmath.py:153: RuntimeWarning: invalid value encountered in matmul\n",
      "  ret = a @ b\n"
     ]
    },
    {
     "name": "stdout",
     "output_type": "stream",
     "text": [
      "para value 0.245:\n",
      "Parse progress: |████████████████████████████████████████████████████████████████| (done) 100%\n",
      "Parse progress: |████████████████████████████████████████████████████████████████| (done) 100%\n",
      "xgboost Model Build progress: |"
     ]
    },
    {
     "name": "stderr",
     "output_type": "stream",
     "text": [
      "/usr/local/lib/python3.10/site-packages/h2o/estimators/estimator_base.py:192: RuntimeWarning: Dropping bad and constant columns: [tender.procurementMethod_open, parties.details.legalEntityTypeDetail buyer_15, parties.details.legalEntityTypeDetail buyer_14, parties.details.legalEntityTypeDetail buyer_13, parties.details.legalEntityTypeDetail buyer_12, parties.details.legalEntityTypeDetail buyer_11, parties.details.legalEntityTypeDetail buyer_10, parties.details.EntityType payee_1, parties.details.EntityType payee_2, parties.details.EntityType payee_3, parties.details.EntityType payee_4, planning.items.classification.id.n1_1_57, planning.items.classification.id.n1_1_58, Monto faltante, tender.status_active, tender.statusDetails_En Convocatoria (Abierta), parties.details.EntityType candidate_2, parties.details.EntityType candidate_1, parties.details.EntityType candidate_4, parties.details.legalEntityTypeDetail candidate_1, awards.statusDetails_2, parties.details.EntityType candidate_3, parties.details.legalEntityTypeDetail candidate_2, awards.statusDetails_3, parties.details.legalEntityTypeDetail procuringEntity_2, parties.details.legalEntityTypeDetail buyer_19, awards.statusDetails_4, parties.details.legalEntityTypeDetail procuringEntity_3, parties.details.legalEntityTypeDetail buyer_18, parties.details.legalEntityTypeDetail buyer_17, awards.statusDetails_6, parties.details.legalEntityTypeDetail procuringEntity_1, parties.details.legalEntityTypeDetail buyer_16, parties.details.legalEntityTypeDetail candidate_7, parties.details.legalEntityTypeDetail procuringEntity_6, awards.status_4, parties.details.legalEntityTypeDetail candidate_8, parties.details.legalEntityTypeDetail procuringEntity_7, parties.details.legalEntityTypeDetail candidate_9, parties.details.legalEntityTypeDetail procuringEntity_4, parties.details.legalEntityTypeDetail procuringEntity_10, parties.details.legalEntityTypeDetail procuringEntity_5, parties.details.legalEntityTypeDetail candidate_3, parties.details.legalEntityTypeDetail procuringEntity_12, parties.details.legalEntityTypeDetail candidate_4, parties.details.legalEntityTypeDetail procuringEntity_11, parties.details.legalEntityTypeDetail candidate_5, parties.details.legalEntityTypeDetail procuringEntity_8, parties.details.legalEntityTypeDetail procuringEntity_14, parties.details.legalEntityTypeDetail candidate_6, parties.details.legalEntityTypeDetail procuringEntity_9, parties.details.legalEntityTypeDetail procuringEntity_13, parties.details.legalEntityTypeDetail notifiedSupplier_24, awards.statusDetails_7, parties.details.legalEntityTypeDetail buyer_25, awards.statusDetails_9, parties.details.legalEntityTypeDetail buyer_24, parties.details.legalEntityTypeDetail buyer_23, parties.details.legalEntityTypeDetail buyer_22, parties.details.legalEntityTypeDetail buyer_21, parties.details.legalEntityTypeDetail buyer_20, parties.details.legalEntityTypeDetail procuringEntity_21, parties.details.legalEntityTypeDetail procuringEntity_20, parties.details.legalEntityTypeDetail procuringEntity_23, parties.details.legalEntityTypeDetail procuringEntity_22, parties.details.legalEntityTypeDetail procuringEntity_25, parties.details.legalEntityTypeDetail procuringEntity_24, parties.details.legalEntityTypeDetail procuringEntity_16, parties.details.legalEntityTypeDetail procuringEntity_15, parties.details.legalEntityTypeDetail procuringEntity_18, parties.details.legalEntityTypeDetail procuringEntity_17, parties.details.legalEntityTypeDetail procuringEntity_19, parties.roles candidate q2, parties.roles candidate q1, parties.roles candidate q4, parties.roles candidate q3, tender.procurementMethodDetails q2, parties.details.legalEntityTypeDetail candidate_13, parties.details.legalEntityTypeDetail candidate_12, parties.details.legalEntityTypeDetail candidate_15, parties.details.legalEntityTypeDetail candidate_14, secondStage.id q4, secondStage.id q3, secondStage.id q2, parties.details.legalEntityTypeDetail candidate_11, secondStage.id q1, parties.details.legalEntityTypeDetail candidate_10, parties.details.legalEntityTypeDetail payee_21, parties.details.legalEntityTypeDetail buyer_1, parties.details.legalEntityTypeDetail payee_22, parties.details.legalEntityTypeDetail buyer_2, parties.details.legalEntityTypeDetail candidate_17, parties.details.legalEntityTypeDetail candidate_16, parties.details.legalEntityTypeDetail candidate_19, parties.details.legalEntityTypeDetail candidate_18, parties.details.legalEntityTypeDetail buyer_7, parties.details.legalEntityTypeDetail buyer_8, parties.details.legalEntityTypeDetail buyer_9, parties.details.legalEntityTypeDetail payee_25, parties.details.legalEntityTypeDetail buyer_3, parties.details.legalEntityTypeDetail payee_24, parties.details.legalEntityTypeDetail buyer_4, parties.details.legalEntityTypeDetail buyer_5, parties.details.legalEntityTypeDetail buyer_6, parties.details.legalEntityTypeDetail payee_18, parties.details.legalEntityTypeDetail payer_3, parties.details.legalEntityTypeDetail payer_23, parties.details.legalEntityTypeDetail payer_4, parties.details.legalEntityTypeDetail payer_24, tender.eligibilityCriteria q3, parties.details.legalEntityTypeDetail payer_1, parties.details.legalEntityTypeDetail payer_21, parties.details.legalEntityTypeDetail payer_2, parties.details.legalEntityTypeDetail payer_22, parties.details.legalEntityTypeDetail payer_7, parties.details.legalEntityTypeDetail payer_8, parties.details.legalEntityTypeDetail payer_5, parties.details.legalEntityTypeDetail payer_25, awards.documents.DocumentTypeDetails_19, parties.details.legalEntityTypeDetail payer_6, awards.documents.DocumentTypeDetails_17, parties.details.legalEntityTypeDetail tenderer_18, awards.documents.DocumentTypeDetails_14, parties.details.legalEntityTypeDetail payer_20, parties.details.legalEntityTypeDetail enquirer_18, awards.documents.DocumentTypeDetails_20, parties.details.legalEntityTypeDetail enquirer_15, parties.details.legalEntityTypeDetail payer_18, parties.details.legalEntityTypeDetail payer_19, tender.eligibilityCriteria q2, contracts.status_4, parties.details.legalEntityTypeDetail payer_12, parties.details.legalEntityTypeDetail payer_13, parties.details.legalEntityTypeDetail payer_10, parties.details.legalEntityTypeDetail payer_11, tender.items.classification.id.n1_1_57, parties.details.legalEntityTypeDetail payer_16, parties.details.legalEntityTypeDetail payer_17, parties.details.legalEntityTypeDetail payer_14, parties.details.legalEntityTypeDetail payer_15, tender.criteria.id, parties.details.legalEntityTypeDetail candidate_24, parties.details.legalEntityTypeDetail enquirer_21, parties.details.legalEntityTypeDetail candidate_23, parties.details.legalEntityTypeDetail enquirer_22, parties.details.legalEntityTypeDetail enquirer_23, parties.details.legalEntityTypeDetail candidate_25, parties.details.legalEntityTypeDetail enquirer_24, parties.details.legalEntityTypeDetail candidate_20, parties.details.legalEntityTypeDetail candidate_22, parties.details.legalEntityTypeDetail candidate_21, parties.details.legalEntityTypeDetail enquirer_20, parties.details.legalEntityTypeDetail enquirer_25, parties.details.legalEntityTypeDetail payer_9, parties.details.EntityType tenderer_1, parties.details.EntityType tenderer_2, parties.details.EntityType tenderer_3, parties.details.EntityType tenderer_4, parties.details.legalEntityTypeDetail tenderer_24, parties.details.legalEntityTypeDetail tenderer_25, contracts.statusDetails_3, parties.details.EntityType notifiedSupplier_1, contracts.statusDetails_2, parties.details.EntityType notifiedSupplier_3, parties.details.EntityType notifiedSupplier_2, parties.details.EntityType notifiedSupplier_4, contracts.statusDetails_9, contracts.statusDetails_4, contracts.statusDetails_7, tender.coveredBy_8, contracts.statusDetails_6, contracts.amendments.amendsAmount_usd, contracts.amendments.amendsAmount_pyg, tender.procurementIntention.procuringEntity.id q1, tender.procurementIntention.procuringEntity.name q1, parties.details.EntityType enquirer_4, parties.details.EntityType enquirer_3, parties.details.EntityType enquirer_2, parties.details.EntityType enquirer_1, parties.details.EntityType supplier_1, parties.details.EntityType supplier_3, tender.ProcurementIntentionCategory q3, parties.details.EntityType supplier_2, tender.ProcurementIntentionCategory q1, parties.details.EntityType supplier_4, parties.details.legalEntityTypeDetail supplier_22, parties.details.legalEntityTypeDetail supplier_25, parties.details.legalEntityTypeDetail supplier_24, Criterio de evaluacion faltante, parties.details.legalEntityTypeDetail supplier_21, contracts.documents.DocumentTypeDetails_12, awards.statusDetails_11, awards.statusDetails_10, parties.details.legalEntityTypeDetail supplier_18]\n",
      "  warnings.warn(mesg[\"message\"], RuntimeWarning)\n",
      "/usr/local/lib/python3.10/site-packages/h2o/estimators/estimator_base.py:192: RuntimeWarning: Stopping metric is ignored for _stopping_rounds=0.\n",
      "  warnings.warn(mesg[\"message\"], RuntimeWarning)\n"
     ]
    },
    {
     "name": "stdout",
     "output_type": "stream",
     "text": [
      "██████████████████████████████████████████████████| (done) 100%\n",
      "0.8154951441479156\n",
      "(0.766502808988764, 0.8885241762403737)\n"
     ]
    },
    {
     "name": "stderr",
     "output_type": "stream",
     "text": [
      "/usr/local/lib/python3.10/site-packages/sklearn/utils/extmath.py:153: RuntimeWarning: invalid value encountered in matmul\n",
      "  ret = a @ b\n"
     ]
    },
    {
     "name": "stdout",
     "output_type": "stream",
     "text": [
      "para value 0.26:\n",
      "Parse progress: |████████████████████████████████████████████████████████████████| (done) 100%\n",
      "Parse progress: |████████████████████████████████████████████████████████████████| (done) 100%\n",
      "xgboost Model Build progress: |"
     ]
    },
    {
     "name": "stderr",
     "output_type": "stream",
     "text": [
      "/usr/local/lib/python3.10/site-packages/h2o/estimators/estimator_base.py:192: RuntimeWarning: Dropping bad and constant columns: [tender.procurementMethod_open, parties.details.legalEntityTypeDetail buyer_15, parties.details.legalEntityTypeDetail buyer_14, parties.details.legalEntityTypeDetail buyer_13, parties.details.legalEntityTypeDetail buyer_12, parties.details.legalEntityTypeDetail buyer_11, parties.details.legalEntityTypeDetail buyer_10, parties.details.EntityType payee_1, parties.details.EntityType payee_2, parties.details.EntityType payee_3, parties.details.EntityType payee_4, planning.items.classification.id.n1_1_57, planning.items.classification.id.n1_1_58, Monto faltante, tender.status_active, tender.statusDetails_En Convocatoria (Abierta), parties.details.EntityType candidate_2, parties.details.EntityType candidate_1, parties.details.EntityType candidate_4, parties.details.legalEntityTypeDetail candidate_1, awards.statusDetails_2, parties.details.EntityType candidate_3, parties.details.legalEntityTypeDetail candidate_2, awards.statusDetails_3, parties.details.legalEntityTypeDetail procuringEntity_2, parties.details.legalEntityTypeDetail buyer_19, awards.statusDetails_4, parties.details.legalEntityTypeDetail procuringEntity_3, parties.details.legalEntityTypeDetail buyer_18, parties.details.legalEntityTypeDetail buyer_17, awards.statusDetails_6, parties.details.legalEntityTypeDetail procuringEntity_1, parties.details.legalEntityTypeDetail buyer_16, parties.details.legalEntityTypeDetail candidate_7, parties.details.legalEntityTypeDetail procuringEntity_6, awards.status_4, parties.details.legalEntityTypeDetail candidate_8, parties.details.legalEntityTypeDetail procuringEntity_7, parties.details.legalEntityTypeDetail candidate_9, parties.details.legalEntityTypeDetail procuringEntity_4, parties.details.legalEntityTypeDetail procuringEntity_10, parties.details.legalEntityTypeDetail procuringEntity_5, parties.details.legalEntityTypeDetail candidate_3, parties.details.legalEntityTypeDetail procuringEntity_12, parties.details.legalEntityTypeDetail candidate_4, parties.details.legalEntityTypeDetail procuringEntity_11, parties.details.legalEntityTypeDetail candidate_5, parties.details.legalEntityTypeDetail procuringEntity_8, parties.details.legalEntityTypeDetail procuringEntity_14, parties.details.legalEntityTypeDetail candidate_6, parties.details.legalEntityTypeDetail procuringEntity_9, parties.details.legalEntityTypeDetail procuringEntity_13, parties.details.legalEntityTypeDetail notifiedSupplier_24, awards.statusDetails_7, parties.details.legalEntityTypeDetail buyer_25, awards.statusDetails_9, parties.details.legalEntityTypeDetail buyer_24, parties.details.legalEntityTypeDetail buyer_23, parties.details.legalEntityTypeDetail buyer_22, parties.details.legalEntityTypeDetail buyer_21, parties.details.legalEntityTypeDetail buyer_20, parties.details.legalEntityTypeDetail procuringEntity_21, parties.details.legalEntityTypeDetail procuringEntity_20, parties.details.legalEntityTypeDetail procuringEntity_23, parties.details.legalEntityTypeDetail procuringEntity_22, parties.details.legalEntityTypeDetail procuringEntity_25, parties.details.legalEntityTypeDetail procuringEntity_24, parties.details.legalEntityTypeDetail procuringEntity_16, parties.details.legalEntityTypeDetail procuringEntity_15, parties.details.legalEntityTypeDetail procuringEntity_18, parties.details.legalEntityTypeDetail procuringEntity_17, parties.details.legalEntityTypeDetail procuringEntity_19, parties.roles candidate q2, parties.roles candidate q1, parties.roles candidate q4, parties.roles candidate q3, tender.procurementMethodDetails q2, parties.details.legalEntityTypeDetail candidate_13, parties.details.legalEntityTypeDetail candidate_12, parties.details.legalEntityTypeDetail candidate_15, parties.details.legalEntityTypeDetail candidate_14, secondStage.id q4, secondStage.id q3, secondStage.id q2, parties.details.legalEntityTypeDetail candidate_11, secondStage.id q1, parties.details.legalEntityTypeDetail candidate_10, parties.details.legalEntityTypeDetail payee_21, parties.details.legalEntityTypeDetail buyer_1, parties.details.legalEntityTypeDetail payee_22, parties.details.legalEntityTypeDetail buyer_2, parties.details.legalEntityTypeDetail candidate_17, parties.details.legalEntityTypeDetail candidate_16, parties.details.legalEntityTypeDetail candidate_19, parties.details.legalEntityTypeDetail candidate_18, parties.details.legalEntityTypeDetail buyer_7, parties.details.legalEntityTypeDetail buyer_8, parties.details.legalEntityTypeDetail buyer_9, parties.details.legalEntityTypeDetail payee_25, parties.details.legalEntityTypeDetail buyer_3, parties.details.legalEntityTypeDetail payee_24, parties.details.legalEntityTypeDetail buyer_4, parties.details.legalEntityTypeDetail buyer_5, parties.details.legalEntityTypeDetail buyer_6, parties.details.legalEntityTypeDetail payee_18, parties.details.legalEntityTypeDetail payer_3, parties.details.legalEntityTypeDetail payer_23, parties.details.legalEntityTypeDetail payer_4, parties.details.legalEntityTypeDetail payer_24, tender.eligibilityCriteria q3, parties.details.legalEntityTypeDetail payer_1, parties.details.legalEntityTypeDetail payer_21, parties.details.legalEntityTypeDetail payer_2, parties.details.legalEntityTypeDetail payer_22, parties.details.legalEntityTypeDetail payer_7, parties.details.legalEntityTypeDetail payer_8, parties.details.legalEntityTypeDetail payer_5, parties.details.legalEntityTypeDetail payer_25, awards.documents.DocumentTypeDetails_19, parties.details.legalEntityTypeDetail payer_6, awards.documents.DocumentTypeDetails_17, parties.details.legalEntityTypeDetail tenderer_18, awards.documents.DocumentTypeDetails_14, parties.details.legalEntityTypeDetail payer_20, parties.details.legalEntityTypeDetail enquirer_18, awards.documents.DocumentTypeDetails_20, parties.details.legalEntityTypeDetail enquirer_15, parties.details.legalEntityTypeDetail payer_18, parties.details.legalEntityTypeDetail payer_19, tender.eligibilityCriteria q2, contracts.status_4, parties.details.legalEntityTypeDetail payer_12, parties.details.legalEntityTypeDetail payer_13, parties.details.legalEntityTypeDetail payer_10, parties.details.legalEntityTypeDetail payer_11, tender.items.classification.id.n1_1_57, parties.details.legalEntityTypeDetail payer_16, parties.details.legalEntityTypeDetail payer_17, parties.details.legalEntityTypeDetail payer_14, parties.details.legalEntityTypeDetail payer_15, tender.criteria.id, parties.details.legalEntityTypeDetail candidate_24, parties.details.legalEntityTypeDetail enquirer_21, parties.details.legalEntityTypeDetail candidate_23, parties.details.legalEntityTypeDetail enquirer_22, parties.details.legalEntityTypeDetail enquirer_23, parties.details.legalEntityTypeDetail candidate_25, parties.details.legalEntityTypeDetail enquirer_24, parties.details.legalEntityTypeDetail candidate_20, parties.details.legalEntityTypeDetail candidate_22, parties.details.legalEntityTypeDetail candidate_21, parties.details.legalEntityTypeDetail enquirer_20, parties.details.legalEntityTypeDetail enquirer_25, parties.details.legalEntityTypeDetail payer_9, parties.details.EntityType tenderer_1, parties.details.EntityType tenderer_2, parties.details.EntityType tenderer_3, parties.details.EntityType tenderer_4, parties.details.legalEntityTypeDetail tenderer_24, parties.details.legalEntityTypeDetail tenderer_25, contracts.statusDetails_3, parties.details.EntityType notifiedSupplier_1, contracts.statusDetails_2, parties.details.EntityType notifiedSupplier_3, parties.details.EntityType notifiedSupplier_2, parties.details.EntityType notifiedSupplier_4, contracts.statusDetails_9, contracts.statusDetails_4, contracts.statusDetails_7, tender.coveredBy_8, contracts.statusDetails_6, contracts.amendments.amendsAmount_usd, contracts.amendments.amendsAmount_pyg, tender.procurementIntention.procuringEntity.id q1, tender.procurementIntention.procuringEntity.name q1, parties.details.EntityType enquirer_4, parties.details.EntityType enquirer_3, parties.details.EntityType enquirer_2, parties.details.EntityType enquirer_1, parties.details.EntityType supplier_1, parties.details.EntityType supplier_3, tender.ProcurementIntentionCategory q3, parties.details.EntityType supplier_2, tender.ProcurementIntentionCategory q1, parties.details.EntityType supplier_4, parties.details.legalEntityTypeDetail supplier_22, parties.details.legalEntityTypeDetail supplier_25, parties.details.legalEntityTypeDetail supplier_24, Criterio de evaluacion faltante, parties.details.legalEntityTypeDetail supplier_21, contracts.documents.DocumentTypeDetails_12, awards.statusDetails_11, awards.statusDetails_10, parties.details.legalEntityTypeDetail supplier_18]\n",
      "  warnings.warn(mesg[\"message\"], RuntimeWarning)\n",
      "/usr/local/lib/python3.10/site-packages/h2o/estimators/estimator_base.py:192: RuntimeWarning: Stopping metric is ignored for _stopping_rounds=0.\n",
      "  warnings.warn(mesg[\"message\"], RuntimeWarning)\n"
     ]
    },
    {
     "name": "stdout",
     "output_type": "stream",
     "text": [
      "██████████████████████████████████████████████████| (done) 100%\n",
      "0.8181255952581004\n",
      "(0.7327949438202247, 0.9104910996086353)\n"
     ]
    },
    {
     "name": "stderr",
     "output_type": "stream",
     "text": [
      "/usr/local/lib/python3.10/site-packages/sklearn/utils/extmath.py:153: RuntimeWarning: invalid value encountered in matmul\n",
      "  ret = a @ b\n"
     ]
    },
    {
     "name": "stdout",
     "output_type": "stream",
     "text": [
      "para value 0.275:\n",
      "Parse progress: |████████████████████████████████████████████████████████████████| (done) 100%\n",
      "Parse progress: |████████████████████████████████████████████████████████████████| (done) 100%\n",
      "xgboost Model Build progress: |"
     ]
    },
    {
     "name": "stderr",
     "output_type": "stream",
     "text": [
      "/usr/local/lib/python3.10/site-packages/h2o/estimators/estimator_base.py:192: RuntimeWarning: Dropping bad and constant columns: [tender.procurementMethod_open, parties.details.legalEntityTypeDetail buyer_15, parties.details.legalEntityTypeDetail buyer_14, parties.details.legalEntityTypeDetail buyer_13, parties.details.legalEntityTypeDetail buyer_12, parties.details.legalEntityTypeDetail buyer_11, parties.details.legalEntityTypeDetail buyer_10, parties.details.EntityType payee_1, parties.details.EntityType payee_2, parties.details.EntityType payee_3, parties.details.EntityType payee_4, planning.items.classification.id.n1_1_57, planning.items.classification.id.n1_1_58, Monto faltante, tender.status_active, tender.statusDetails_En Convocatoria (Abierta), parties.details.EntityType candidate_2, parties.details.EntityType candidate_1, parties.details.EntityType candidate_4, parties.details.legalEntityTypeDetail candidate_1, awards.statusDetails_2, parties.details.EntityType candidate_3, parties.details.legalEntityTypeDetail candidate_2, awards.statusDetails_3, parties.details.legalEntityTypeDetail procuringEntity_2, parties.details.legalEntityTypeDetail buyer_19, awards.statusDetails_4, parties.details.legalEntityTypeDetail procuringEntity_3, parties.details.legalEntityTypeDetail buyer_18, parties.details.legalEntityTypeDetail buyer_17, awards.statusDetails_6, parties.details.legalEntityTypeDetail procuringEntity_1, parties.details.legalEntityTypeDetail buyer_16, parties.details.legalEntityTypeDetail candidate_7, parties.details.legalEntityTypeDetail procuringEntity_6, awards.status_4, parties.details.legalEntityTypeDetail candidate_8, parties.details.legalEntityTypeDetail procuringEntity_7, parties.details.legalEntityTypeDetail candidate_9, parties.details.legalEntityTypeDetail procuringEntity_4, parties.details.legalEntityTypeDetail procuringEntity_10, parties.details.legalEntityTypeDetail procuringEntity_5, parties.details.legalEntityTypeDetail candidate_3, parties.details.legalEntityTypeDetail procuringEntity_12, parties.details.legalEntityTypeDetail candidate_4, parties.details.legalEntityTypeDetail procuringEntity_11, parties.details.legalEntityTypeDetail candidate_5, parties.details.legalEntityTypeDetail procuringEntity_8, parties.details.legalEntityTypeDetail procuringEntity_14, parties.details.legalEntityTypeDetail candidate_6, parties.details.legalEntityTypeDetail procuringEntity_9, parties.details.legalEntityTypeDetail procuringEntity_13, parties.details.legalEntityTypeDetail notifiedSupplier_24, awards.statusDetails_7, parties.details.legalEntityTypeDetail buyer_25, awards.statusDetails_9, parties.details.legalEntityTypeDetail buyer_24, parties.details.legalEntityTypeDetail buyer_23, parties.details.legalEntityTypeDetail buyer_22, parties.details.legalEntityTypeDetail buyer_21, parties.details.legalEntityTypeDetail buyer_20, parties.details.legalEntityTypeDetail procuringEntity_21, parties.details.legalEntityTypeDetail procuringEntity_20, parties.details.legalEntityTypeDetail procuringEntity_23, parties.details.legalEntityTypeDetail procuringEntity_22, parties.details.legalEntityTypeDetail procuringEntity_25, parties.details.legalEntityTypeDetail procuringEntity_24, parties.details.legalEntityTypeDetail procuringEntity_16, parties.details.legalEntityTypeDetail procuringEntity_15, parties.details.legalEntityTypeDetail procuringEntity_18, parties.details.legalEntityTypeDetail procuringEntity_17, parties.details.legalEntityTypeDetail procuringEntity_19, parties.roles candidate q2, parties.roles candidate q1, parties.roles candidate q4, parties.roles candidate q3, tender.procurementMethodDetails q2, parties.details.legalEntityTypeDetail candidate_13, parties.details.legalEntityTypeDetail candidate_12, parties.details.legalEntityTypeDetail candidate_15, parties.details.legalEntityTypeDetail candidate_14, secondStage.id q4, secondStage.id q3, secondStage.id q2, parties.details.legalEntityTypeDetail candidate_11, secondStage.id q1, parties.details.legalEntityTypeDetail candidate_10, parties.details.legalEntityTypeDetail payee_21, parties.details.legalEntityTypeDetail buyer_1, parties.details.legalEntityTypeDetail payee_22, parties.details.legalEntityTypeDetail buyer_2, parties.details.legalEntityTypeDetail candidate_17, parties.details.legalEntityTypeDetail candidate_16, parties.details.legalEntityTypeDetail candidate_19, parties.details.legalEntityTypeDetail candidate_18, parties.details.legalEntityTypeDetail buyer_7, parties.details.legalEntityTypeDetail buyer_8, parties.details.legalEntityTypeDetail buyer_9, parties.details.legalEntityTypeDetail payee_25, parties.details.legalEntityTypeDetail buyer_3, parties.details.legalEntityTypeDetail payee_24, parties.details.legalEntityTypeDetail buyer_4, parties.details.legalEntityTypeDetail buyer_5, parties.details.legalEntityTypeDetail buyer_6, parties.details.legalEntityTypeDetail payee_18, parties.details.legalEntityTypeDetail payer_3, parties.details.legalEntityTypeDetail payer_23, parties.details.legalEntityTypeDetail payer_4, parties.details.legalEntityTypeDetail payer_24, tender.eligibilityCriteria q3, parties.details.legalEntityTypeDetail payer_1, parties.details.legalEntityTypeDetail payer_21, parties.details.legalEntityTypeDetail payer_2, parties.details.legalEntityTypeDetail payer_22, parties.details.legalEntityTypeDetail payer_7, parties.details.legalEntityTypeDetail payer_8, parties.details.legalEntityTypeDetail payer_5, parties.details.legalEntityTypeDetail payer_25, awards.documents.DocumentTypeDetails_19, parties.details.legalEntityTypeDetail payer_6, awards.documents.DocumentTypeDetails_17, parties.details.legalEntityTypeDetail tenderer_18, awards.documents.DocumentTypeDetails_14, parties.details.legalEntityTypeDetail payer_20, parties.details.legalEntityTypeDetail enquirer_18, awards.documents.DocumentTypeDetails_20, parties.details.legalEntityTypeDetail enquirer_15, parties.details.legalEntityTypeDetail payer_18, parties.details.legalEntityTypeDetail payer_19, tender.eligibilityCriteria q2, contracts.status_4, parties.details.legalEntityTypeDetail payer_12, parties.details.legalEntityTypeDetail payer_13, parties.details.legalEntityTypeDetail payer_10, parties.details.legalEntityTypeDetail payer_11, tender.items.classification.id.n1_1_57, parties.details.legalEntityTypeDetail payer_16, parties.details.legalEntityTypeDetail payer_17, parties.details.legalEntityTypeDetail payer_14, parties.details.legalEntityTypeDetail payer_15, tender.criteria.id, parties.details.legalEntityTypeDetail candidate_24, parties.details.legalEntityTypeDetail enquirer_21, parties.details.legalEntityTypeDetail candidate_23, parties.details.legalEntityTypeDetail enquirer_22, parties.details.legalEntityTypeDetail enquirer_23, parties.details.legalEntityTypeDetail candidate_25, parties.details.legalEntityTypeDetail enquirer_24, parties.details.legalEntityTypeDetail candidate_20, parties.details.legalEntityTypeDetail candidate_22, parties.details.legalEntityTypeDetail candidate_21, parties.details.legalEntityTypeDetail enquirer_20, parties.details.legalEntityTypeDetail enquirer_25, parties.details.legalEntityTypeDetail payer_9, parties.details.EntityType tenderer_1, parties.details.EntityType tenderer_2, parties.details.EntityType tenderer_3, parties.details.EntityType tenderer_4, parties.details.legalEntityTypeDetail tenderer_24, parties.details.legalEntityTypeDetail tenderer_25, contracts.statusDetails_3, parties.details.EntityType notifiedSupplier_1, contracts.statusDetails_2, parties.details.EntityType notifiedSupplier_3, parties.details.EntityType notifiedSupplier_2, parties.details.EntityType notifiedSupplier_4, contracts.statusDetails_9, contracts.statusDetails_4, contracts.statusDetails_7, tender.coveredBy_8, contracts.statusDetails_6, contracts.amendments.amendsAmount_usd, contracts.amendments.amendsAmount_pyg, tender.procurementIntention.procuringEntity.id q1, tender.procurementIntention.procuringEntity.name q1, parties.details.EntityType enquirer_4, parties.details.EntityType enquirer_3, parties.details.EntityType enquirer_2, parties.details.EntityType enquirer_1, parties.details.EntityType supplier_1, parties.details.EntityType supplier_3, tender.ProcurementIntentionCategory q3, parties.details.EntityType supplier_2, tender.ProcurementIntentionCategory q1, parties.details.EntityType supplier_4, parties.details.legalEntityTypeDetail supplier_22, parties.details.legalEntityTypeDetail supplier_25, parties.details.legalEntityTypeDetail supplier_24, Criterio de evaluacion faltante, parties.details.legalEntityTypeDetail supplier_21, contracts.documents.DocumentTypeDetails_12, awards.statusDetails_11, awards.statusDetails_10, parties.details.legalEntityTypeDetail supplier_18]\n",
      "  warnings.warn(mesg[\"message\"], RuntimeWarning)\n",
      "/usr/local/lib/python3.10/site-packages/h2o/estimators/estimator_base.py:192: RuntimeWarning: Stopping metric is ignored for _stopping_rounds=0.\n",
      "  warnings.warn(mesg[\"message\"], RuntimeWarning)\n"
     ]
    },
    {
     "name": "stdout",
     "output_type": "stream",
     "text": [
      "██████████████████████████████████████████████████| (done) 100%\n",
      "0.8220449587425523\n",
      "(0.7194522471910112, 0.9231157682110844)\n"
     ]
    },
    {
     "name": "stderr",
     "output_type": "stream",
     "text": [
      "/usr/local/lib/python3.10/site-packages/sklearn/utils/extmath.py:153: RuntimeWarning: invalid value encountered in matmul\n",
      "  ret = a @ b\n"
     ]
    },
    {
     "name": "stdout",
     "output_type": "stream",
     "text": [
      "para value 0.29:\n",
      "Parse progress: |████████████████████████████████████████████████████████████████| (done) 100%\n",
      "Parse progress: |████████████████████████████████████████████████████████████████| (done) 100%\n",
      "xgboost Model Build progress: |"
     ]
    },
    {
     "name": "stderr",
     "output_type": "stream",
     "text": [
      "/usr/local/lib/python3.10/site-packages/h2o/estimators/estimator_base.py:192: RuntimeWarning: Dropping bad and constant columns: [tender.procurementMethod_open, parties.details.legalEntityTypeDetail buyer_15, parties.details.legalEntityTypeDetail buyer_14, parties.details.legalEntityTypeDetail buyer_13, parties.details.legalEntityTypeDetail buyer_12, parties.details.legalEntityTypeDetail buyer_11, parties.details.legalEntityTypeDetail buyer_10, parties.details.EntityType payee_1, parties.details.EntityType payee_2, parties.details.EntityType payee_3, parties.details.EntityType payee_4, planning.items.classification.id.n1_1_57, planning.items.classification.id.n1_1_58, Monto faltante, tender.status_active, tender.statusDetails_En Convocatoria (Abierta), parties.details.EntityType candidate_2, parties.details.EntityType candidate_1, parties.details.EntityType candidate_4, parties.details.legalEntityTypeDetail candidate_1, awards.statusDetails_2, parties.details.EntityType candidate_3, parties.details.legalEntityTypeDetail candidate_2, awards.statusDetails_3, parties.details.legalEntityTypeDetail procuringEntity_2, parties.details.legalEntityTypeDetail buyer_19, awards.statusDetails_4, parties.details.legalEntityTypeDetail procuringEntity_3, parties.details.legalEntityTypeDetail buyer_18, parties.details.legalEntityTypeDetail buyer_17, awards.statusDetails_6, parties.details.legalEntityTypeDetail procuringEntity_1, parties.details.legalEntityTypeDetail buyer_16, parties.details.legalEntityTypeDetail candidate_7, parties.details.legalEntityTypeDetail procuringEntity_6, awards.status_4, parties.details.legalEntityTypeDetail candidate_8, parties.details.legalEntityTypeDetail procuringEntity_7, parties.details.legalEntityTypeDetail candidate_9, parties.details.legalEntityTypeDetail procuringEntity_4, parties.details.legalEntityTypeDetail procuringEntity_10, parties.details.legalEntityTypeDetail procuringEntity_5, parties.details.legalEntityTypeDetail candidate_3, parties.details.legalEntityTypeDetail procuringEntity_12, parties.details.legalEntityTypeDetail candidate_4, parties.details.legalEntityTypeDetail procuringEntity_11, parties.details.legalEntityTypeDetail candidate_5, parties.details.legalEntityTypeDetail procuringEntity_8, parties.details.legalEntityTypeDetail procuringEntity_14, parties.details.legalEntityTypeDetail candidate_6, parties.details.legalEntityTypeDetail procuringEntity_9, parties.details.legalEntityTypeDetail procuringEntity_13, parties.details.legalEntityTypeDetail notifiedSupplier_24, awards.statusDetails_7, parties.details.legalEntityTypeDetail buyer_25, awards.statusDetails_9, parties.details.legalEntityTypeDetail buyer_24, parties.details.legalEntityTypeDetail buyer_23, parties.details.legalEntityTypeDetail buyer_22, parties.details.legalEntityTypeDetail buyer_21, parties.details.legalEntityTypeDetail buyer_20, parties.details.legalEntityTypeDetail procuringEntity_21, parties.details.legalEntityTypeDetail procuringEntity_20, parties.details.legalEntityTypeDetail procuringEntity_23, parties.details.legalEntityTypeDetail procuringEntity_22, parties.details.legalEntityTypeDetail procuringEntity_25, parties.details.legalEntityTypeDetail procuringEntity_24, parties.details.legalEntityTypeDetail procuringEntity_16, parties.details.legalEntityTypeDetail procuringEntity_15, parties.details.legalEntityTypeDetail procuringEntity_18, parties.details.legalEntityTypeDetail procuringEntity_17, parties.details.legalEntityTypeDetail procuringEntity_19, parties.roles candidate q2, parties.roles candidate q1, parties.roles candidate q4, parties.roles candidate q3, tender.procurementMethodDetails q2, parties.details.legalEntityTypeDetail candidate_13, parties.details.legalEntityTypeDetail candidate_12, parties.details.legalEntityTypeDetail candidate_15, parties.details.legalEntityTypeDetail candidate_14, secondStage.id q4, secondStage.id q3, secondStage.id q2, parties.details.legalEntityTypeDetail candidate_11, secondStage.id q1, parties.details.legalEntityTypeDetail candidate_10, parties.details.legalEntityTypeDetail payee_21, parties.details.legalEntityTypeDetail buyer_1, parties.details.legalEntityTypeDetail payee_22, parties.details.legalEntityTypeDetail buyer_2, parties.details.legalEntityTypeDetail candidate_17, parties.details.legalEntityTypeDetail candidate_16, parties.details.legalEntityTypeDetail candidate_19, parties.details.legalEntityTypeDetail candidate_18, parties.details.legalEntityTypeDetail buyer_7, parties.details.legalEntityTypeDetail buyer_8, parties.details.legalEntityTypeDetail buyer_9, parties.details.legalEntityTypeDetail payee_25, parties.details.legalEntityTypeDetail buyer_3, parties.details.legalEntityTypeDetail payee_24, parties.details.legalEntityTypeDetail buyer_4, parties.details.legalEntityTypeDetail buyer_5, parties.details.legalEntityTypeDetail buyer_6, parties.details.legalEntityTypeDetail payee_18, parties.details.legalEntityTypeDetail payer_3, parties.details.legalEntityTypeDetail payer_23, parties.details.legalEntityTypeDetail payer_4, parties.details.legalEntityTypeDetail payer_24, tender.eligibilityCriteria q3, parties.details.legalEntityTypeDetail payer_1, parties.details.legalEntityTypeDetail payer_21, parties.details.legalEntityTypeDetail payer_2, parties.details.legalEntityTypeDetail payer_22, parties.details.legalEntityTypeDetail payer_7, parties.details.legalEntityTypeDetail payer_8, parties.details.legalEntityTypeDetail payer_5, parties.details.legalEntityTypeDetail payer_25, awards.documents.DocumentTypeDetails_19, parties.details.legalEntityTypeDetail payer_6, awards.documents.DocumentTypeDetails_17, parties.details.legalEntityTypeDetail tenderer_18, awards.documents.DocumentTypeDetails_14, parties.details.legalEntityTypeDetail payer_20, parties.details.legalEntityTypeDetail enquirer_18, awards.documents.DocumentTypeDetails_20, parties.details.legalEntityTypeDetail enquirer_15, parties.details.legalEntityTypeDetail payer_18, parties.details.legalEntityTypeDetail payer_19, tender.eligibilityCriteria q2, contracts.status_4, parties.details.legalEntityTypeDetail payer_12, parties.details.legalEntityTypeDetail payer_13, parties.details.legalEntityTypeDetail payer_10, parties.details.legalEntityTypeDetail payer_11, tender.items.classification.id.n1_1_57, parties.details.legalEntityTypeDetail payer_16, parties.details.legalEntityTypeDetail payer_17, parties.details.legalEntityTypeDetail payer_14, parties.details.legalEntityTypeDetail payer_15, tender.criteria.id, parties.details.legalEntityTypeDetail candidate_24, parties.details.legalEntityTypeDetail enquirer_21, parties.details.legalEntityTypeDetail candidate_23, parties.details.legalEntityTypeDetail enquirer_22, parties.details.legalEntityTypeDetail enquirer_23, parties.details.legalEntityTypeDetail candidate_25, parties.details.legalEntityTypeDetail enquirer_24, parties.details.legalEntityTypeDetail candidate_20, parties.details.legalEntityTypeDetail candidate_22, parties.details.legalEntityTypeDetail candidate_21, parties.details.legalEntityTypeDetail enquirer_20, parties.details.legalEntityTypeDetail enquirer_25, parties.details.legalEntityTypeDetail payer_9, parties.details.EntityType tenderer_1, parties.details.EntityType tenderer_2, parties.details.EntityType tenderer_3, parties.details.EntityType tenderer_4, parties.details.legalEntityTypeDetail tenderer_24, parties.details.legalEntityTypeDetail tenderer_25, contracts.statusDetails_3, parties.details.EntityType notifiedSupplier_1, contracts.statusDetails_2, parties.details.EntityType notifiedSupplier_3, parties.details.EntityType notifiedSupplier_2, parties.details.EntityType notifiedSupplier_4, contracts.statusDetails_9, contracts.statusDetails_4, contracts.statusDetails_7, tender.coveredBy_8, contracts.statusDetails_6, contracts.amendments.amendsAmount_usd, contracts.amendments.amendsAmount_pyg, tender.procurementIntention.procuringEntity.id q1, tender.procurementIntention.procuringEntity.name q1, parties.details.EntityType enquirer_4, parties.details.EntityType enquirer_3, parties.details.EntityType enquirer_2, parties.details.EntityType enquirer_1, parties.details.EntityType supplier_1, parties.details.EntityType supplier_3, tender.ProcurementIntentionCategory q3, parties.details.EntityType supplier_2, tender.ProcurementIntentionCategory q1, parties.details.EntityType supplier_4, parties.details.legalEntityTypeDetail supplier_22, parties.details.legalEntityTypeDetail supplier_25, parties.details.legalEntityTypeDetail supplier_24, Criterio de evaluacion faltante, parties.details.legalEntityTypeDetail supplier_21, contracts.documents.DocumentTypeDetails_12, awards.statusDetails_11, awards.statusDetails_10, parties.details.legalEntityTypeDetail supplier_18]\n",
      "  warnings.warn(mesg[\"message\"], RuntimeWarning)\n",
      "/usr/local/lib/python3.10/site-packages/h2o/estimators/estimator_base.py:192: RuntimeWarning: Stopping metric is ignored for _stopping_rounds=0.\n",
      "  warnings.warn(mesg[\"message\"], RuntimeWarning)\n"
     ]
    },
    {
     "name": "stdout",
     "output_type": "stream",
     "text": [
      "██████████████████████████████████████████████████| (done) 100%\n",
      "0.8137059777763825\n",
      "(0.7633426966292135, 0.8943315237975004)\n"
     ]
    },
    {
     "name": "stderr",
     "output_type": "stream",
     "text": [
      "/usr/local/lib/python3.10/site-packages/sklearn/utils/extmath.py:153: RuntimeWarning: invalid value encountered in matmul\n",
      "  ret = a @ b\n"
     ]
    },
    {
     "name": "stdout",
     "output_type": "stream",
     "text": [
      "para value 0.305:\n",
      "Parse progress: |████████████████████████████████████████████████████████████████| (done) 100%\n",
      "Parse progress: |████████████████████████████████████████████████████████████████| (done) 100%\n",
      "xgboost Model Build progress: |"
     ]
    },
    {
     "name": "stderr",
     "output_type": "stream",
     "text": [
      "/usr/local/lib/python3.10/site-packages/h2o/estimators/estimator_base.py:192: RuntimeWarning: Dropping bad and constant columns: [tender.procurementMethod_open, parties.details.legalEntityTypeDetail buyer_15, parties.details.legalEntityTypeDetail buyer_14, parties.details.legalEntityTypeDetail buyer_13, parties.details.legalEntityTypeDetail buyer_12, parties.details.legalEntityTypeDetail buyer_11, parties.details.legalEntityTypeDetail buyer_10, parties.details.EntityType payee_1, parties.details.EntityType payee_2, parties.details.EntityType payee_3, parties.details.EntityType payee_4, planning.items.classification.id.n1_1_57, planning.items.classification.id.n1_1_58, Monto faltante, tender.status_active, tender.statusDetails_En Convocatoria (Abierta), parties.details.EntityType candidate_2, parties.details.EntityType candidate_1, parties.details.EntityType candidate_4, parties.details.legalEntityTypeDetail candidate_1, awards.statusDetails_2, parties.details.EntityType candidate_3, parties.details.legalEntityTypeDetail candidate_2, awards.statusDetails_3, parties.details.legalEntityTypeDetail procuringEntity_2, parties.details.legalEntityTypeDetail buyer_19, awards.statusDetails_4, parties.details.legalEntityTypeDetail procuringEntity_3, parties.details.legalEntityTypeDetail buyer_18, parties.details.legalEntityTypeDetail buyer_17, awards.statusDetails_6, parties.details.legalEntityTypeDetail procuringEntity_1, parties.details.legalEntityTypeDetail buyer_16, parties.details.legalEntityTypeDetail candidate_7, parties.details.legalEntityTypeDetail procuringEntity_6, awards.status_4, parties.details.legalEntityTypeDetail candidate_8, parties.details.legalEntityTypeDetail procuringEntity_7, parties.details.legalEntityTypeDetail candidate_9, parties.details.legalEntityTypeDetail procuringEntity_4, parties.details.legalEntityTypeDetail procuringEntity_10, parties.details.legalEntityTypeDetail procuringEntity_5, parties.details.legalEntityTypeDetail candidate_3, parties.details.legalEntityTypeDetail procuringEntity_12, parties.details.legalEntityTypeDetail candidate_4, parties.details.legalEntityTypeDetail procuringEntity_11, parties.details.legalEntityTypeDetail candidate_5, parties.details.legalEntityTypeDetail procuringEntity_8, parties.details.legalEntityTypeDetail procuringEntity_14, parties.details.legalEntityTypeDetail candidate_6, parties.details.legalEntityTypeDetail procuringEntity_9, parties.details.legalEntityTypeDetail procuringEntity_13, parties.details.legalEntityTypeDetail notifiedSupplier_24, awards.statusDetails_7, parties.details.legalEntityTypeDetail buyer_25, awards.statusDetails_9, parties.details.legalEntityTypeDetail buyer_24, parties.details.legalEntityTypeDetail buyer_23, parties.details.legalEntityTypeDetail buyer_22, parties.details.legalEntityTypeDetail buyer_21, parties.details.legalEntityTypeDetail buyer_20, parties.details.legalEntityTypeDetail procuringEntity_21, parties.details.legalEntityTypeDetail procuringEntity_20, parties.details.legalEntityTypeDetail procuringEntity_23, parties.details.legalEntityTypeDetail procuringEntity_22, parties.details.legalEntityTypeDetail procuringEntity_25, parties.details.legalEntityTypeDetail procuringEntity_24, parties.details.legalEntityTypeDetail procuringEntity_16, parties.details.legalEntityTypeDetail procuringEntity_15, parties.details.legalEntityTypeDetail procuringEntity_18, parties.details.legalEntityTypeDetail procuringEntity_17, parties.details.legalEntityTypeDetail procuringEntity_19, parties.roles candidate q2, parties.roles candidate q1, parties.roles candidate q4, parties.roles candidate q3, tender.procurementMethodDetails q2, parties.details.legalEntityTypeDetail candidate_13, parties.details.legalEntityTypeDetail candidate_12, parties.details.legalEntityTypeDetail candidate_15, parties.details.legalEntityTypeDetail candidate_14, secondStage.id q4, secondStage.id q3, secondStage.id q2, parties.details.legalEntityTypeDetail candidate_11, secondStage.id q1, parties.details.legalEntityTypeDetail candidate_10, parties.details.legalEntityTypeDetail payee_21, parties.details.legalEntityTypeDetail buyer_1, parties.details.legalEntityTypeDetail payee_22, parties.details.legalEntityTypeDetail buyer_2, parties.details.legalEntityTypeDetail candidate_17, parties.details.legalEntityTypeDetail candidate_16, parties.details.legalEntityTypeDetail candidate_19, parties.details.legalEntityTypeDetail candidate_18, parties.details.legalEntityTypeDetail buyer_7, parties.details.legalEntityTypeDetail buyer_8, parties.details.legalEntityTypeDetail buyer_9, parties.details.legalEntityTypeDetail payee_25, parties.details.legalEntityTypeDetail buyer_3, parties.details.legalEntityTypeDetail payee_24, parties.details.legalEntityTypeDetail buyer_4, parties.details.legalEntityTypeDetail buyer_5, parties.details.legalEntityTypeDetail buyer_6, parties.details.legalEntityTypeDetail payee_18, parties.details.legalEntityTypeDetail payer_3, parties.details.legalEntityTypeDetail payer_23, parties.details.legalEntityTypeDetail payer_4, parties.details.legalEntityTypeDetail payer_24, tender.eligibilityCriteria q3, parties.details.legalEntityTypeDetail payer_1, parties.details.legalEntityTypeDetail payer_21, parties.details.legalEntityTypeDetail payer_2, parties.details.legalEntityTypeDetail payer_22, parties.details.legalEntityTypeDetail payer_7, parties.details.legalEntityTypeDetail payer_8, parties.details.legalEntityTypeDetail payer_5, parties.details.legalEntityTypeDetail payer_25, awards.documents.DocumentTypeDetails_19, parties.details.legalEntityTypeDetail payer_6, awards.documents.DocumentTypeDetails_17, parties.details.legalEntityTypeDetail tenderer_18, awards.documents.DocumentTypeDetails_14, parties.details.legalEntityTypeDetail payer_20, parties.details.legalEntityTypeDetail enquirer_18, awards.documents.DocumentTypeDetails_20, parties.details.legalEntityTypeDetail enquirer_15, parties.details.legalEntityTypeDetail payer_18, parties.details.legalEntityTypeDetail payer_19, tender.eligibilityCriteria q2, contracts.status_4, parties.details.legalEntityTypeDetail payer_12, parties.details.legalEntityTypeDetail payer_13, parties.details.legalEntityTypeDetail payer_10, parties.details.legalEntityTypeDetail payer_11, tender.items.classification.id.n1_1_57, parties.details.legalEntityTypeDetail payer_16, parties.details.legalEntityTypeDetail payer_17, parties.details.legalEntityTypeDetail payer_14, parties.details.legalEntityTypeDetail payer_15, tender.criteria.id, parties.details.legalEntityTypeDetail candidate_24, parties.details.legalEntityTypeDetail enquirer_21, parties.details.legalEntityTypeDetail candidate_23, parties.details.legalEntityTypeDetail enquirer_22, parties.details.legalEntityTypeDetail enquirer_23, parties.details.legalEntityTypeDetail candidate_25, parties.details.legalEntityTypeDetail enquirer_24, parties.details.legalEntityTypeDetail candidate_20, parties.details.legalEntityTypeDetail candidate_22, parties.details.legalEntityTypeDetail candidate_21, parties.details.legalEntityTypeDetail enquirer_20, parties.details.legalEntityTypeDetail enquirer_25, parties.details.legalEntityTypeDetail payer_9, parties.details.EntityType tenderer_1, parties.details.EntityType tenderer_2, parties.details.EntityType tenderer_3, parties.details.EntityType tenderer_4, parties.details.legalEntityTypeDetail tenderer_24, parties.details.legalEntityTypeDetail tenderer_25, contracts.statusDetails_3, parties.details.EntityType notifiedSupplier_1, contracts.statusDetails_2, parties.details.EntityType notifiedSupplier_3, parties.details.EntityType notifiedSupplier_2, parties.details.EntityType notifiedSupplier_4, contracts.statusDetails_9, contracts.statusDetails_4, contracts.statusDetails_7, tender.coveredBy_8, contracts.statusDetails_6, contracts.amendments.amendsAmount_usd, contracts.amendments.amendsAmount_pyg, tender.procurementIntention.procuringEntity.id q1, tender.procurementIntention.procuringEntity.name q1, parties.details.EntityType enquirer_4, parties.details.EntityType enquirer_3, parties.details.EntityType enquirer_2, parties.details.EntityType enquirer_1, parties.details.EntityType supplier_1, parties.details.EntityType supplier_3, tender.ProcurementIntentionCategory q3, parties.details.EntityType supplier_2, tender.ProcurementIntentionCategory q1, parties.details.EntityType supplier_4, parties.details.legalEntityTypeDetail supplier_22, parties.details.legalEntityTypeDetail supplier_25, parties.details.legalEntityTypeDetail supplier_24, Criterio de evaluacion faltante, parties.details.legalEntityTypeDetail supplier_21, contracts.documents.DocumentTypeDetails_12, awards.statusDetails_11, awards.statusDetails_10, parties.details.legalEntityTypeDetail supplier_18]\n",
      "  warnings.warn(mesg[\"message\"], RuntimeWarning)\n",
      "/usr/local/lib/python3.10/site-packages/h2o/estimators/estimator_base.py:192: RuntimeWarning: Stopping metric is ignored for _stopping_rounds=0.\n",
      "  warnings.warn(mesg[\"message\"], RuntimeWarning)\n"
     ]
    },
    {
     "name": "stdout",
     "output_type": "stream",
     "text": [
      "██████████████████████████████████████████████████| (done) 100%\n",
      "0.8146979489449078\n",
      "(0.7215589887640449, 0.9117535664688802)\n"
     ]
    },
    {
     "name": "stderr",
     "output_type": "stream",
     "text": [
      "/usr/local/lib/python3.10/site-packages/sklearn/utils/extmath.py:153: RuntimeWarning: invalid value encountered in matmul\n",
      "  ret = a @ b\n"
     ]
    },
    {
     "name": "stdout",
     "output_type": "stream",
     "text": [
      "para value 0.32:\n",
      "Parse progress: |████████████████████████████████████████████████████████████████| (done) 100%\n",
      "Parse progress: |████████████████████████████████████████████████████████████████| (done) 100%\n",
      "xgboost Model Build progress: |"
     ]
    },
    {
     "name": "stderr",
     "output_type": "stream",
     "text": [
      "/usr/local/lib/python3.10/site-packages/h2o/estimators/estimator_base.py:192: RuntimeWarning: Dropping bad and constant columns: [tender.procurementMethod_open, parties.details.legalEntityTypeDetail buyer_15, parties.details.legalEntityTypeDetail buyer_14, parties.details.legalEntityTypeDetail buyer_13, parties.details.legalEntityTypeDetail buyer_12, parties.details.legalEntityTypeDetail buyer_11, parties.details.legalEntityTypeDetail buyer_10, parties.details.EntityType payee_1, parties.details.EntityType payee_2, parties.details.EntityType payee_3, parties.details.EntityType payee_4, planning.items.classification.id.n1_1_57, planning.items.classification.id.n1_1_58, Monto faltante, tender.status_active, tender.statusDetails_En Convocatoria (Abierta), parties.details.EntityType candidate_2, parties.details.EntityType candidate_1, parties.details.EntityType candidate_4, parties.details.legalEntityTypeDetail candidate_1, awards.statusDetails_2, parties.details.EntityType candidate_3, parties.details.legalEntityTypeDetail candidate_2, awards.statusDetails_3, parties.details.legalEntityTypeDetail procuringEntity_2, parties.details.legalEntityTypeDetail buyer_19, awards.statusDetails_4, parties.details.legalEntityTypeDetail procuringEntity_3, parties.details.legalEntityTypeDetail buyer_18, parties.details.legalEntityTypeDetail buyer_17, awards.statusDetails_6, parties.details.legalEntityTypeDetail procuringEntity_1, parties.details.legalEntityTypeDetail buyer_16, parties.details.legalEntityTypeDetail candidate_7, parties.details.legalEntityTypeDetail procuringEntity_6, awards.status_4, parties.details.legalEntityTypeDetail candidate_8, parties.details.legalEntityTypeDetail procuringEntity_7, parties.details.legalEntityTypeDetail candidate_9, parties.details.legalEntityTypeDetail procuringEntity_4, parties.details.legalEntityTypeDetail procuringEntity_10, parties.details.legalEntityTypeDetail procuringEntity_5, parties.details.legalEntityTypeDetail candidate_3, parties.details.legalEntityTypeDetail procuringEntity_12, parties.details.legalEntityTypeDetail candidate_4, parties.details.legalEntityTypeDetail procuringEntity_11, parties.details.legalEntityTypeDetail candidate_5, parties.details.legalEntityTypeDetail procuringEntity_8, parties.details.legalEntityTypeDetail procuringEntity_14, parties.details.legalEntityTypeDetail candidate_6, parties.details.legalEntityTypeDetail procuringEntity_9, parties.details.legalEntityTypeDetail procuringEntity_13, parties.details.legalEntityTypeDetail notifiedSupplier_24, awards.statusDetails_7, parties.details.legalEntityTypeDetail buyer_25, awards.statusDetails_9, parties.details.legalEntityTypeDetail buyer_24, parties.details.legalEntityTypeDetail buyer_23, parties.details.legalEntityTypeDetail buyer_22, parties.details.legalEntityTypeDetail buyer_21, parties.details.legalEntityTypeDetail buyer_20, parties.details.legalEntityTypeDetail procuringEntity_21, parties.details.legalEntityTypeDetail procuringEntity_20, parties.details.legalEntityTypeDetail procuringEntity_23, parties.details.legalEntityTypeDetail procuringEntity_22, parties.details.legalEntityTypeDetail procuringEntity_25, parties.details.legalEntityTypeDetail procuringEntity_24, parties.details.legalEntityTypeDetail procuringEntity_16, parties.details.legalEntityTypeDetail procuringEntity_15, parties.details.legalEntityTypeDetail procuringEntity_18, parties.details.legalEntityTypeDetail procuringEntity_17, parties.details.legalEntityTypeDetail procuringEntity_19, parties.roles candidate q2, parties.roles candidate q1, parties.roles candidate q4, parties.roles candidate q3, tender.procurementMethodDetails q2, parties.details.legalEntityTypeDetail candidate_13, parties.details.legalEntityTypeDetail candidate_12, parties.details.legalEntityTypeDetail candidate_15, parties.details.legalEntityTypeDetail candidate_14, secondStage.id q4, secondStage.id q3, secondStage.id q2, parties.details.legalEntityTypeDetail candidate_11, secondStage.id q1, parties.details.legalEntityTypeDetail candidate_10, parties.details.legalEntityTypeDetail payee_21, parties.details.legalEntityTypeDetail buyer_1, parties.details.legalEntityTypeDetail payee_22, parties.details.legalEntityTypeDetail buyer_2, parties.details.legalEntityTypeDetail candidate_17, parties.details.legalEntityTypeDetail candidate_16, parties.details.legalEntityTypeDetail candidate_19, parties.details.legalEntityTypeDetail candidate_18, parties.details.legalEntityTypeDetail buyer_7, parties.details.legalEntityTypeDetail buyer_8, parties.details.legalEntityTypeDetail buyer_9, parties.details.legalEntityTypeDetail payee_25, parties.details.legalEntityTypeDetail buyer_3, parties.details.legalEntityTypeDetail payee_24, parties.details.legalEntityTypeDetail buyer_4, parties.details.legalEntityTypeDetail buyer_5, parties.details.legalEntityTypeDetail buyer_6, parties.details.legalEntityTypeDetail payee_18, parties.details.legalEntityTypeDetail payer_3, parties.details.legalEntityTypeDetail payer_23, parties.details.legalEntityTypeDetail payer_4, parties.details.legalEntityTypeDetail payer_24, tender.eligibilityCriteria q3, parties.details.legalEntityTypeDetail payer_1, parties.details.legalEntityTypeDetail payer_21, parties.details.legalEntityTypeDetail payer_2, parties.details.legalEntityTypeDetail payer_22, parties.details.legalEntityTypeDetail payer_7, parties.details.legalEntityTypeDetail payer_8, parties.details.legalEntityTypeDetail payer_5, parties.details.legalEntityTypeDetail payer_25, awards.documents.DocumentTypeDetails_19, parties.details.legalEntityTypeDetail payer_6, awards.documents.DocumentTypeDetails_17, parties.details.legalEntityTypeDetail tenderer_18, awards.documents.DocumentTypeDetails_14, parties.details.legalEntityTypeDetail payer_20, parties.details.legalEntityTypeDetail enquirer_18, awards.documents.DocumentTypeDetails_20, parties.details.legalEntityTypeDetail enquirer_15, parties.details.legalEntityTypeDetail payer_18, parties.details.legalEntityTypeDetail payer_19, tender.eligibilityCriteria q2, contracts.status_4, parties.details.legalEntityTypeDetail payer_12, parties.details.legalEntityTypeDetail payer_13, parties.details.legalEntityTypeDetail payer_10, parties.details.legalEntityTypeDetail payer_11, tender.items.classification.id.n1_1_57, parties.details.legalEntityTypeDetail payer_16, parties.details.legalEntityTypeDetail payer_17, parties.details.legalEntityTypeDetail payer_14, parties.details.legalEntityTypeDetail payer_15, tender.criteria.id, parties.details.legalEntityTypeDetail candidate_24, parties.details.legalEntityTypeDetail enquirer_21, parties.details.legalEntityTypeDetail candidate_23, parties.details.legalEntityTypeDetail enquirer_22, parties.details.legalEntityTypeDetail enquirer_23, parties.details.legalEntityTypeDetail candidate_25, parties.details.legalEntityTypeDetail enquirer_24, parties.details.legalEntityTypeDetail candidate_20, parties.details.legalEntityTypeDetail candidate_22, parties.details.legalEntityTypeDetail candidate_21, parties.details.legalEntityTypeDetail enquirer_20, parties.details.legalEntityTypeDetail enquirer_25, parties.details.legalEntityTypeDetail payer_9, parties.details.EntityType tenderer_1, parties.details.EntityType tenderer_2, parties.details.EntityType tenderer_3, parties.details.EntityType tenderer_4, parties.details.legalEntityTypeDetail tenderer_24, parties.details.legalEntityTypeDetail tenderer_25, contracts.statusDetails_3, parties.details.EntityType notifiedSupplier_1, contracts.statusDetails_2, parties.details.EntityType notifiedSupplier_3, parties.details.EntityType notifiedSupplier_2, parties.details.EntityType notifiedSupplier_4, contracts.statusDetails_9, contracts.statusDetails_4, contracts.statusDetails_7, tender.coveredBy_8, contracts.statusDetails_6, contracts.amendments.amendsAmount_usd, contracts.amendments.amendsAmount_pyg, tender.procurementIntention.procuringEntity.id q1, tender.procurementIntention.procuringEntity.name q1, parties.details.EntityType enquirer_4, parties.details.EntityType enquirer_3, parties.details.EntityType enquirer_2, parties.details.EntityType enquirer_1, parties.details.EntityType supplier_1, parties.details.EntityType supplier_3, tender.ProcurementIntentionCategory q3, parties.details.EntityType supplier_2, tender.ProcurementIntentionCategory q1, parties.details.EntityType supplier_4, parties.details.legalEntityTypeDetail supplier_22, parties.details.legalEntityTypeDetail supplier_25, parties.details.legalEntityTypeDetail supplier_24, Criterio de evaluacion faltante, parties.details.legalEntityTypeDetail supplier_21, contracts.documents.DocumentTypeDetails_12, awards.statusDetails_11, awards.statusDetails_10, parties.details.legalEntityTypeDetail supplier_18]\n",
      "  warnings.warn(mesg[\"message\"], RuntimeWarning)\n",
      "/usr/local/lib/python3.10/site-packages/h2o/estimators/estimator_base.py:192: RuntimeWarning: Stopping metric is ignored for _stopping_rounds=0.\n",
      "  warnings.warn(mesg[\"message\"], RuntimeWarning)\n"
     ]
    },
    {
     "name": "stdout",
     "output_type": "stream",
     "text": [
      "██████████████████████████████████████████████████| (done) 100%\n",
      "0.8095986425259051\n",
      "(0.7257724719101124, 0.9039262719353617)\n"
     ]
    },
    {
     "name": "stderr",
     "output_type": "stream",
     "text": [
      "/usr/local/lib/python3.10/site-packages/sklearn/utils/extmath.py:153: RuntimeWarning: invalid value encountered in matmul\n",
      "  ret = a @ b\n"
     ]
    },
    {
     "name": "stdout",
     "output_type": "stream",
     "text": [
      "para value 0.335:\n",
      "Parse progress: |████████████████████████████████████████████████████████████████| (done) 100%\n",
      "Parse progress: |████████████████████████████████████████████████████████████████| (done) 100%\n",
      "xgboost Model Build progress: |"
     ]
    },
    {
     "name": "stderr",
     "output_type": "stream",
     "text": [
      "/usr/local/lib/python3.10/site-packages/h2o/estimators/estimator_base.py:192: RuntimeWarning: Dropping bad and constant columns: [tender.procurementMethod_open, parties.details.legalEntityTypeDetail buyer_15, parties.details.legalEntityTypeDetail buyer_14, parties.details.legalEntityTypeDetail buyer_13, parties.details.legalEntityTypeDetail buyer_12, parties.details.legalEntityTypeDetail buyer_11, parties.details.legalEntityTypeDetail buyer_10, parties.details.EntityType payee_1, parties.details.EntityType payee_2, parties.details.EntityType payee_3, parties.details.EntityType payee_4, planning.items.classification.id.n1_1_57, planning.items.classification.id.n1_1_58, Monto faltante, tender.status_active, tender.statusDetails_En Convocatoria (Abierta), parties.details.EntityType candidate_2, parties.details.EntityType candidate_1, parties.details.EntityType candidate_4, parties.details.legalEntityTypeDetail candidate_1, awards.statusDetails_2, parties.details.EntityType candidate_3, parties.details.legalEntityTypeDetail candidate_2, awards.statusDetails_3, parties.details.legalEntityTypeDetail procuringEntity_2, parties.details.legalEntityTypeDetail buyer_19, awards.statusDetails_4, parties.details.legalEntityTypeDetail procuringEntity_3, parties.details.legalEntityTypeDetail buyer_18, parties.details.legalEntityTypeDetail buyer_17, awards.statusDetails_6, parties.details.legalEntityTypeDetail procuringEntity_1, parties.details.legalEntityTypeDetail buyer_16, parties.details.legalEntityTypeDetail candidate_7, parties.details.legalEntityTypeDetail procuringEntity_6, awards.status_4, parties.details.legalEntityTypeDetail candidate_8, parties.details.legalEntityTypeDetail procuringEntity_7, parties.details.legalEntityTypeDetail candidate_9, parties.details.legalEntityTypeDetail procuringEntity_4, parties.details.legalEntityTypeDetail procuringEntity_10, parties.details.legalEntityTypeDetail procuringEntity_5, parties.details.legalEntityTypeDetail candidate_3, parties.details.legalEntityTypeDetail procuringEntity_12, parties.details.legalEntityTypeDetail candidate_4, parties.details.legalEntityTypeDetail procuringEntity_11, parties.details.legalEntityTypeDetail candidate_5, parties.details.legalEntityTypeDetail procuringEntity_8, parties.details.legalEntityTypeDetail procuringEntity_14, parties.details.legalEntityTypeDetail candidate_6, parties.details.legalEntityTypeDetail procuringEntity_9, parties.details.legalEntityTypeDetail procuringEntity_13, parties.details.legalEntityTypeDetail notifiedSupplier_24, awards.statusDetails_7, parties.details.legalEntityTypeDetail buyer_25, awards.statusDetails_9, parties.details.legalEntityTypeDetail buyer_24, parties.details.legalEntityTypeDetail buyer_23, parties.details.legalEntityTypeDetail buyer_22, parties.details.legalEntityTypeDetail buyer_21, parties.details.legalEntityTypeDetail buyer_20, parties.details.legalEntityTypeDetail procuringEntity_21, parties.details.legalEntityTypeDetail procuringEntity_20, parties.details.legalEntityTypeDetail procuringEntity_23, parties.details.legalEntityTypeDetail procuringEntity_22, parties.details.legalEntityTypeDetail procuringEntity_25, parties.details.legalEntityTypeDetail procuringEntity_24, parties.details.legalEntityTypeDetail procuringEntity_16, parties.details.legalEntityTypeDetail procuringEntity_15, parties.details.legalEntityTypeDetail procuringEntity_18, parties.details.legalEntityTypeDetail procuringEntity_17, parties.details.legalEntityTypeDetail procuringEntity_19, parties.roles candidate q2, parties.roles candidate q1, parties.roles candidate q4, parties.roles candidate q3, tender.procurementMethodDetails q2, parties.details.legalEntityTypeDetail candidate_13, parties.details.legalEntityTypeDetail candidate_12, parties.details.legalEntityTypeDetail candidate_15, parties.details.legalEntityTypeDetail candidate_14, secondStage.id q4, secondStage.id q3, secondStage.id q2, parties.details.legalEntityTypeDetail candidate_11, secondStage.id q1, parties.details.legalEntityTypeDetail candidate_10, parties.details.legalEntityTypeDetail payee_21, parties.details.legalEntityTypeDetail buyer_1, parties.details.legalEntityTypeDetail payee_22, parties.details.legalEntityTypeDetail buyer_2, parties.details.legalEntityTypeDetail candidate_17, parties.details.legalEntityTypeDetail candidate_16, parties.details.legalEntityTypeDetail candidate_19, parties.details.legalEntityTypeDetail candidate_18, parties.details.legalEntityTypeDetail buyer_7, parties.details.legalEntityTypeDetail buyer_8, parties.details.legalEntityTypeDetail buyer_9, parties.details.legalEntityTypeDetail payee_25, parties.details.legalEntityTypeDetail buyer_3, parties.details.legalEntityTypeDetail payee_24, parties.details.legalEntityTypeDetail buyer_4, parties.details.legalEntityTypeDetail buyer_5, parties.details.legalEntityTypeDetail buyer_6, parties.details.legalEntityTypeDetail payee_18, parties.details.legalEntityTypeDetail payer_3, parties.details.legalEntityTypeDetail payer_23, parties.details.legalEntityTypeDetail payer_4, parties.details.legalEntityTypeDetail payer_24, tender.eligibilityCriteria q3, parties.details.legalEntityTypeDetail payer_1, parties.details.legalEntityTypeDetail payer_21, parties.details.legalEntityTypeDetail payer_2, parties.details.legalEntityTypeDetail payer_22, parties.details.legalEntityTypeDetail payer_7, parties.details.legalEntityTypeDetail payer_8, parties.details.legalEntityTypeDetail payer_5, parties.details.legalEntityTypeDetail payer_25, awards.documents.DocumentTypeDetails_19, parties.details.legalEntityTypeDetail payer_6, awards.documents.DocumentTypeDetails_17, parties.details.legalEntityTypeDetail tenderer_18, awards.documents.DocumentTypeDetails_14, parties.details.legalEntityTypeDetail payer_20, parties.details.legalEntityTypeDetail enquirer_18, awards.documents.DocumentTypeDetails_20, parties.details.legalEntityTypeDetail enquirer_15, parties.details.legalEntityTypeDetail payer_18, parties.details.legalEntityTypeDetail payer_19, tender.eligibilityCriteria q2, contracts.status_4, parties.details.legalEntityTypeDetail payer_12, parties.details.legalEntityTypeDetail payer_13, parties.details.legalEntityTypeDetail payer_10, parties.details.legalEntityTypeDetail payer_11, tender.items.classification.id.n1_1_57, parties.details.legalEntityTypeDetail payer_16, parties.details.legalEntityTypeDetail payer_17, parties.details.legalEntityTypeDetail payer_14, parties.details.legalEntityTypeDetail payer_15, tender.criteria.id, parties.details.legalEntityTypeDetail candidate_24, parties.details.legalEntityTypeDetail enquirer_21, parties.details.legalEntityTypeDetail candidate_23, parties.details.legalEntityTypeDetail enquirer_22, parties.details.legalEntityTypeDetail enquirer_23, parties.details.legalEntityTypeDetail candidate_25, parties.details.legalEntityTypeDetail enquirer_24, parties.details.legalEntityTypeDetail candidate_20, parties.details.legalEntityTypeDetail candidate_22, parties.details.legalEntityTypeDetail candidate_21, parties.details.legalEntityTypeDetail enquirer_20, parties.details.legalEntityTypeDetail enquirer_25, parties.details.legalEntityTypeDetail payer_9, parties.details.EntityType tenderer_1, parties.details.EntityType tenderer_2, parties.details.EntityType tenderer_3, parties.details.EntityType tenderer_4, parties.details.legalEntityTypeDetail tenderer_24, parties.details.legalEntityTypeDetail tenderer_25, contracts.statusDetails_3, parties.details.EntityType notifiedSupplier_1, contracts.statusDetails_2, parties.details.EntityType notifiedSupplier_3, parties.details.EntityType notifiedSupplier_2, parties.details.EntityType notifiedSupplier_4, contracts.statusDetails_9, contracts.statusDetails_4, contracts.statusDetails_7, tender.coveredBy_8, contracts.statusDetails_6, contracts.amendments.amendsAmount_usd, contracts.amendments.amendsAmount_pyg, tender.procurementIntention.procuringEntity.id q1, tender.procurementIntention.procuringEntity.name q1, parties.details.EntityType enquirer_4, parties.details.EntityType enquirer_3, parties.details.EntityType enquirer_2, parties.details.EntityType enquirer_1, parties.details.EntityType supplier_1, parties.details.EntityType supplier_3, tender.ProcurementIntentionCategory q3, parties.details.EntityType supplier_2, tender.ProcurementIntentionCategory q1, parties.details.EntityType supplier_4, parties.details.legalEntityTypeDetail supplier_22, parties.details.legalEntityTypeDetail supplier_25, parties.details.legalEntityTypeDetail supplier_24, Criterio de evaluacion faltante, parties.details.legalEntityTypeDetail supplier_21, contracts.documents.DocumentTypeDetails_12, awards.statusDetails_11, awards.statusDetails_10, parties.details.legalEntityTypeDetail supplier_18]\n",
      "  warnings.warn(mesg[\"message\"], RuntimeWarning)\n",
      "/usr/local/lib/python3.10/site-packages/h2o/estimators/estimator_base.py:192: RuntimeWarning: Stopping metric is ignored for _stopping_rounds=0.\n",
      "  warnings.warn(mesg[\"message\"], RuntimeWarning)\n"
     ]
    },
    {
     "name": "stdout",
     "output_type": "stream",
     "text": [
      "██████████████████████████████████████████████████| (done) 100%\n",
      "0.8122369919327221\n",
      "(0.7535112359550562, 0.8931953036232799)\n"
     ]
    },
    {
     "name": "stderr",
     "output_type": "stream",
     "text": [
      "/usr/local/lib/python3.10/site-packages/sklearn/utils/extmath.py:153: RuntimeWarning: invalid value encountered in matmul\n",
      "  ret = a @ b\n"
     ]
    },
    {
     "name": "stdout",
     "output_type": "stream",
     "text": [
      "para value 0.35:\n",
      "Parse progress: |████████████████████████████████████████████████████████████████| (done) 100%\n",
      "Parse progress: |████████████████████████████████████████████████████████████████| (done) 100%\n",
      "xgboost Model Build progress: |"
     ]
    },
    {
     "name": "stderr",
     "output_type": "stream",
     "text": [
      "/usr/local/lib/python3.10/site-packages/h2o/estimators/estimator_base.py:192: RuntimeWarning: Dropping bad and constant columns: [tender.procurementMethod_open, parties.details.legalEntityTypeDetail buyer_15, parties.details.legalEntityTypeDetail buyer_14, parties.details.legalEntityTypeDetail buyer_13, parties.details.legalEntityTypeDetail buyer_12, parties.details.legalEntityTypeDetail buyer_11, parties.details.legalEntityTypeDetail buyer_10, parties.details.EntityType payee_1, parties.details.EntityType payee_2, parties.details.EntityType payee_3, parties.details.EntityType payee_4, planning.items.classification.id.n1_1_57, planning.items.classification.id.n1_1_58, Monto faltante, tender.status_active, tender.statusDetails_En Convocatoria (Abierta), parties.details.EntityType candidate_2, parties.details.EntityType candidate_1, parties.details.EntityType candidate_4, parties.details.legalEntityTypeDetail candidate_1, awards.statusDetails_2, parties.details.EntityType candidate_3, parties.details.legalEntityTypeDetail candidate_2, awards.statusDetails_3, parties.details.legalEntityTypeDetail procuringEntity_2, parties.details.legalEntityTypeDetail buyer_19, awards.statusDetails_4, parties.details.legalEntityTypeDetail procuringEntity_3, parties.details.legalEntityTypeDetail buyer_18, parties.details.legalEntityTypeDetail buyer_17, awards.statusDetails_6, parties.details.legalEntityTypeDetail procuringEntity_1, parties.details.legalEntityTypeDetail buyer_16, parties.details.legalEntityTypeDetail candidate_7, parties.details.legalEntityTypeDetail procuringEntity_6, awards.status_4, parties.details.legalEntityTypeDetail candidate_8, parties.details.legalEntityTypeDetail procuringEntity_7, parties.details.legalEntityTypeDetail candidate_9, parties.details.legalEntityTypeDetail procuringEntity_4, parties.details.legalEntityTypeDetail procuringEntity_10, parties.details.legalEntityTypeDetail procuringEntity_5, parties.details.legalEntityTypeDetail candidate_3, parties.details.legalEntityTypeDetail procuringEntity_12, parties.details.legalEntityTypeDetail candidate_4, parties.details.legalEntityTypeDetail procuringEntity_11, parties.details.legalEntityTypeDetail candidate_5, parties.details.legalEntityTypeDetail procuringEntity_8, parties.details.legalEntityTypeDetail procuringEntity_14, parties.details.legalEntityTypeDetail candidate_6, parties.details.legalEntityTypeDetail procuringEntity_9, parties.details.legalEntityTypeDetail procuringEntity_13, parties.details.legalEntityTypeDetail notifiedSupplier_24, awards.statusDetails_7, parties.details.legalEntityTypeDetail buyer_25, awards.statusDetails_9, parties.details.legalEntityTypeDetail buyer_24, parties.details.legalEntityTypeDetail buyer_23, parties.details.legalEntityTypeDetail buyer_22, parties.details.legalEntityTypeDetail buyer_21, parties.details.legalEntityTypeDetail buyer_20, parties.details.legalEntityTypeDetail procuringEntity_21, parties.details.legalEntityTypeDetail procuringEntity_20, parties.details.legalEntityTypeDetail procuringEntity_23, parties.details.legalEntityTypeDetail procuringEntity_22, parties.details.legalEntityTypeDetail procuringEntity_25, parties.details.legalEntityTypeDetail procuringEntity_24, parties.details.legalEntityTypeDetail procuringEntity_16, parties.details.legalEntityTypeDetail procuringEntity_15, parties.details.legalEntityTypeDetail procuringEntity_18, parties.details.legalEntityTypeDetail procuringEntity_17, parties.details.legalEntityTypeDetail procuringEntity_19, parties.roles candidate q2, parties.roles candidate q1, parties.roles candidate q4, parties.roles candidate q3, tender.procurementMethodDetails q2, parties.details.legalEntityTypeDetail candidate_13, parties.details.legalEntityTypeDetail candidate_12, parties.details.legalEntityTypeDetail candidate_15, parties.details.legalEntityTypeDetail candidate_14, secondStage.id q4, secondStage.id q3, secondStage.id q2, parties.details.legalEntityTypeDetail candidate_11, secondStage.id q1, parties.details.legalEntityTypeDetail candidate_10, parties.details.legalEntityTypeDetail payee_21, parties.details.legalEntityTypeDetail buyer_1, parties.details.legalEntityTypeDetail payee_22, parties.details.legalEntityTypeDetail buyer_2, parties.details.legalEntityTypeDetail candidate_17, parties.details.legalEntityTypeDetail candidate_16, parties.details.legalEntityTypeDetail candidate_19, parties.details.legalEntityTypeDetail candidate_18, parties.details.legalEntityTypeDetail buyer_7, parties.details.legalEntityTypeDetail buyer_8, parties.details.legalEntityTypeDetail buyer_9, parties.details.legalEntityTypeDetail payee_25, parties.details.legalEntityTypeDetail buyer_3, parties.details.legalEntityTypeDetail payee_24, parties.details.legalEntityTypeDetail buyer_4, parties.details.legalEntityTypeDetail buyer_5, parties.details.legalEntityTypeDetail buyer_6, parties.details.legalEntityTypeDetail payee_18, parties.details.legalEntityTypeDetail payer_3, parties.details.legalEntityTypeDetail payer_23, parties.details.legalEntityTypeDetail payer_4, parties.details.legalEntityTypeDetail payer_24, tender.eligibilityCriteria q3, parties.details.legalEntityTypeDetail payer_1, parties.details.legalEntityTypeDetail payer_21, parties.details.legalEntityTypeDetail payer_2, parties.details.legalEntityTypeDetail payer_22, parties.details.legalEntityTypeDetail payer_7, parties.details.legalEntityTypeDetail payer_8, parties.details.legalEntityTypeDetail payer_5, parties.details.legalEntityTypeDetail payer_25, awards.documents.DocumentTypeDetails_19, parties.details.legalEntityTypeDetail payer_6, awards.documents.DocumentTypeDetails_17, parties.details.legalEntityTypeDetail tenderer_18, awards.documents.DocumentTypeDetails_14, parties.details.legalEntityTypeDetail payer_20, parties.details.legalEntityTypeDetail enquirer_18, awards.documents.DocumentTypeDetails_20, parties.details.legalEntityTypeDetail enquirer_15, parties.details.legalEntityTypeDetail payer_18, parties.details.legalEntityTypeDetail payer_19, tender.eligibilityCriteria q2, contracts.status_4, parties.details.legalEntityTypeDetail payer_12, parties.details.legalEntityTypeDetail payer_13, parties.details.legalEntityTypeDetail payer_10, parties.details.legalEntityTypeDetail payer_11, tender.items.classification.id.n1_1_57, parties.details.legalEntityTypeDetail payer_16, parties.details.legalEntityTypeDetail payer_17, parties.details.legalEntityTypeDetail payer_14, parties.details.legalEntityTypeDetail payer_15, tender.criteria.id, parties.details.legalEntityTypeDetail candidate_24, parties.details.legalEntityTypeDetail enquirer_21, parties.details.legalEntityTypeDetail candidate_23, parties.details.legalEntityTypeDetail enquirer_22, parties.details.legalEntityTypeDetail enquirer_23, parties.details.legalEntityTypeDetail candidate_25, parties.details.legalEntityTypeDetail enquirer_24, parties.details.legalEntityTypeDetail candidate_20, parties.details.legalEntityTypeDetail candidate_22, parties.details.legalEntityTypeDetail candidate_21, parties.details.legalEntityTypeDetail enquirer_20, parties.details.legalEntityTypeDetail enquirer_25, parties.details.legalEntityTypeDetail payer_9, parties.details.EntityType tenderer_1, parties.details.EntityType tenderer_2, parties.details.EntityType tenderer_3, parties.details.EntityType tenderer_4, parties.details.legalEntityTypeDetail tenderer_24, parties.details.legalEntityTypeDetail tenderer_25, contracts.statusDetails_3, parties.details.EntityType notifiedSupplier_1, contracts.statusDetails_2, parties.details.EntityType notifiedSupplier_3, parties.details.EntityType notifiedSupplier_2, parties.details.EntityType notifiedSupplier_4, contracts.statusDetails_9, contracts.statusDetails_4, contracts.statusDetails_7, tender.coveredBy_8, contracts.statusDetails_6, contracts.amendments.amendsAmount_usd, contracts.amendments.amendsAmount_pyg, tender.procurementIntention.procuringEntity.id q1, tender.procurementIntention.procuringEntity.name q1, parties.details.EntityType enquirer_4, parties.details.EntityType enquirer_3, parties.details.EntityType enquirer_2, parties.details.EntityType enquirer_1, parties.details.EntityType supplier_1, parties.details.EntityType supplier_3, tender.ProcurementIntentionCategory q3, parties.details.EntityType supplier_2, tender.ProcurementIntentionCategory q1, parties.details.EntityType supplier_4, parties.details.legalEntityTypeDetail supplier_22, parties.details.legalEntityTypeDetail supplier_25, parties.details.legalEntityTypeDetail supplier_24, Criterio de evaluacion faltante, parties.details.legalEntityTypeDetail supplier_21, contracts.documents.DocumentTypeDetails_12, awards.statusDetails_11, awards.statusDetails_10, parties.details.legalEntityTypeDetail supplier_18]\n",
      "  warnings.warn(mesg[\"message\"], RuntimeWarning)\n",
      "/usr/local/lib/python3.10/site-packages/h2o/estimators/estimator_base.py:192: RuntimeWarning: Stopping metric is ignored for _stopping_rounds=0.\n",
      "  warnings.warn(mesg[\"message\"], RuntimeWarning)\n"
     ]
    },
    {
     "name": "stdout",
     "output_type": "stream",
     "text": [
      "██████████████████████████████████████████████████| (done) 100%\n",
      "0.8188876075154826\n",
      "(0.7205056179775281, 0.9202120944325212)\n",
      "best value: 0 - best aucpr 0.8228451418286427\n"
     ]
    }
   ],
   "source": [
    "from imblearn.over_sampling import SMOTE\n",
    "from collections import Counter\n",
    "X = df_dummizado_up_to_2023.drop(y_col_name, axis=1)  # Features (all columns except 'target')\n",
    "y = df_dummizado_up_to_2023[y_col_name]  # Target variable\n",
    "print('Original dataset shape %s' % Counter(y))\n",
    "\n",
    "best_value = 0\n",
    "best_aucpr = 0\n",
    "\n",
    "for value in [0.11, 0.125, 0.14, 0.155, 0.17, 0.185, 0.2, 0.215, 0.23, 0.245, 0.26, 0.275, 0.29, 0.305, 0.32, 0.335, 0.35]:\n",
    "  #https://imbalanced-learn.org/stable/references/generated/imblearn.over_sampling.SMOTE.html#examples-using-imblearn-over-sampling-smote\n",
    "  smote = SMOTE(random_state=24, sampling_strategy= value)\n",
    "  X_resampled, y_resampled = smote.fit_resample(X, y)\n",
    "  print('para value {}:'.format(value))\n",
    "  resampled_df = pd.concat([X_resampled, y_resampled], axis=1, join=\"inner\")\n",
    "  \n",
    "  # desde acá cada run del algoritmo\n",
    "\n",
    "  train = h2o.H2OFrame.from_python(resampled_df)\n",
    "  valid = h2o.H2OFrame.from_python(df_dummizado_from_2023)\n",
    "\n",
    "  titanic_xgb = H2OXGBoostEstimator(booster='dart',\n",
    "                                    stopping_metric= 'AUCPR',\n",
    "                                    normalize_type=\"tree\",\n",
    "                                    seed=1234)\n",
    "  titanic_xgb.train(x=train.columns,\n",
    "                    y='Protestas',\n",
    "                    training_frame=train,\n",
    "                    validation_frame=valid)\n",
    "\n",
    "  if (best_aucpr < titanic_xgb.aucpr(valid=True)):\n",
    "    best_aucpr = titanic_xgb.aucpr(valid=True)\n",
    "    bes_value = value\n",
    "\n",
    "  print(titanic_xgb.aucpr(valid=True))\n",
    "  print(get_performance(titanic_xgb, valid))\n",
    "print(\"best value: {} - best aucpr {}\".format(best_value, best_aucpr))"
   ]
  }
 ],
 "metadata": {
  "kernelspec": {
   "display_name": "Python 3",
   "language": "python",
   "name": "python3"
  },
  "language_info": {
   "codemirror_mode": {
    "name": "ipython",
    "version": 3
   },
   "file_extension": ".py",
   "mimetype": "text/x-python",
   "name": "python",
   "nbconvert_exporter": "python",
   "pygments_lexer": "ipython3",
   "version": "3.10.12"
  },
  "orig_nbformat": 4
 },
 "nbformat": 4,
 "nbformat_minor": 2
}
