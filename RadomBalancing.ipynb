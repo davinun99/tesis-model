{
  "cells": [
    {
      "attachments": {},
      "cell_type": "markdown",
      "metadata": {
        "colab_type": "text",
        "id": "view-in-github"
      },
      "source": [
        "<a href=\"https://colab.research.google.com/github/davinun99/tesis-model/blob/main/RadomBalancing.ipynb\" target=\"_parent\"><img src=\"https://colab.research.google.com/assets/colab-badge.svg\" alt=\"Open In Colab\"/></a>"
      ]
    },
    {
      "attachments": {},
      "cell_type": "markdown",
      "metadata": {
        "id": "eyJn_knXxxm-"
      },
      "source": [
        "First load the dataset"
      ]
    },
    {
      "cell_type": "code",
      "execution_count": 1,
      "metadata": {
        "colab": {
          "base_uri": "https://localhost:8080/"
        },
        "id": "OAufF17gujHG",
        "outputId": "e97b1191-4767-4d56-8195-527c4ac56f97"
      },
      "outputs": [
        {
          "name": "stdout",
          "output_type": "stream",
          "text": [
            "/opt/homebrew/lib/python3.10/site-packages/gdown/cli.py:126: FutureWarning: Option `--id` was deprecated in version 4.3.1 and will be removed in 5.0. You don't need to pass it anymore to use a file ID.\n",
            "  warnings.warn(\n",
            "Downloading...\n",
            "From (uriginal): https://drive.google.com/uc?id=1-tNBUCWFU0_b9QW6ie4Vvfs7eb4WbIPY\n",
            "From (redirected): https://drive.google.com/uc?id=1-tNBUCWFU0_b9QW6ie4Vvfs7eb4WbIPY&confirm=t&uuid=1292b7b9-6a42-4528-9055-c8e1d25a12e7\n",
            "To: /Users/davidnunez/Desktop/tesis/tesis-model/TestBalanceo1.csv\n",
            "100%|████████████████████████████████████████| 369M/369M [00:29<00:00, 12.5MB/s]\n"
          ]
        },
        {
          "name": "stderr",
          "output_type": "stream",
          "text": [
            "/var/folders/6s/z3758tx16yd17yy35vnsnx_80000gn/T/ipykernel_14597/2147683125.py:5: ParserWarning: Falling back to the 'python' engine because the 'c' engine does not support regex separators (separators > 1 char and different from '\\s+' are interpreted as regex); you can avoid this warning by specifying engine='python'.\n",
            "  df_completo = pd.read_csv('TestBalanceo1.csv', sep=\";;;\", index_col=False)\n"
          ]
        }
      ],
      "source": [
        "import pandas as pd\n",
        "pd.set_option('display.max_columns', None) #MOSTRAR TODAS LAS COLUMNAS\n",
        "!gdown --id 1-tNBUCWFU0_b9QW6ie4Vvfs7eb4WbIPY\n",
        "# https://drive.google.com/file/d/1-tNBUCWFU0_b9QW6ie4Vvfs7eb4WbIPY/view?usp=share_link\n",
        "df_completo = pd.read_csv('TestBalanceo1.csv', sep=\";;;\", index_col=False)"
      ]
    },
    {
      "cell_type": "code",
      "execution_count": 2,
      "metadata": {
        "colab": {
          "base_uri": "https://localhost:8080/"
        },
        "id": "SGU99kNBwROG",
        "outputId": "4514eda9-36b2-41f4-9565-bd72b1b55a17"
      },
      "outputs": [
        {
          "name": "stdout",
          "output_type": "stream",
          "text": [
            "total:  97262\n",
            "complaints:  10332\n",
            "no complaints:  15498\n"
          ]
        }
      ],
      "source": [
        "df_complaints = df_completo[(df_completo['has_complaint'] == True)]\n",
        "df_no_complaints = df_completo[(df_completo['has_complaint'] == False)]\n",
        "n_cmp = len(df_complaints.index)\n",
        "n_no_cmp = len(df_no_complaints.index)\n",
        "\n",
        "# print('total: ', len(df_completo.index))\n",
        "# print('complaints: ', n_cmp)\n",
        "# print('no complaints: ', n_no_cmp)\n",
        "\n",
        "df_no_complaints = df_no_complaints.sample(int(n_cmp*3/2)) #Sample 60% no complaints 40 % complaints\n",
        "n_no_cmp = len(df_no_complaints.index)\n",
        "\n",
        "print('total: ', len(df_completo.index))\n",
        "print('complaints: ', n_cmp)\n",
        "print('no complaints: ', n_no_cmp)"
      ]
    },
    {
      "cell_type": "code",
      "execution_count": 3,
      "metadata": {
        "colab": {
          "base_uri": "https://localhost:8080/"
        },
        "id": "2j9PAlwc1HWK",
        "outputId": "cfbc3297-4d07-49b8-d95a-a6d241dbd0ae"
      },
      "outputs": [
        {
          "name": "stdout",
          "output_type": "stream",
          "text": [
            "result length:  25830\n"
          ]
        }
      ],
      "source": [
        "result = pd.concat([df_complaints, df_no_complaints])\n",
        "print('result length: ', len(result.index))"
      ]
    },
    {
      "cell_type": "code",
      "execution_count": 5,
      "metadata": {},
      "outputs": [],
      "source": [
        "from pathlib import Path  \n",
        "filepath = Path('folder/subfolder/out.csv')  \n",
        "filepath.parent.mkdir(parents=True, exist_ok=True)  \n",
        "df_completo.to_csv(filepath)  \n"
      ]
    },
    {
      "cell_type": "code",
      "execution_count": 6,
      "metadata": {},
      "outputs": [],
      "source": [
        "from pathlib import Path  \n",
        "filepath = Path('folder/subfolder/balancedout.csv')  \n",
        "filepath.parent.mkdir(parents=True, exist_ok=True)  \n",
        "result.to_csv(filepath)  \n"
      ]
    }
  ],
  "metadata": {
    "colab": {
      "include_colab_link": true,
      "provenance": []
    },
    "kernelspec": {
      "display_name": "Python 3",
      "name": "python3"
    },
    "language_info": {
      "codemirror_mode": {
        "name": "ipython",
        "version": 3
      },
      "file_extension": ".py",
      "mimetype": "text/x-python",
      "name": "python",
      "nbconvert_exporter": "python",
      "pygments_lexer": "ipython3",
      "version": "3.10.6"
    }
  },
  "nbformat": 4,
  "nbformat_minor": 0
}
