{
 "cells": [
  {
   "cell_type": "code",
   "execution_count": 8,
   "metadata": {},
   "outputs": [
    {
     "name": "stdout",
     "output_type": "stream",
     "text": [
      "Requirement already satisfied: imbalanced-learn in /opt/homebrew/lib/python3.11/site-packages (0.10.1)\n",
      "Requirement already satisfied: numpy>=1.17.3 in /opt/homebrew/lib/python3.11/site-packages (from imbalanced-learn) (1.25.0)\n",
      "Requirement already satisfied: scipy>=1.3.2 in /opt/homebrew/lib/python3.11/site-packages (from imbalanced-learn) (1.11.1)\n",
      "Requirement already satisfied: scikit-learn>=1.0.2 in /opt/homebrew/lib/python3.11/site-packages (from imbalanced-learn) (1.3.0)\n",
      "Requirement already satisfied: joblib>=1.1.1 in /opt/homebrew/lib/python3.11/site-packages (from imbalanced-learn) (1.3.1)\n",
      "Requirement already satisfied: threadpoolctl>=2.0.0 in /opt/homebrew/lib/python3.11/site-packages (from imbalanced-learn) (3.1.0)\n",
      "Note: you may need to restart the kernel to use updated packages.\n"
     ]
    }
   ],
   "source": [
    "%pip install -U imbalanced-learn\n",
    "%pip install scikit-learn==1.0.2"
   ]
  },
  {
   "cell_type": "code",
   "execution_count": 10,
   "metadata": {},
   "outputs": [],
   "source": [
    "import pandas as pd\n",
    "import numpy as np\n",
    "pd.set_option('display.max_columns', None) #MOSTRAR TODAS LAS COLUMNAS\n",
    "y_col_name = 'Protestas'"
   ]
  },
  {
   "cell_type": "code",
   "execution_count": 4,
   "metadata": {},
   "outputs": [
    {
     "name": "stdout",
     "output_type": "stream",
     "text": [
      "/opt/homebrew/lib/python3.10/site-packages/gdown/cli.py:126: FutureWarning: Option `--id` was deprecated in version 4.3.1 and will be removed in 5.0. You don't need to pass it anymore to use a file ID.\n",
      "  warnings.warn(\n",
      "Downloading...\n",
      "From (uriginal): https://drive.google.com/uc?id=1-tNBUCWFU0_b9QW6ie4Vvfs7eb4WbIPY\n",
      "From (redirected): https://drive.google.com/uc?id=1-tNBUCWFU0_b9QW6ie4Vvfs7eb4WbIPY&confirm=t&uuid=e1aa9b57-f4de-4960-9fa5-a65cecb63069\n",
      "To: /Users/davidnunez/Desktop/tesis/tesis-model/TestBalanceo1.csv\n",
      "100%|████████████████████████████████████████| 446M/446M [01:10<00:00, 6.35MB/s]\n",
      "/opt/homebrew/lib/python3.10/site-packages/gdown/cli.py:126: FutureWarning: Option `--id` was deprecated in version 4.3.1 and will be removed in 5.0. You don't need to pass it anymore to use a file ID.\n",
      "  warnings.warn(\n",
      "Downloading...\n",
      "From: https://drive.google.com/uc?id=11eGwBDC3FoJh8eanfpYXFAS-3SZ6vNnO\n",
      "To: /Users/davidnunez/Desktop/tesis/tesis-model/OcidConBanderas.csv\n",
      "100%|██████████████████████████████████████| 6.92M/6.92M [00:01<00:00, 3.81MB/s]\n"
     ]
    }
   ],
   "source": [
    "!gdown --id 1-tNBUCWFU0_b9QW6ie4Vvfs7eb4WbIPY\n",
    "# https://drive.google.com/file/d/1-tNBUCWFU0_b9QW6ie4Vvfs7eb4WbIPY/view?usp=share_link\n",
    "!gdown --id 11eGwBDC3FoJh8eanfpYXFAS-3SZ6vNnO\n",
    "#https://drive.google.com/file/d/11eGwBDC3FoJh8eanfpYXFAS-3SZ6vNnO/view?usp=sharing"
   ]
  },
  {
   "cell_type": "code",
   "execution_count": 11,
   "metadata": {},
   "outputs": [
    {
     "name": "stderr",
     "output_type": "stream",
     "text": [
      "/var/folders/6s/z3758tx16yd17yy35vnsnx_80000gn/T/ipykernel_92554/2578874532.py:1: ParserWarning: Falling back to the 'python' engine because the 'c' engine does not support regex separators (separators > 1 char and different from '\\s+' are interpreted as regex); you can avoid this warning by specifying engine='python'.\n",
      "  df_completo = pd.read_csv('TestBalanceo1.csv', sep=\";;;\", index_col=False)\n"
     ]
    }
   ],
   "source": [
    "df_completo = pd.read_csv('TestBalanceo1.csv', sep=\";;;\", index_col=False)\n",
    "df_banderas_completo = pd.read_csv('OcidConBanderas.csv', sep=\";\", index_col=False)\n",
    "df_banderas_completo.drop(['Unnamed: 10'], inplace=True, axis=1)\n",
    "df_completo = df_completo.merge(df_banderas_completo, left_on='ocid', right_on='id', how='left')"
   ]
  },
  {
   "cell_type": "code",
   "execution_count": 12,
   "metadata": {},
   "outputs": [],
   "source": [
    "#Drop\n",
    "df_dummizado = df_completo.drop(['ocid', 'id_x', 'id_y', 'tender.id', # Dropeamos por que son IDs\n",
    "    'tender.bidOpening.address.streetAddress', 'tender.enquiriesAddress.streetAddress', #Dropeamos por que son direcciones, creemos que no tienen valor\n",
    "    'ocid.1', 'tender.procurementIntention.uri', # URL y id\n",
    "    'tender.procurementIntention.description', #Descripcion\n",
    "    'tender.procurementIntention.category', # Dropeamos porque ya esta la info en otra columna\n",
    "    'tender.procurementIntention.title', #Titulo, practicamente todos son unicos\n",
    "    'initiationType', #Todos tienen el mismo valor (tender)\n",
    "    'tender.procurementIntention.id', # Ver vien por que dropeamos\n",
    "    'tag', #Todos tienen el mismo valor (compiled)\n",
    "    'language', #Todos tienen el mismo valor (es)\n",
    "    'tender.techniques.hasFrameworkAgreement', #Solo 48 rows con datos, no vale la pena\n",
    "    # 'Protestas', #Tiene info del resultado\n",
    "\t'tender.contractPeriod.durationInDays',\n",
    "\t'has_complaint',\n",
    "], axis=1)\n",
    "\n",
    "#Dummies\n",
    "df_dummizado = pd.get_dummies(df_dummizado, columns=['tender.status']) # Cardinalidad baja\n",
    "df_dummizado = pd.get_dummies(df_dummizado, columns=['tender.awardCriteria']) # Cardinalidad baja\n",
    "df_dummizado = pd.get_dummies(df_dummizado, columns=['tender.awardCriteriaDetails']) # Cardinalidad baja\n",
    "df_dummizado = pd.get_dummies(df_dummizado, columns=['tender.statusDetails']) # Cardinalidad baja\n",
    "df_dummizado = pd.get_dummies(df_dummizado, columns=['tender.hasEnquiries']) # Cardinalidad baja\n",
    "df_dummizado = pd.get_dummies(df_dummizado, columns=['tender.value.currency']) # Cardinalidad baja\n",
    "df_dummizado = pd.get_dummies(df_dummizado, columns=['tender.mainProcurementCategory']) # Cardinalidad baja\n",
    "df_dummizado = pd.get_dummies(df_dummizado, columns=['tender.procurementMethod']) # Cardinalidad baja\n",
    "df_dummizado = pd.get_dummies(df_dummizado, columns=['tender.procurementMethodRationale']) # Cardinalidad baja\n",
    "df_dummizado = pd.get_dummies(df_dummizado, columns=['tender.procurementIntention.rationale']) # Cardinalidad baja\n",
    "df_dummizado = pd.get_dummies(df_dummizado, columns=['planning.budget.amount.currency']) # Cardinalidad baja\n",
    "\n",
    "df_dummizado = pd.get_dummies(df_dummizado, columns=['tender.procurementIntention.status']) # Cardinalidad baja\n",
    "df_dummizado = pd.get_dummies(df_dummizado, columns=['tender.procurementIntention.statusDetails']) # Cardinalidad baja\n",
    "\n",
    "\n",
    "#Dates\n",
    "df_dummizado['tender.bidOpening.date.month'] = pd.to_datetime(df_dummizado['tender.bidOpening.date'], format='%Y-%m-%dT%H:%M:%S-04:00').dt.month\n",
    "df_dummizado['tender.bidOpening.date.year'] = pd.to_datetime(df_dummizado['tender.bidOpening.date'], format='%Y-%m-%dT%H:%M:%S-04:00').dt.year\n",
    "df_dummizado['tender.bidOpening.date.yearmonth'] = pd.to_datetime(df_dummizado['tender.bidOpening.date'], format='%Y-%m-%dT%H:%M:%S-04:00').dt.strftime('%Y%m')\n",
    "\n",
    "df_dummizado['tender.datePublished.month'] = pd.to_datetime(df_dummizado['tender.datePublished'], format='%Y-%m-%dT%H:%M:%S-04:00').dt.month\n",
    "df_dummizado['tender.datePublished.year'] = pd.to_datetime(df_dummizado['tender.datePublished'], format='%Y-%m-%dT%H:%M:%S-04:00').dt.year\n",
    "df_dummizado['tender.datePublished.yearmonth'] = pd.to_datetime(df_dummizado['tender.datePublished'], format='%Y-%m-%dT%H:%M:%S-04:00').dt.strftime('%Y%m')\n",
    "\n",
    "df_dummizado['tender.tenderPeriod.startDate.month'] = pd.to_datetime(df_dummizado['tender.tenderPeriod.startDate'], format='%Y-%m-%dT%H:%M:%S-04:00').dt.month\n",
    "df_dummizado['tender.tenderPeriod.startDate.year'] = pd.to_datetime(df_dummizado['tender.tenderPeriod.startDate'], format='%Y-%m-%dT%H:%M:%S-04:00').dt.year\n",
    "df_dummizado['tender.tenderPeriod.startDate.yearmonth'] = pd.to_datetime(df_dummizado['tender.tenderPeriod.startDate'], format='%Y-%m-%dT%H:%M:%S-04:00').dt.strftime('%Y%m')\n",
    "\n",
    "df_dummizado['tender.tenderPeriod.endDate.month'] = pd.to_datetime(df_dummizado['tender.tenderPeriod.startDate'], format='%Y-%m-%dT%H:%M:%S-04:00').dt.month\n",
    "df_dummizado['tender.tenderPeriod.endDate.year'] = pd.to_datetime(df_dummizado['tender.tenderPeriod.startDate'], format='%Y-%m-%dT%H:%M:%S-04:00').dt.year\n",
    "df_dummizado['tender.tenderPeriod.endDate.yearmonth'] = pd.to_datetime(df_dummizado['tender.tenderPeriod.startDate'], format='%Y-%m-%dT%H:%M:%S-04:00').dt.strftime('%Y%m')\n",
    "\n",
    "df_dummizado['tender.awardPeriod.startDate.month'] = pd.to_datetime(df_dummizado['tender.awardPeriod.startDate'], format='%Y-%m-%dT%H:%M:%S-04:00').dt.month\n",
    "df_dummizado['tender.awardPeriod.startDate.year'] = pd.to_datetime(df_dummizado['tender.awardPeriod.startDate'], format='%Y-%m-%dT%H:%M:%S-04:00').dt.year\n",
    "df_dummizado['tender.awardPeriod.startDate.yearmonth'] = pd.to_datetime(df_dummizado['tender.awardPeriod.startDate'], format='%Y-%m-%dT%H:%M:%S-04:00').dt.strftime('%Y%m')\n",
    "\n",
    "df_dummizado['tender.enquiryPeriod.endDate.month'] = pd.to_datetime(df_dummizado['tender.enquiryPeriod.endDate'], format='%Y-%m-%dT%H:%M:%S-04:00').dt.month\n",
    "df_dummizado['tender.enquiryPeriod.endDate.year'] = pd.to_datetime(df_dummizado['tender.enquiryPeriod.endDate'], format='%Y-%m-%dT%H:%M:%S-04:00').dt.year\n",
    "df_dummizado['tender.enquiryPeriod.endDate.yearmonth'] = pd.to_datetime(df_dummizado['tender.enquiryPeriod.endDate'], format='%Y-%m-%dT%H:%M:%S-04:00').dt.strftime('%Y%m')\n",
    "\n",
    "df_dummizado['tender.enquiryPeriod.startDate.month'] = pd.to_datetime(df_dummizado['tender.enquiryPeriod.startDate'], format='%Y-%m-%dT%H:%M:%S-04:00').dt.month\n",
    "df_dummizado['tender.enquiryPeriod.startDate.year'] = pd.to_datetime(df_dummizado['tender.enquiryPeriod.startDate'], format='%Y-%m-%dT%H:%M:%S-04:00').dt.year\n",
    "df_dummizado['tender.enquiryPeriod.startDate.yearmonth'] = pd.to_datetime(df_dummizado['tender.enquiryPeriod.startDate'], format='%Y-%m-%dT%H:%M:%S-04:00').dt.strftime('%Y%m')\n",
    "\n",
    "df_dummizado['date.month'] = pd.to_datetime(df_dummizado['date'], format='%Y-%m-%dT%H:%M:%S-04:00').dt.month\n",
    "df_dummizado['date.year'] = pd.to_datetime(df_dummizado['date'], format='%Y-%m-%dT%H:%M:%S-04:00').dt.year\n",
    "df_dummizado['date.yearmonth'] = pd.to_datetime(df_dummizado['date'], format='%Y-%m-%dT%H:%M:%S-04:00').dt.strftime('%Y%m')\n",
    "\n",
    "df_dummizado['planning.estimatedDate.month'] = pd.to_datetime(df_dummizado['planning.estimatedDate'], format='%Y-%m-%dT%H:%M:%S-04:00').dt.month\n",
    "df_dummizado['planning.estimatedDate.year'] = pd.to_datetime(df_dummizado['planning.estimatedDate'], format='%Y-%m-%dT%H:%M:%S-04:00').dt.year\n",
    "df_dummizado['planning.estimatedDate.yearmonth'] = pd.to_datetime(df_dummizado['planning.estimatedDate'], format='%Y-%m-%dT%H:%M:%S-04:00').dt.strftime('%Y%m')\n",
    "# Dropeando data interesante (Despues ver como procesar, son datos practicamente unicos)\n",
    "df_dummizado = df_dummizado.drop(['tender.title', 'tender.submissionMethodDetails', 'tender.eligibilityCriteria', 'tender.mainProcurementCategoryDetails', 'planning.budget.description', ], axis=1)\n",
    "\n",
    "# Dropeando por cardinalidad alta? Datos no 100% unicos por cada row\n",
    "df_dummizado = df_dummizado.drop(['tender.procurementMethodDetails', 'tender.procuringEntity.id', 'tender.procuringEntity.name', 'buyer.id', 'buyer.name', \n",
    "\t'tender.procurementIntention.procuringEntity.id', 'tender.procurementIntention.procuringEntity.name', 'secondStage.id',\n",
    "], axis=1)\n",
    "\n",
    "#Dropeando dates\n",
    "df_dummizado = df_dummizado.drop(['tender.bidOpening.date',\n",
    "\t'tender.datePublished', 'tender.tenderPeriod.startDate', 'tender.tenderPeriod.endDate', 'tender.awardPeriod.startDate','tender.enquiryPeriod.endDate','tender.enquiryPeriod.startDate',\n",
    "    'date', 'planning.estimatedDate', \n",
    "    'tender.contractPeriod.maxExtentDate', # Hay solo 7000\n",
    "    'tender.procurementIntention.startDate', 'tender.procurementIntention.publishedDate', #Hay solo 1200 en todo el dataset\n",
    "\t'tender.contractPeriod.startDate', 'tender.contractPeriod.endDate' # Hay solo 35 datos en todo el dataset\n",
    "], axis= 1)\n",
    "\n",
    "# Otras conversiones\n",
    "df_dummizado['tender.techniques.hasElectronicAuction'] = np.where(df_dummizado['tender.techniques.hasElectronicAuction'] == True, 1, 0)\n"
   ]
  },
  {
   "cell_type": "code",
   "execution_count": 13,
   "metadata": {},
   "outputs": [],
   "source": [
    "# df_dummizado['tender.value.amount'] = df_dummizado['tender.value.amount'].fillna() #\n",
    "# df_dummizado['tender.tenderPeriod.durationInDays'] = df_dummizado['tender.tenderPeriod.durationInDays'].fillna(-1)\n",
    "# df_dummizado['tender.enquiryPeriod.durationInDays'] = df_dummizado['tender.enquiryPeriod.durationInDays'].fillna(-1)\n",
    "# df_dummizado['tender.numberOfTenderers'] = df_dummizado['tender.numberOfTenderers'].fillna(-1)\n",
    "# df_dummizado['planning.identifier'] = df_dummizado['planning.identifier'].fillna(0)\n",
    "# df_dummizado['planning.budget.amount.amount'] = df_dummizado['planning.budget.amount.amount'].fillna(-1)\n",
    "# df_dummizado['tender.contractPeriod.durationInDays'] = df_dummizado['tender.contractPeriod.durationInDays'].fillna(-1)\n",
    "# df_dummizado['tender.techniques.hasElectronicAuction'] = df_dummizado['tender.techniques.hasElectronicAuction'].fillna(False)\n",
    "\n",
    "df_dummizado['tender.value.amount'].fillna(df_dummizado['tender.value.amount'].mean(), inplace=True)\n",
    "df_dummizado['tender.tenderPeriod.durationInDays'].fillna(df_dummizado['tender.tenderPeriod.durationInDays'].mean(), inplace=True)\n",
    "df_dummizado['tender.enquiryPeriod.durationInDays'].fillna(df_dummizado['tender.enquiryPeriod.durationInDays'].mean(), inplace=True)\n",
    "df_dummizado['tender.numberOfTenderers'].fillna(0, inplace=True)\n",
    "df_dummizado['tender.numberOfTenderers'].fillna(0, inplace=True)\n",
    "df_dummizado['planning.budget.amount.amount'].fillna(df_dummizado['planning.budget.amount.amount'].mean(), inplace=True)\n",
    "df_dummizado['tender.techniques.hasElectronicAuction'] = df_dummizado['tender.techniques.hasElectronicAuction'].fillna(False)\n",
    "df_dummizado = df_dummizado.fillna(0)\n"
   ]
  },
  {
   "cell_type": "code",
   "execution_count": 14,
   "metadata": {},
   "outputs": [
    {
     "data": {
      "text/plain": [
       "0.11885425054641666"
      ]
     },
     "execution_count": 14,
     "metadata": {},
     "output_type": "execute_result"
    }
   ],
   "source": [
    "df_complaints = df_dummizado[(df_dummizado[y_col_name] == True)]\n",
    "df_no_complaints = df_dummizado[(df_dummizado[y_col_name] == False)]\n",
    "# PERCENTAGE OF COMPLAINTS / NO COMPLAINTS\n",
    "(df_complaints.shape[0] * 1) / df_no_complaints.shape[0]"
   ]
  },
  {
   "cell_type": "code",
   "execution_count": 16,
   "metadata": {},
   "outputs": [
    {
     "name": "stdout",
     "output_type": "stream",
     "text": [
      "Original dataset shape Counter({False: 86930, True: 10332})\n"
     ]
    },
    {
     "name": "stderr",
     "output_type": "stream",
     "text": [
      "/opt/homebrew/lib/python3.11/site-packages/sklearn/utils/extmath.py:153: RuntimeWarning: invalid value encountered in matmul\n",
      "  ret = a @ b\n"
     ]
    },
    {
     "name": "stdout",
     "output_type": "stream",
     "text": [
      "Resampled dataset shape Counter({False: 86930, True: 26079})\n"
     ]
    }
   ],
   "source": [
    "from imblearn.over_sampling import SMOTE\n",
    "from collections import Counter\n",
    "X = df_dummizado.drop(y_col_name, axis=1)  # Features (all columns except 'target')\n",
    "y = df_dummizado[y_col_name]  # Target variable\n",
    "print('Original dataset shape %s' % Counter(y))\n",
    "#https://imbalanced-learn.org/stable/references/generated/imblearn.over_sampling.SMOTE.html#examples-using-imblearn-over-sampling-smote\n",
    "smote = SMOTE(random_state=42, sampling_strategy= 0.3)\n",
    "X_resampled, y_resampled = smote.fit_resample(X, y)\n",
    "print('Resampled dataset shape %s' % Counter(y_resampled))"
   ]
  },
  {
   "cell_type": "code",
   "execution_count": 17,
   "metadata": {},
   "outputs": [],
   "source": [
    "df_dummizado.to_csv('df_dummizado.csv', index=False, encoding='utf-8')"
   ]
  },
  {
   "cell_type": "code",
   "execution_count": 18,
   "metadata": {},
   "outputs": [],
   "source": [
    "resampled_df = pd.concat([X_resampled, y_resampled], axis=1, join=\"inner\")\n",
    "resampled_df.to_csv('balanced_output.csv', index = False, encoding='utf-8') # False: not include index"
   ]
  },
  {
   "cell_type": "code",
   "execution_count": 20,
   "metadata": {},
   "outputs": [],
   "source": [
    "# TO CSV EXAMPLE\n",
    "\n",
    "X_resampled.to_csv('ouput_x.csv', index = False, encoding='utf-8') # False: not include index\n",
    "y_resampled.to_csv('ouput_y.csv', index = False, encoding='utf-8') # False: not include index\n",
    "# print(df)"
   ]
  },
  {
   "cell_type": "code",
   "execution_count": null,
   "metadata": {},
   "outputs": [],
   "source": [
    "# GROUP BY EXAMPLE\n",
    "gkk = df_completo.groupby(['initiationType'], dropna=False)\n",
    "gkk.count()"
   ]
  },
  {
   "cell_type": "code",
   "execution_count": null,
   "metadata": {},
   "outputs": [],
   "source": [
    "#VERIFICAR VALORES NAN EN DUMMIZADO\n",
    "\n",
    "# list(df_dummizado.columns)\n",
    "# df_dummizado.isna().mean().round(4) * 100\n",
    "# with pd.option_context('display.max_rows', None, 'display.max_columns', None):  # more options can be specified also\n",
    "pd.set_option('display.max_columns', None)  # or 1000\n",
    "pd.set_option('display.max_rows', None)  # or 1000\n",
    "df_dummizado.isna().sum()"
   ]
  }
 ],
 "metadata": {
  "kernelspec": {
   "display_name": "Python 3",
   "language": "python",
   "name": "python3"
  },
  "language_info": {
   "codemirror_mode": {
    "name": "ipython",
    "version": 3
   },
   "file_extension": ".py",
   "mimetype": "text/x-python",
   "name": "python",
   "nbconvert_exporter": "python",
   "pygments_lexer": "ipython3",
   "version": "3.11.4"
  },
  "orig_nbformat": 4
 },
 "nbformat": 4,
 "nbformat_minor": 2
}
