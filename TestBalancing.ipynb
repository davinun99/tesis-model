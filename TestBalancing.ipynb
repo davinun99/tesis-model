{
 "cells": [
  {
   "cell_type": "code",
   "execution_count": 1,
   "metadata": {},
   "outputs": [
    {
     "name": "stdout",
     "output_type": "stream",
     "text": [
      "Requirement already satisfied: imbalanced-learn in /opt/homebrew/lib/python3.10/site-packages (0.10.1)\n",
      "Requirement already satisfied: joblib>=1.1.1 in /opt/homebrew/lib/python3.10/site-packages (from imbalanced-learn) (1.2.0)\n",
      "Requirement already satisfied: threadpoolctl>=2.0.0 in /opt/homebrew/lib/python3.10/site-packages (from imbalanced-learn) (3.1.0)\n",
      "Requirement already satisfied: numpy>=1.17.3 in /opt/homebrew/lib/python3.10/site-packages (from imbalanced-learn) (1.24.3)\n",
      "Requirement already satisfied: scipy>=1.3.2 in /opt/homebrew/lib/python3.10/site-packages (from imbalanced-learn) (1.10.1)\n",
      "Requirement already satisfied: scikit-learn>=1.0.2 in /opt/homebrew/lib/python3.10/site-packages (from imbalanced-learn) (1.2.2)\n",
      "\n",
      "\u001b[1m[\u001b[0m\u001b[34;49mnotice\u001b[0m\u001b[1;39;49m]\u001b[0m\u001b[39;49m A new release of pip is available: \u001b[0m\u001b[31;49m23.0.1\u001b[0m\u001b[39;49m -> \u001b[0m\u001b[32;49m23.1.2\u001b[0m\n",
      "\u001b[1m[\u001b[0m\u001b[34;49mnotice\u001b[0m\u001b[1;39;49m]\u001b[0m\u001b[39;49m To update, run: \u001b[0m\u001b[32;49mpython3.10 -m pip install --upgrade pip\u001b[0m\n",
      "Note: you may need to restart the kernel to use updated packages.\n"
     ]
    }
   ],
   "source": [
    "%pip install -U imbalanced-learn"
   ]
  },
  {
   "cell_type": "code",
   "execution_count": 29,
   "metadata": {},
   "outputs": [],
   "source": [
    "import pandas as pd\n",
    "import numpy as np\n",
    "pd.set_option('display.max_columns', None) #MOSTRAR TODAS LAS COLUMNAS"
   ]
  },
  {
   "cell_type": "code",
   "execution_count": 3,
   "metadata": {},
   "outputs": [
    {
     "name": "stdout",
     "output_type": "stream",
     "text": [
      "/opt/homebrew/lib/python3.10/site-packages/gdown/cli.py:126: FutureWarning: Option `--id` was deprecated in version 4.3.1 and will be removed in 5.0. You don't need to pass it anymore to use a file ID.\n",
      "  warnings.warn(\n",
      "Downloading...\n",
      "From (uriginal): https://drive.google.com/uc?id=1-tNBUCWFU0_b9QW6ie4Vvfs7eb4WbIPY\n",
      "From (redirected): https://drive.google.com/uc?id=1-tNBUCWFU0_b9QW6ie4Vvfs7eb4WbIPY&confirm=t&uuid=7bf5b457-38f9-4338-b171-52b7415614fe\n",
      "To: /Users/davidnunez/Desktop/tesis/tesis-model/TestBalanceo1.csv\n",
      "100%|████████████████████████████████████████| 428M/428M [00:15<00:00, 27.8MB/s]\n",
      "/opt/homebrew/lib/python3.10/site-packages/gdown/cli.py:126: FutureWarning: Option `--id` was deprecated in version 4.3.1 and will be removed in 5.0. You don't need to pass it anymore to use a file ID.\n",
      "  warnings.warn(\n",
      "Downloading...\n",
      "From: https://drive.google.com/uc?id=11eGwBDC3FoJh8eanfpYXFAS-3SZ6vNnO\n",
      "To: /Users/davidnunez/Desktop/tesis/tesis-model/OcidConBanderas.csv\n",
      "100%|██████████████████████████████████████| 6.92M/6.92M [00:00<00:00, 12.4MB/s]\n"
     ]
    }
   ],
   "source": [
    "!gdown --id 1-tNBUCWFU0_b9QW6ie4Vvfs7eb4WbIPY\n",
    "# https://drive.google.com/file/d/1-tNBUCWFU0_b9QW6ie4Vvfs7eb4WbIPY/view?usp=share_link\n",
    "!gdown --id 11eGwBDC3FoJh8eanfpYXFAS-3SZ6vNnO\n",
    "#https://drive.google.com/file/d/11eGwBDC3FoJh8eanfpYXFAS-3SZ6vNnO/view?usp=sharing"
   ]
  },
  {
   "cell_type": "code",
   "execution_count": 30,
   "metadata": {},
   "outputs": [
    {
     "name": "stderr",
     "output_type": "stream",
     "text": [
      "/var/folders/6s/z3758tx16yd17yy35vnsnx_80000gn/T/ipykernel_33562/201650735.py:3: ParserWarning: Falling back to the 'python' engine because the 'c' engine does not support regex separators (separators > 1 char and different from '\\s+' are interpreted as regex); you can avoid this warning by specifying engine='python'.\n",
      "  df_completo = pd.read_csv('TestBalanceo1.csv', sep=\";;;\", index_col=False)\n"
     ]
    }
   ],
   "source": [
    "from sklearn.preprocessing import LabelEncoder\n",
    "encoder = LabelEncoder()\n",
    "df_completo = pd.read_csv('TestBalanceo1.csv', sep=\";;;\", index_col=False)"
   ]
  },
  {
   "cell_type": "code",
   "execution_count": 31,
   "metadata": {},
   "outputs": [],
   "source": [
    "df_banderas_completo = pd.read_csv('OcidConBanderas.csv', sep=\";\", index_col=False)\n",
    "df_banderas_completo.drop(['Unnamed: 10'], inplace=True, axis=1)\n",
    "df_completo = df_completo.merge(df_banderas_completo, left_on='ocid', right_on='id', how='left')"
   ]
  },
  {
   "cell_type": "code",
   "execution_count": 55,
   "metadata": {},
   "outputs": [],
   "source": [
    "#Drop\n",
    "df_dummizado = df_completo.drop(['ocid', 'id_x', 'id_y', 'tender.id', 'tender.bidOpening.address.streetAddress', 'tender.enquiriesAddress.streetAddress', 'ocid.1', 'tender.procurementIntention.uri',\n",
    "    'tender.procurementIntention.description', 'tender.procurementIntention.category', 'tender.procurementIntention.title', 'initiationType','tender.procurementIntention.id', # Ver vien por que dropeamos\n",
    "    'tag', 'language'], axis=1)\n",
    "\n",
    "#Dummies\n",
    "df_dummizado = pd.get_dummies(df_dummizado, columns=['tender.status']) # Cardinalidad baja\n",
    "df_dummizado = pd.get_dummies(df_dummizado, columns=['tender.awardCriteria']) # Cardinalidad baja\n",
    "df_dummizado = pd.get_dummies(df_dummizado, columns=['tender.awardCriteriaDetails']) # Cardinalidad baja\n",
    "df_dummizado = pd.get_dummies(df_dummizado, columns=['tender.statusDetails']) # Cardinalidad baja\n",
    "df_dummizado = pd.get_dummies(df_dummizado, columns=['tender.hasEnquiries']) # Cardinalidad baja\n",
    "df_dummizado = pd.get_dummies(df_dummizado, columns=['tender.value.currency']) # Cardinalidad baja\n",
    "df_dummizado = pd.get_dummies(df_dummizado, columns=['tender.mainProcurementCategory']) # Cardinalidad baja\n",
    "df_dummizado = pd.get_dummies(df_dummizado, columns=['tender.procurementMethod']) # Cardinalidad baja\n",
    "df_dummizado = pd.get_dummies(df_dummizado, columns=['planning.budget.amount.currency']) # Cardinalidad baja\n",
    "\n",
    "df_dummizado = pd.get_dummies(df_dummizado, columns=['tender.procurementIntention.status']) # Cardinalidad baja\n",
    "df_dummizado = pd.get_dummies(df_dummizado, columns=['tender.procurementIntention.statusDetails']) # Cardinalidad baja\n",
    "\n",
    "\n",
    "#Dates\n",
    "df_dummizado['tender.bidOpening.date.month'] = pd.to_datetime(df_dummizado['tender.bidOpening.date'], format='%Y-%m-%dT%H:%M:%S-04:00').dt.month\n",
    "df_dummizado['tender.bidOpening.date.year'] = pd.to_datetime(df_dummizado['tender.bidOpening.date'], format='%Y-%m-%dT%H:%M:%S-04:00').dt.year\n",
    "df_dummizado['tender.bidOpening.date.yearmonth'] = pd.to_datetime(df_dummizado['tender.bidOpening.date'], format='%Y-%m-%dT%H:%M:%S-04:00').dt.strftime('%m%Y')\n",
    "\n",
    "df_dummizado['tender.datePublished.month'] = pd.to_datetime(df_dummizado['tender.datePublished'], format='%Y-%m-%dT%H:%M:%S-04:00').dt.month\n",
    "df_dummizado['tender.datePublished.year'] = pd.to_datetime(df_dummizado['tender.datePublished'], format='%Y-%m-%dT%H:%M:%S-04:00').dt.year\n",
    "df_dummizado['tender.datePublished.yearmonth'] = pd.to_datetime(df_dummizado['tender.datePublished'], format='%Y-%m-%dT%H:%M:%S-04:00').dt.strftime('%m%Y')\n",
    "\n",
    "df_dummizado['tender.tenderPeriod.startDate.month'] = pd.to_datetime(df_dummizado['tender.tenderPeriod.startDate'], format='%Y-%m-%dT%H:%M:%S-04:00').dt.month\n",
    "df_dummizado['tender.tenderPeriod.startDate.year'] = pd.to_datetime(df_dummizado['tender.tenderPeriod.startDate'], format='%Y-%m-%dT%H:%M:%S-04:00').dt.year\n",
    "df_dummizado['tender.tenderPeriod.startDate.yearmonth'] = pd.to_datetime(df_dummizado['tender.tenderPeriod.startDate'], format='%Y-%m-%dT%H:%M:%S-04:00').dt.strftime('%m%Y')\n",
    "\n",
    "df_dummizado['tender.tenderPeriod.endDate.month'] = pd.to_datetime(df_dummizado['tender.tenderPeriod.startDate'], format='%Y-%m-%dT%H:%M:%S-04:00').dt.month\n",
    "df_dummizado['tender.tenderPeriod.endDate.year'] = pd.to_datetime(df_dummizado['tender.tenderPeriod.startDate'], format='%Y-%m-%dT%H:%M:%S-04:00').dt.year\n",
    "df_dummizado['tender.tenderPeriod.endDate.yearmonth'] = pd.to_datetime(df_dummizado['tender.tenderPeriod.startDate'], format='%Y-%m-%dT%H:%M:%S-04:00').dt.strftime('%m%Y')\n",
    "\n",
    "df_dummizado['tender.awardPeriod.startDate.month'] = pd.to_datetime(df_dummizado['tender.awardPeriod.startDate'], format='%Y-%m-%dT%H:%M:%S-04:00').dt.month\n",
    "df_dummizado['tender.awardPeriod.startDate.year'] = pd.to_datetime(df_dummizado['tender.awardPeriod.startDate'], format='%Y-%m-%dT%H:%M:%S-04:00').dt.year\n",
    "df_dummizado['tender.awardPeriod.startDate.yearmonth'] = pd.to_datetime(df_dummizado['tender.awardPeriod.startDate'], format='%Y-%m-%dT%H:%M:%S-04:00').dt.strftime('%m%Y')\n",
    "\n",
    "df_dummizado['tender.enquiryPeriod.endDate.month'] = pd.to_datetime(df_dummizado['tender.enquiryPeriod.endDate'], format='%Y-%m-%dT%H:%M:%S-04:00').dt.month\n",
    "df_dummizado['tender.enquiryPeriod.endDate.year'] = pd.to_datetime(df_dummizado['tender.enquiryPeriod.endDate'], format='%Y-%m-%dT%H:%M:%S-04:00').dt.year\n",
    "df_dummizado['tender.enquiryPeriod.endDate.yearmonth'] = pd.to_datetime(df_dummizado['tender.enquiryPeriod.endDate'], format='%Y-%m-%dT%H:%M:%S-04:00').dt.strftime('%m%Y')\n",
    "\n",
    "df_dummizado['tender.enquiryPeriod.startDate.month'] = pd.to_datetime(df_dummizado['tender.enquiryPeriod.startDate'], format='%Y-%m-%dT%H:%M:%S-04:00').dt.month\n",
    "df_dummizado['tender.enquiryPeriod.startDate.year'] = pd.to_datetime(df_dummizado['tender.enquiryPeriod.startDate'], format='%Y-%m-%dT%H:%M:%S-04:00').dt.year\n",
    "df_dummizado['tender.enquiryPeriod.startDate.yearmonth'] = pd.to_datetime(df_dummizado['tender.enquiryPeriod.startDate'], format='%Y-%m-%dT%H:%M:%S-04:00').dt.strftime('%m%Y')\n",
    "\n",
    "df_dummizado['date.month'] = pd.to_datetime(df_dummizado['date'], format='%Y-%m-%dT%H:%M:%S-04:00').dt.month\n",
    "df_dummizado['date.year'] = pd.to_datetime(df_dummizado['date'], format='%Y-%m-%dT%H:%M:%S-04:00').dt.year\n",
    "df_dummizado['date.yearmonth'] = pd.to_datetime(df_dummizado['date'], format='%Y-%m-%dT%H:%M:%S-04:00').dt.strftime('%m%Y')\n",
    "\n",
    "df_dummizado['planning.estimatedDate.month'] = pd.to_datetime(df_dummizado['planning.estimatedDate'], format='%Y-%m-%dT%H:%M:%S-04:00').dt.month\n",
    "df_dummizado['planning.estimatedDate.year'] = pd.to_datetime(df_dummizado['planning.estimatedDate'], format='%Y-%m-%dT%H:%M:%S-04:00').dt.year\n",
    "df_dummizado['planning.estimatedDate.yearmonth'] = pd.to_datetime(df_dummizado['planning.estimatedDate'], format='%Y-%m-%dT%H:%M:%S-04:00').dt.strftime('%m%Y')\n",
    "\n",
    "df_dummizado['tender.contractPeriod.maxExtentDate.month'] = pd.to_datetime(df_dummizado['tender.contractPeriod.maxExtentDate'], format='%Y-%m-%dT%H:%M:%S-04:00').dt.month\n",
    "df_dummizado['tender.contractPeriod.maxExtentDate.year'] = pd.to_datetime(df_dummizado['tender.contractPeriod.maxExtentDate'], format='%Y-%m-%dT%H:%M:%S-04:00').dt.year\n",
    "df_dummizado['tender.contractPeriod.maxExtentDate.yearmonth'] = pd.to_datetime(df_dummizado['tender.contractPeriod.maxExtentDate'], format='%Y-%m-%dT%H:%M:%S-04:00').dt.strftime('%m%Y')\n",
    "\n",
    "df_dummizado['tender.procurementIntention.startDate.month'] = pd.to_datetime(df_dummizado['tender.procurementIntention.startDate'], format='%Y-%m-%dT%H:%M:%S-04:00').dt.month\n",
    "df_dummizado['tender.procurementIntention.startDate.year'] = pd.to_datetime(df_dummizado['tender.procurementIntention.startDate'], format='%Y-%m-%dT%H:%M:%S-04:00').dt.year\n",
    "df_dummizado['tender.procurementIntention.startDate.yearmonth'] = pd.to_datetime(df_dummizado['tender.procurementIntention.startDate'], format='%Y-%m-%dT%H:%M:%S-04:00').dt.strftime('%m%Y')\n",
    "\n",
    "df_dummizado['tender.procurementIntention.publishedDate.month'] = pd.to_datetime(df_dummizado['tender.procurementIntention.publishedDate'], format='%Y-%m-%dT%H:%M:%S-04:00').dt.month\n",
    "df_dummizado['tender.procurementIntention.publishedDate.year'] = pd.to_datetime(df_dummizado['tender.procurementIntention.publishedDate'], format='%Y-%m-%dT%H:%M:%S-04:00').dt.year\n",
    "df_dummizado['tender.procurementIntention.publishedDate.yearmonth'] = pd.to_datetime(df_dummizado['tender.procurementIntention.publishedDate'], format='%Y-%m-%dT%H:%M:%S-04:00').dt.strftime('%m%Y')\n",
    "\n",
    "df_dummizado['tender.contractPeriod.startDate.month'] = pd.to_datetime(df_dummizado['tender.contractPeriod.startDate'], format='%Y-%m-%dT%H:%M:%S-04:00').dt.month\n",
    "df_dummizado['tender.contractPeriod.startDate.year'] = pd.to_datetime(df_dummizado['tender.contractPeriod.startDate'], format='%Y-%m-%dT%H:%M:%S-04:00').dt.year\n",
    "df_dummizado['tender.contractPeriod.startDate.yearmonth'] = pd.to_datetime(df_dummizado['tender.contractPeriod.startDate'], format='%Y-%m-%dT%H:%M:%S-04:00').dt.strftime('%m%Y')\n",
    "\n",
    "df_dummizado['tender.contractPeriod.endDate.month'] = pd.to_datetime(df_dummizado['tender.contractPeriod.endDate'], format='%Y-%m-%dT%H:%M:%S-04:00').dt.month\n",
    "df_dummizado['tender.contractPeriod.endDate.year'] = pd.to_datetime(df_dummizado['tender.contractPeriod.endDate'], format='%Y-%m-%dT%H:%M:%S-04:00').dt.year\n",
    "df_dummizado['tender.contractPeriod.endDate.yearmonth'] = pd.to_datetime(df_dummizado['tender.contractPeriod.endDate'], format='%Y-%m-%dT%H:%M:%S-04:00').dt.strftime('%m%Y')\n",
    "\n",
    "# Dropeando data interesante (Despues ver como procesar, son datos practicamente unicos)\n",
    "df_dummizado = df_dummizado.drop(['tender.title', 'tender.submissionMethodDetails', 'tender.eligibilityCriteria', 'tender.mainProcurementCategoryDetails', 'planning.budget.description', ], axis=1)\n",
    "\n",
    "# Dropeando por cardinalidad alta? Datos no 100% unicos por cada row\n",
    "df_dummizado = df_dummizado.drop(['tender.procurementMethodDetails', 'tender.procuringEntity.id', 'tender.procuringEntity.name', 'buyer.id', 'buyer.name', \n",
    "\t'tender.procurementIntention.procuringEntity.id', 'tender.procurementIntention.procuringEntity.name', 'secondStage.id',\n",
    "], axis=1)\n",
    "\n",
    "# Otras conversiones\n",
    "df_dummizado['tender.techniques.hasElectronicAuction'] = np.where(df_dummizado['tender.techniques.hasElectronicAuction'] == True, 1, 0)\n"
   ]
  },
  {
   "cell_type": "code",
   "execution_count": 60,
   "metadata": {},
   "outputs": [],
   "source": [
    "\n",
    "#Dropeando dates\n",
    "df_dummizado = df_dummizado.drop(['tender.bidOpening.date',\n",
    "\t'tender.datePublished', 'tender.tenderPeriod.startDate', 'tender.tenderPeriod.endDate', 'tender.awardPeriod.startDate','tender.enquiryPeriod.endDate','tender.enquiryPeriod.startDate',\n",
    "    'date', 'planning.estimatedDate', 'tender.contractPeriod.maxExtentDate','tender.procurementIntention.startDate', 'tender.procurementIntention.publishedDate',\n",
    "\t'tender.contractPeriod.startDate', 'tender.contractPeriod.endDate'\n",
    "], axis= 1)"
   ]
  },
  {
   "cell_type": "code",
   "execution_count": null,
   "metadata": {},
   "outputs": [],
   "source": [
    "# GROUP BY EXAMPLE\n",
    "gkk = df_completo.groupby(['secondStage.id'], dropna=False)\n",
    "gkk.count()"
   ]
  },
  {
   "cell_type": "code",
   "execution_count": 23,
   "metadata": {},
   "outputs": [],
   "source": [
    "df_complaints = df_dummizado[(df_dummizado['has_complaint'] == True)]\n",
    "df_no_complaints = df_dummizado[(df_dummizado['has_complaint'] == False)]"
   ]
  },
  {
   "cell_type": "code",
   "execution_count": 63,
   "metadata": {},
   "outputs": [
    {
     "data": {
      "text/plain": [
       "0.2377085010928333"
      ]
     },
     "execution_count": 63,
     "metadata": {},
     "output_type": "execute_result"
    }
   ],
   "source": [
    "# PERCENTAGE OF COMPLAINTS / NO COMPLAINTS\n",
    "(df_complaints.shape[0] * 2) / df_no_complaints.shape[0]"
   ]
  },
  {
   "cell_type": "code",
   "execution_count": 64,
   "metadata": {},
   "outputs": [],
   "source": [
    "# from imblearn.over_sampling import RandomOverSampler\n",
    "from imblearn.over_sampling import SMOTE\n",
    "from collections import Counter\n",
    "from imblearn.over_sampling import SMOTE"
   ]
  },
  {
   "cell_type": "code",
   "execution_count": null,
   "metadata": {},
   "outputs": [],
   "source": [
    "\n",
    "X = df_dummizado.drop('has_complaint', axis=1)  # Features (all columns except 'target')\n",
    "y = df_dummizado['has_complaint']  # Target variable\n",
    "print('Original dataset shape %s' % Counter(y))\n",
    "# Original dataset shape Counter({1: 900, 0: 100})\n",
    "smote = SMOTE(random_state=42, sampling_strategy= 0.3)\n",
    "X_resampled, y_resampled = smote.fit_resample(X, y)\n",
    "print('Resampled dataset shape %s' % Counter(y_resampled))\n"
   ]
  }
 ],
 "metadata": {
  "kernelspec": {
   "display_name": "Python 3",
   "language": "python",
   "name": "python3"
  },
  "language_info": {
   "codemirror_mode": {
    "name": "ipython",
    "version": 3
   },
   "file_extension": ".py",
   "mimetype": "text/x-python",
   "name": "python",
   "nbconvert_exporter": "python",
   "pygments_lexer": "ipython3",
   "version": "3.10.6"
  },
  "orig_nbformat": 4
 },
 "nbformat": 4,
 "nbformat_minor": 2
}
