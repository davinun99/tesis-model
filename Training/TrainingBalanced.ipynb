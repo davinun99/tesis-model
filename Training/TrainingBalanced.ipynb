{
 "cells": [
  {
   "cell_type": "code",
   "execution_count": 42,
   "metadata": {},
   "outputs": [],
   "source": [
    "PARAMETERS = {\n",
    "\t'BALANCED_DATASET_CSV_PATH': '../balanced_output_35.csv',\n",
    "\t'TARGET_COLUMN': 'Protestas',\n",
    "\t'USE_RANDOM_UNDERSAMPLING': True,\n",
    "\t'NO_COMPLAINTS_%': 0.65,\n",
    "\t'SAVE_LEADER_MODEL': True,\n",
    "\t'SAVED_MODEL_PATH': 'train2022/smoteModelv1',\n",
    "\t'TEST_DATA_CSV': '../test_2023.csv',\n",
    "\t\n",
    "}\n",
    "import h2o\n",
    "from h2o.automl import H2OAutoML\n",
    "aml = H2OAutoML(max_models=5, seed=23, stopping_metric=\"AUCPR\", sort_metric=\"AUCPR\")"
   ]
  },
  {
   "cell_type": "code",
   "execution_count": 43,
   "metadata": {},
   "outputs": [
    {
     "name": "stdout",
     "output_type": "stream",
     "text": [
      "Checking whether there is an H2O instance running at http://localhost:54321. connected.\n"
     ]
    },
    {
     "data": {
      "text/html": [
       "\n",
       "<style>\n",
       "\n",
       "#h2o-table-7.h2o-container {\n",
       "  overflow-x: auto;\n",
       "}\n",
       "#h2o-table-7 .h2o-table {\n",
       "  /* width: 100%; */\n",
       "  margin-top: 1em;\n",
       "  margin-bottom: 1em;\n",
       "}\n",
       "#h2o-table-7 .h2o-table caption {\n",
       "  white-space: nowrap;\n",
       "  caption-side: top;\n",
       "  text-align: left;\n",
       "  /* margin-left: 1em; */\n",
       "  margin: 0;\n",
       "  font-size: larger;\n",
       "}\n",
       "#h2o-table-7 .h2o-table thead {\n",
       "  white-space: nowrap; \n",
       "  position: sticky;\n",
       "  top: 0;\n",
       "  box-shadow: 0 -1px inset;\n",
       "}\n",
       "#h2o-table-7 .h2o-table tbody {\n",
       "  overflow: auto;\n",
       "}\n",
       "#h2o-table-7 .h2o-table th,\n",
       "#h2o-table-7 .h2o-table td {\n",
       "  text-align: right;\n",
       "  /* border: 1px solid; */\n",
       "}\n",
       "#h2o-table-7 .h2o-table tr:nth-child(even) {\n",
       "  /* background: #F5F5F5 */\n",
       "}\n",
       "\n",
       "</style>      \n",
       "<div id=\"h2o-table-7\" class=\"h2o-container\">\n",
       "  <table class=\"h2o-table\">\n",
       "    <caption></caption>\n",
       "    <thead></thead>\n",
       "    <tbody><tr><td>H2O_cluster_uptime:</td>\n",
       "<td>17 hours 0 mins</td></tr>\n",
       "<tr><td>H2O_cluster_timezone:</td>\n",
       "<td>America/Asuncion</td></tr>\n",
       "<tr><td>H2O_data_parsing_timezone:</td>\n",
       "<td>UTC</td></tr>\n",
       "<tr><td>H2O_cluster_version:</td>\n",
       "<td>3.42.0.1</td></tr>\n",
       "<tr><td>H2O_cluster_version_age:</td>\n",
       "<td>1 month and 19 days</td></tr>\n",
       "<tr><td>H2O_cluster_name:</td>\n",
       "<td>H2O_from_python_davidnunez_w6en3c</td></tr>\n",
       "<tr><td>H2O_cluster_total_nodes:</td>\n",
       "<td>1</td></tr>\n",
       "<tr><td>H2O_cluster_free_memory:</td>\n",
       "<td>3.799 Gb</td></tr>\n",
       "<tr><td>H2O_cluster_total_cores:</td>\n",
       "<td>8</td></tr>\n",
       "<tr><td>H2O_cluster_allowed_cores:</td>\n",
       "<td>8</td></tr>\n",
       "<tr><td>H2O_cluster_status:</td>\n",
       "<td>locked, healthy</td></tr>\n",
       "<tr><td>H2O_connection_url:</td>\n",
       "<td>http://localhost:54321</td></tr>\n",
       "<tr><td>H2O_connection_proxy:</td>\n",
       "<td>{\"http\": null, \"https\": null}</td></tr>\n",
       "<tr><td>H2O_internal_security:</td>\n",
       "<td>False</td></tr>\n",
       "<tr><td>Python_version:</td>\n",
       "<td>3.11.4 final</td></tr></tbody>\n",
       "  </table>\n",
       "</div>\n"
      ],
      "text/plain": [
       "--------------------------  ---------------------------------\n",
       "H2O_cluster_uptime:         17 hours 0 mins\n",
       "H2O_cluster_timezone:       America/Asuncion\n",
       "H2O_data_parsing_timezone:  UTC\n",
       "H2O_cluster_version:        3.42.0.1\n",
       "H2O_cluster_version_age:    1 month and 19 days\n",
       "H2O_cluster_name:           H2O_from_python_davidnunez_w6en3c\n",
       "H2O_cluster_total_nodes:    1\n",
       "H2O_cluster_free_memory:    3.799 Gb\n",
       "H2O_cluster_total_cores:    8\n",
       "H2O_cluster_allowed_cores:  8\n",
       "H2O_cluster_status:         locked, healthy\n",
       "H2O_connection_url:         http://localhost:54321\n",
       "H2O_connection_proxy:       {\"http\": null, \"https\": null}\n",
       "H2O_internal_security:      False\n",
       "Python_version:             3.11.4 final\n",
       "--------------------------  ---------------------------------"
      ]
     },
     "metadata": {},
     "output_type": "display_data"
    }
   ],
   "source": [
    "\n",
    "# Start the H2O cluster (locally)\n",
    "h2o.init()"
   ]
  },
  {
   "cell_type": "code",
   "execution_count": 44,
   "metadata": {},
   "outputs": [],
   "source": [
    "import pandas as pd\n",
    "y = PARAMETERS['TARGET_COLUMN']\n",
    "balanced_df = pd.read_csv(PARAMETERS['BALANCED_DATASET_CSV_PATH'], index_col=False)\n",
    "# https://docs.h2o.ai/h2o/latest-stable/h2o-docs/automl.html\n",
    "# from sklearn.model_selection import train_test_split\n",
    "# train_data, test_data = train_test_split(balanced_df, test_size=0.2, random_state=42)"
   ]
  },
  {
   "cell_type": "markdown",
   "metadata": {},
   "source": [
    "## Random undersampling"
   ]
  },
  {
   "cell_type": "code",
   "execution_count": 45,
   "metadata": {},
   "outputs": [
    {
     "data": {
      "text/plain": [
       "0.2592568871972698"
      ]
     },
     "execution_count": 45,
     "metadata": {},
     "output_type": "execute_result"
    }
   ],
   "source": [
    "balanced_df_true = balanced_df[balanced_df[y] == True]\n",
    "balanced_df_false = balanced_df[balanced_df[y] == False]\n",
    "n_cmp = len(balanced_df_true)\n",
    "n_no_cmp = len(balanced_df_false)\n",
    "n_cmp / (n_cmp + n_no_cmp)"
   ]
  },
  {
   "cell_type": "code",
   "execution_count": 46,
   "metadata": {},
   "outputs": [],
   "source": [
    "# Random undersampling\n",
    "if PARAMETERS['USE_RANDOM_UNDERSAMPLING']:\n",
    "\tbalanced_df_true = balanced_df[balanced_df[y] == True]\n",
    "\tbalanced_df_false = balanced_df[balanced_df[y] == False]\n",
    "\tn_cmp = len(balanced_df_true)\n",
    "\tn_no_cmp = len(balanced_df_false)\n",
    "\ttotal = n_cmp + n_no_cmp\n",
    "\tsample_false = balanced_df_false.sample(int(total*PARAMETERS['NO_COMPLAINTS_%'])) #Sample 70% no complaints 30 % complaints\n",
    "\t#TODO: Analisis de sensibilidad de este parametro \n",
    "\tbalanced_df = pd.concat([balanced_df_true, sample_false])"
   ]
  },
  {
   "cell_type": "markdown",
   "metadata": {},
   "source": [
    "## Training"
   ]
  },
  {
   "cell_type": "code",
   "execution_count": 47,
   "metadata": {},
   "outputs": [
    {
     "name": "stdout",
     "output_type": "stream",
     "text": [
      "Parse progress: |████████████████████████████████████████████████████████████████| (done) 100%\n"
     ]
    }
   ],
   "source": [
    "train = h2o.H2OFrame.from_python(balanced_df)\n",
    "# Identify predictors and response\n",
    "x = train.columns\n",
    "x.remove(y)\n",
    "# For binary classification, response should be a factor\n",
    "train[y] = train[y].asfactor()"
   ]
  },
  {
   "cell_type": "code",
   "execution_count": 48,
   "metadata": {},
   "outputs": [
    {
     "name": "stdout",
     "output_type": "stream",
     "text": [
      "AutoML progress: |\n",
      "08:15:36.142: AutoML: XGBoost is not available; skipping it.\n",
      "08:15:36.147: _train param, Dropping bad and constant columns: [tender.procurementMethod_open, parties.details.legalEntityTypeDetail buyer_15, parties.details.legalEntityTypeDetail buyer_14, parties.details.legalEntityTypeDetail buyer_13, parties.details.legalEntityTypeDetail buyer_12, parties.details.legalEntityTypeDetail buyer_11, parties.details.legalEntityTypeDetail buyer_10, parties.details.EntityType payee_1, parties.details.EntityType payee_2, parties.details.EntityType payee_3, parties.details.EntityType payee_4, planning.items.classification.id.n1_1_57, planning.items.classification.id.n1_1_58, Monto faltante, tender.status_active, tender.statusDetails_En Convocatoria (Abierta), parties.details.EntityType candidate_2, parties.details.EntityType candidate_1, parties.details.EntityType candidate_4, parties.details.legalEntityTypeDetail candidate_1, awards.statusDetails_2, parties.details.EntityType candidate_3, parties.details.legalEntityTypeDetail candidate_2, awards.statusDetails_3, parties.details.legalEntityTypeDetail procuringEntity_2, parties.details.legalEntityTypeDetail buyer_19, awards.statusDetails_4, parties.details.legalEntityTypeDetail procuringEntity_3, parties.details.legalEntityTypeDetail buyer_18, parties.details.legalEntityTypeDetail buyer_17, awards.statusDetails_6, parties.details.legalEntityTypeDetail procuringEntity_1, parties.details.legalEntityTypeDetail buyer_16, parties.details.legalEntityTypeDetail candidate_7, parties.details.legalEntityTypeDetail procuringEntity_6, awards.status_4, parties.details.legalEntityTypeDetail candidate_8, parties.details.legalEntityTypeDetail procuringEntity_7, parties.details.legalEntityTypeDetail candidate_9, parties.details.legalEntityTypeDetail procuringEntity_4, parties.details.legalEntityTypeDetail procuringEntity_10, parties.details.legalEntityTypeDetail procuringEntity_5, parties.details.legalEntityTypeDetail candidate_3, parties.details.legalEntityTypeDetail procuringEntity_12, parties.details.legalEntityTypeDetail candidate_4, parties.details.legalEntityTypeDetail procuringEntity_11, parties.details.legalEntityTypeDetail candidate_5, parties.details.legalEntityTypeDetail procuringEntity_8, parties.details.legalEntityTypeDetail procuringEntity_14, parties.details.legalEntityTypeDetail candidate_6, parties.details.legalEntityTypeDetail procuringEntity_9, parties.details.legalEntityTypeDetail procuringEntity_13, parties.details.legalEntityTypeDetail notifiedSupplier_24, awards.statusDetails_7, parties.details.legalEntityTypeDetail buyer_25, awards.statusDetails_9, parties.details.legalEntityTypeDetail buyer_24, parties.details.legalEntityTypeDetail buyer_23, parties.details.legalEntityTypeDetail buyer_22, parties.details.legalEntityTypeDetail buyer_21, parties.details.legalEntityTypeDetail buyer_20, parties.details.legalEntityTypeDetail procuringEntity_21, parties.details.legalEntityTypeDetail procuringEntity_20, parties.details.legalEntityTypeDetail procuringEntity_23, parties.details.legalEntityTypeDetail procuringEntity_22, parties.details.legalEntityTypeDetail procuringEntity_25, parties.details.legalEntityTypeDetail procuringEntity_24, parties.details.legalEntityTypeDetail procuringEntity_16, parties.details.legalEntityTypeDetail procuringEntity_15, parties.details.legalEntityTypeDetail procuringEntity_18, parties.details.legalEntityTypeDetail procuringEntity_17, parties.details.legalEntityTypeDetail procuringEntity_19, parties.roles candidate q2, parties.roles candidate q1, parties.roles candidate q4, parties.roles candidate q3, tender.procurementMethodDetails q2, parties.details.legalEntityTypeDetail candidate_13, parties.details.legalEntityTypeDetail candidate_12, parties.details.legalEntityTypeDetail candidate_15, parties.details.legalEntityTypeDetail candidate_14, secondStage.id q4, secondStage.id q3, secondStage.id q2, parties.details.legalEntityTypeDetail candidate_11, secondStage.id q1, parties.details.legalEntityTypeDetail candidate_10, parties.details.legalEntityTypeDetail payee_21, parties.details.legalEntityTypeDetail buyer_1, parties.details.legalEntityTypeDetail payee_22, parties.details.legalEntityTypeDetail buyer_2, parties.details.legalEntityTypeDetail candidate_17, parties.details.legalEntityTypeDetail candidate_16, parties.details.legalEntityTypeDetail candidate_19, parties.details.legalEntityTypeDetail candidate_18, parties.details.legalEntityTypeDetail buyer_7, parties.details.legalEntityTypeDetail buyer_8, parties.details.legalEntityTypeDetail buyer_9, parties.details.legalEntityTypeDetail payee_25, parties.details.legalEntityTypeDetail buyer_3, parties.details.legalEntityTypeDetail payee_24, parties.details.legalEntityTypeDetail buyer_4, parties.details.legalEntityTypeDetail buyer_5, parties.details.legalEntityTypeDetail buyer_6, parties.details.legalEntityTypeDetail payee_18, parties.details.legalEntityTypeDetail payer_3, parties.details.legalEntityTypeDetail payer_23, parties.details.legalEntityTypeDetail payer_4, parties.details.legalEntityTypeDetail payer_24, tender.eligibilityCriteria q3, parties.details.legalEntityTypeDetail payer_1, parties.details.legalEntityTypeDetail payer_21, parties.details.legalEntityTypeDetail payer_2, parties.details.legalEntityTypeDetail payer_22, parties.details.legalEntityTypeDetail payer_7, parties.details.legalEntityTypeDetail payer_8, parties.details.legalEntityTypeDetail payer_5, parties.details.legalEntityTypeDetail payer_25, awards.documents.DocumentTypeDetails_19, parties.details.legalEntityTypeDetail payer_6, awards.documents.DocumentTypeDetails_17, parties.details.legalEntityTypeDetail tenderer_18, awards.documents.DocumentTypeDetails_14, parties.details.legalEntityTypeDetail payer_20, parties.details.legalEntityTypeDetail enquirer_18, awards.documents.DocumentTypeDetails_20, parties.details.legalEntityTypeDetail enquirer_15, parties.details.legalEntityTypeDetail payer_18, parties.details.legalEntityTypeDetail payer_19, tender.eligibilityCriteria q2, contracts.status_4, parties.details.legalEntityTypeDetail payer_12, parties.details.legalEntityTypeDetail payer_13, parties.details.legalEntityTypeDetail payer_10, parties.details.legalEntityTypeDetail payer_11, tender.items.classification.id.n1_1_57, parties.details.legalEntityTypeDetail payer_16, parties.details.legalEntityTypeDetail payer_17, parties.details.legalEntityTypeDetail payer_14, parties.details.legalEntityTypeDetail payer_15, tender.criteria.id, parties.details.legalEntityTypeDetail candidate_24, parties.details.legalEntityTypeDetail enquirer_21, parties.details.legalEntityTypeDetail candidate_23, parties.details.legalEntityTypeDetail enquirer_22, parties.details.legalEntityTypeDetail enquirer_23, parties.details.legalEntityTypeDetail candidate_25, parties.details.legalEntityTypeDetail enquirer_24, parties.details.legalEntityTypeDetail candidate_20, parties.details.legalEntityTypeDetail candidate_22, parties.details.legalEntityTypeDetail candidate_21, parties.details.legalEntityTypeDetail enquirer_20, parties.details.legalEntityTypeDetail enquirer_25, parties.details.legalEntityTypeDetail payer_9, parties.details.EntityType tenderer_1, parties.details.EntityType tenderer_2, parties.details.EntityType tenderer_3, parties.details.EntityType tenderer_4, parties.details.legalEntityTypeDetail tenderer_24, parties.details.legalEntityTypeDetail tenderer_25, contracts.statusDetails_3, parties.details.EntityType notifiedSupplier_1, contracts.statusDetails_2, parties.details.EntityType notifiedSupplier_3, parties.details.EntityType notifiedSupplier_2, parties.details.EntityType notifiedSupplier_4, contracts.statusDetails_9, contracts.statusDetails_4, contracts.statusDetails_7, tender.coveredBy_8, contracts.statusDetails_6, contracts.amendments.amendsAmount_usd, contracts.amendments.amendsAmount_pyg, tender.procurementIntention.procuringEntity.id q1, tender.procurementIntention.procuringEntity.name q1, parties.details.EntityType enquirer_4, parties.details.EntityType enquirer_3, tender.procurementIntention.procuringEntity.id q3, tender.procurementIntention.procuringEntity.name q3, parties.details.EntityType enquirer_2, parties.details.EntityType enquirer_1, parties.details.EntityType supplier_1, parties.details.EntityType supplier_3, tender.ProcurementIntentionCategory q3, parties.details.EntityType supplier_2, tender.ProcurementIntentionCategory q1, parties.details.EntityType supplier_4, parties.details.legalEntityTypeDetail supplier_22, parties.details.legalEntityTypeDetail supplier_25, parties.details.legalEntityTypeDetail supplier_24, Criterio de evaluacion faltante, parties.details.legalEntityTypeDetail supplier_21, contracts.documents.DocumentTypeDetails_12, awards.statusDetails_11, awards.statusDetails_10, parties.details.legalEntityTypeDetail supplier_18]\n",
      "\n",
      "████████████████████\n",
      "08:17:34.589: _train param, Dropping bad and constant columns: [tender.procurementMethod_open, parties.details.legalEntityTypeDetail buyer_15, parties.details.legalEntityTypeDetail buyer_14, parties.details.legalEntityTypeDetail buyer_13, parties.details.legalEntityTypeDetail buyer_12, parties.details.legalEntityTypeDetail buyer_11, parties.details.legalEntityTypeDetail buyer_10, parties.details.EntityType payee_1, parties.details.EntityType payee_2, parties.details.EntityType payee_3, parties.details.EntityType payee_4, planning.items.classification.id.n1_1_57, planning.items.classification.id.n1_1_58, Monto faltante, tender.status_active, tender.statusDetails_En Convocatoria (Abierta), parties.details.EntityType candidate_2, parties.details.EntityType candidate_1, parties.details.EntityType candidate_4, parties.details.legalEntityTypeDetail candidate_1, awards.statusDetails_2, parties.details.EntityType candidate_3, parties.details.legalEntityTypeDetail candidate_2, awards.statusDetails_3, parties.details.legalEntityTypeDetail procuringEntity_2, parties.details.legalEntityTypeDetail buyer_19, awards.statusDetails_4, parties.details.legalEntityTypeDetail procuringEntity_3, parties.details.legalEntityTypeDetail buyer_18, parties.details.legalEntityTypeDetail buyer_17, awards.statusDetails_6, parties.details.legalEntityTypeDetail procuringEntity_1, parties.details.legalEntityTypeDetail buyer_16, parties.details.legalEntityTypeDetail candidate_7, parties.details.legalEntityTypeDetail procuringEntity_6, awards.status_4, parties.details.legalEntityTypeDetail candidate_8, parties.details.legalEntityTypeDetail procuringEntity_7, parties.details.legalEntityTypeDetail candidate_9, parties.details.legalEntityTypeDetail procuringEntity_4, parties.details.legalEntityTypeDetail procuringEntity_10, parties.details.legalEntityTypeDetail procuringEntity_5, parties.details.legalEntityTypeDetail candidate_3, parties.details.legalEntityTypeDetail procuringEntity_12, parties.details.legalEntityTypeDetail candidate_4, parties.details.legalEntityTypeDetail procuringEntity_11, parties.details.legalEntityTypeDetail candidate_5, parties.details.legalEntityTypeDetail procuringEntity_8, parties.details.legalEntityTypeDetail procuringEntity_14, parties.details.legalEntityTypeDetail candidate_6, parties.details.legalEntityTypeDetail procuringEntity_9, parties.details.legalEntityTypeDetail procuringEntity_13, parties.details.legalEntityTypeDetail notifiedSupplier_24, awards.statusDetails_7, parties.details.legalEntityTypeDetail buyer_25, awards.statusDetails_9, parties.details.legalEntityTypeDetail buyer_24, parties.details.legalEntityTypeDetail buyer_23, parties.details.legalEntityTypeDetail buyer_22, parties.details.legalEntityTypeDetail buyer_21, parties.details.legalEntityTypeDetail buyer_20, parties.details.legalEntityTypeDetail procuringEntity_21, parties.details.legalEntityTypeDetail procuringEntity_20, parties.details.legalEntityTypeDetail procuringEntity_23, parties.details.legalEntityTypeDetail procuringEntity_22, parties.details.legalEntityTypeDetail procuringEntity_25, parties.details.legalEntityTypeDetail procuringEntity_24, parties.details.legalEntityTypeDetail procuringEntity_16, parties.details.legalEntityTypeDetail procuringEntity_15, parties.details.legalEntityTypeDetail procuringEntity_18, parties.details.legalEntityTypeDetail procuringEntity_17, parties.details.legalEntityTypeDetail procuringEntity_19, parties.roles candidate q2, parties.roles candidate q1, parties.roles candidate q4, parties.roles candidate q3, tender.procurementMethodDetails q2, parties.details.legalEntityTypeDetail candidate_13, parties.details.legalEntityTypeDetail candidate_12, parties.details.legalEntityTypeDetail candidate_15, parties.details.legalEntityTypeDetail candidate_14, secondStage.id q4, secondStage.id q3, secondStage.id q2, parties.details.legalEntityTypeDetail candidate_11, secondStage.id q1, parties.details.legalEntityTypeDetail candidate_10, parties.details.legalEntityTypeDetail payee_21, parties.details.legalEntityTypeDetail buyer_1, parties.details.legalEntityTypeDetail payee_22, parties.details.legalEntityTypeDetail buyer_2, parties.details.legalEntityTypeDetail candidate_17, parties.details.legalEntityTypeDetail candidate_16, parties.details.legalEntityTypeDetail candidate_19, parties.details.legalEntityTypeDetail candidate_18, parties.details.legalEntityTypeDetail buyer_7, parties.details.legalEntityTypeDetail buyer_8, parties.details.legalEntityTypeDetail buyer_9, parties.details.legalEntityTypeDetail payee_25, parties.details.legalEntityTypeDetail buyer_3, parties.details.legalEntityTypeDetail payee_24, parties.details.legalEntityTypeDetail buyer_4, parties.details.legalEntityTypeDetail buyer_5, parties.details.legalEntityTypeDetail buyer_6, parties.details.legalEntityTypeDetail payee_18, parties.details.legalEntityTypeDetail payer_3, parties.details.legalEntityTypeDetail payer_23, parties.details.legalEntityTypeDetail payer_4, parties.details.legalEntityTypeDetail payer_24, tender.eligibilityCriteria q3, parties.details.legalEntityTypeDetail payer_1, parties.details.legalEntityTypeDetail payer_21, parties.details.legalEntityTypeDetail payer_2, parties.details.legalEntityTypeDetail payer_22, parties.details.legalEntityTypeDetail payer_7, parties.details.legalEntityTypeDetail payer_8, parties.details.legalEntityTypeDetail payer_5, parties.details.legalEntityTypeDetail payer_25, awards.documents.DocumentTypeDetails_19, parties.details.legalEntityTypeDetail payer_6, awards.documents.DocumentTypeDetails_17, parties.details.legalEntityTypeDetail tenderer_18, awards.documents.DocumentTypeDetails_14, parties.details.legalEntityTypeDetail payer_20, parties.details.legalEntityTypeDetail enquirer_18, awards.documents.DocumentTypeDetails_20, parties.details.legalEntityTypeDetail enquirer_15, parties.details.legalEntityTypeDetail payer_18, parties.details.legalEntityTypeDetail payer_19, tender.eligibilityCriteria q2, contracts.status_4, parties.details.legalEntityTypeDetail payer_12, parties.details.legalEntityTypeDetail payer_13, parties.details.legalEntityTypeDetail payer_10, parties.details.legalEntityTypeDetail payer_11, tender.items.classification.id.n1_1_57, parties.details.legalEntityTypeDetail payer_16, parties.details.legalEntityTypeDetail payer_17, parties.details.legalEntityTypeDetail payer_14, parties.details.legalEntityTypeDetail payer_15, tender.criteria.id, parties.details.legalEntityTypeDetail candidate_24, parties.details.legalEntityTypeDetail enquirer_21, parties.details.legalEntityTypeDetail candidate_23, parties.details.legalEntityTypeDetail enquirer_22, parties.details.legalEntityTypeDetail enquirer_23, parties.details.legalEntityTypeDetail candidate_25, parties.details.legalEntityTypeDetail enquirer_24, parties.details.legalEntityTypeDetail candidate_20, parties.details.legalEntityTypeDetail candidate_22, parties.details.legalEntityTypeDetail candidate_21, parties.details.legalEntityTypeDetail enquirer_20, parties.details.legalEntityTypeDetail enquirer_25, parties.details.legalEntityTypeDetail payer_9, parties.details.EntityType tenderer_1, parties.details.EntityType tenderer_2, parties.details.EntityType tenderer_3, parties.details.EntityType tenderer_4, parties.details.legalEntityTypeDetail tenderer_24, parties.details.legalEntityTypeDetail tenderer_25, contracts.statusDetails_3, parties.details.EntityType notifiedSupplier_1, contracts.statusDetails_2, parties.details.EntityType notifiedSupplier_3, parties.details.EntityType notifiedSupplier_2, parties.details.EntityType notifiedSupplier_4, contracts.statusDetails_9, contracts.statusDetails_4, contracts.statusDetails_7, tender.coveredBy_8, contracts.statusDetails_6, contracts.amendments.amendsAmount_usd, contracts.amendments.amendsAmount_pyg, tender.procurementIntention.procuringEntity.id q1, tender.procurementIntention.procuringEntity.name q1, parties.details.EntityType enquirer_4, parties.details.EntityType enquirer_3, tender.procurementIntention.procuringEntity.id q3, tender.procurementIntention.procuringEntity.name q3, parties.details.EntityType enquirer_2, parties.details.EntityType enquirer_1, parties.details.EntityType supplier_1, parties.details.EntityType supplier_3, tender.ProcurementIntentionCategory q3, parties.details.EntityType supplier_2, tender.ProcurementIntentionCategory q1, parties.details.EntityType supplier_4, parties.details.legalEntityTypeDetail supplier_22, parties.details.legalEntityTypeDetail supplier_25, parties.details.legalEntityTypeDetail supplier_24, Criterio de evaluacion faltante, parties.details.legalEntityTypeDetail supplier_21, contracts.documents.DocumentTypeDetails_12, awards.statusDetails_11, awards.statusDetails_10, parties.details.legalEntityTypeDetail supplier_18]\n",
      "\n",
      "██████████████\n",
      "08:21:22.170: _train param, Dropping bad and constant columns: [tender.procurementMethod_open, parties.details.legalEntityTypeDetail buyer_15, parties.details.legalEntityTypeDetail buyer_14, parties.details.legalEntityTypeDetail buyer_13, parties.details.legalEntityTypeDetail buyer_12, parties.details.legalEntityTypeDetail buyer_11, parties.details.legalEntityTypeDetail buyer_10, parties.details.EntityType payee_1, parties.details.EntityType payee_2, parties.details.EntityType payee_3, parties.details.EntityType payee_4, planning.items.classification.id.n1_1_57, planning.items.classification.id.n1_1_58, Monto faltante, tender.status_active, tender.statusDetails_En Convocatoria (Abierta), parties.details.EntityType candidate_2, parties.details.EntityType candidate_1, parties.details.EntityType candidate_4, parties.details.legalEntityTypeDetail candidate_1, awards.statusDetails_2, parties.details.EntityType candidate_3, parties.details.legalEntityTypeDetail candidate_2, awards.statusDetails_3, parties.details.legalEntityTypeDetail procuringEntity_2, parties.details.legalEntityTypeDetail buyer_19, awards.statusDetails_4, parties.details.legalEntityTypeDetail procuringEntity_3, parties.details.legalEntityTypeDetail buyer_18, parties.details.legalEntityTypeDetail buyer_17, awards.statusDetails_6, parties.details.legalEntityTypeDetail procuringEntity_1, parties.details.legalEntityTypeDetail buyer_16, parties.details.legalEntityTypeDetail candidate_7, parties.details.legalEntityTypeDetail procuringEntity_6, awards.status_4, parties.details.legalEntityTypeDetail candidate_8, parties.details.legalEntityTypeDetail procuringEntity_7, parties.details.legalEntityTypeDetail candidate_9, parties.details.legalEntityTypeDetail procuringEntity_4, parties.details.legalEntityTypeDetail procuringEntity_10, parties.details.legalEntityTypeDetail procuringEntity_5, parties.details.legalEntityTypeDetail candidate_3, parties.details.legalEntityTypeDetail procuringEntity_12, parties.details.legalEntityTypeDetail candidate_4, parties.details.legalEntityTypeDetail procuringEntity_11, parties.details.legalEntityTypeDetail candidate_5, parties.details.legalEntityTypeDetail procuringEntity_8, parties.details.legalEntityTypeDetail procuringEntity_14, parties.details.legalEntityTypeDetail candidate_6, parties.details.legalEntityTypeDetail procuringEntity_9, parties.details.legalEntityTypeDetail procuringEntity_13, parties.details.legalEntityTypeDetail notifiedSupplier_24, awards.statusDetails_7, parties.details.legalEntityTypeDetail buyer_25, awards.statusDetails_9, parties.details.legalEntityTypeDetail buyer_24, parties.details.legalEntityTypeDetail buyer_23, parties.details.legalEntityTypeDetail buyer_22, parties.details.legalEntityTypeDetail buyer_21, parties.details.legalEntityTypeDetail buyer_20, parties.details.legalEntityTypeDetail procuringEntity_21, parties.details.legalEntityTypeDetail procuringEntity_20, parties.details.legalEntityTypeDetail procuringEntity_23, parties.details.legalEntityTypeDetail procuringEntity_22, parties.details.legalEntityTypeDetail procuringEntity_25, parties.details.legalEntityTypeDetail procuringEntity_24, parties.details.legalEntityTypeDetail procuringEntity_16, parties.details.legalEntityTypeDetail procuringEntity_15, parties.details.legalEntityTypeDetail procuringEntity_18, parties.details.legalEntityTypeDetail procuringEntity_17, parties.details.legalEntityTypeDetail procuringEntity_19, parties.roles candidate q2, parties.roles candidate q1, parties.roles candidate q4, parties.roles candidate q3, tender.procurementMethodDetails q2, parties.details.legalEntityTypeDetail candidate_13, parties.details.legalEntityTypeDetail candidate_12, parties.details.legalEntityTypeDetail candidate_15, parties.details.legalEntityTypeDetail candidate_14, secondStage.id q4, secondStage.id q3, secondStage.id q2, parties.details.legalEntityTypeDetail candidate_11, secondStage.id q1, parties.details.legalEntityTypeDetail candidate_10, parties.details.legalEntityTypeDetail payee_21, parties.details.legalEntityTypeDetail buyer_1, parties.details.legalEntityTypeDetail payee_22, parties.details.legalEntityTypeDetail buyer_2, parties.details.legalEntityTypeDetail candidate_17, parties.details.legalEntityTypeDetail candidate_16, parties.details.legalEntityTypeDetail candidate_19, parties.details.legalEntityTypeDetail candidate_18, parties.details.legalEntityTypeDetail buyer_7, parties.details.legalEntityTypeDetail buyer_8, parties.details.legalEntityTypeDetail buyer_9, parties.details.legalEntityTypeDetail payee_25, parties.details.legalEntityTypeDetail buyer_3, parties.details.legalEntityTypeDetail payee_24, parties.details.legalEntityTypeDetail buyer_4, parties.details.legalEntityTypeDetail buyer_5, parties.details.legalEntityTypeDetail buyer_6, parties.details.legalEntityTypeDetail payee_18, parties.details.legalEntityTypeDetail payer_3, parties.details.legalEntityTypeDetail payer_23, parties.details.legalEntityTypeDetail payer_4, parties.details.legalEntityTypeDetail payer_24, tender.eligibilityCriteria q3, parties.details.legalEntityTypeDetail payer_1, parties.details.legalEntityTypeDetail payer_21, parties.details.legalEntityTypeDetail payer_2, parties.details.legalEntityTypeDetail payer_22, parties.details.legalEntityTypeDetail payer_7, parties.details.legalEntityTypeDetail payer_8, parties.details.legalEntityTypeDetail payer_5, parties.details.legalEntityTypeDetail payer_25, awards.documents.DocumentTypeDetails_19, parties.details.legalEntityTypeDetail payer_6, awards.documents.DocumentTypeDetails_17, parties.details.legalEntityTypeDetail tenderer_18, awards.documents.DocumentTypeDetails_14, parties.details.legalEntityTypeDetail payer_20, parties.details.legalEntityTypeDetail enquirer_18, awards.documents.DocumentTypeDetails_20, parties.details.legalEntityTypeDetail enquirer_15, parties.details.legalEntityTypeDetail payer_18, parties.details.legalEntityTypeDetail payer_19, tender.eligibilityCriteria q2, contracts.status_4, parties.details.legalEntityTypeDetail payer_12, parties.details.legalEntityTypeDetail payer_13, parties.details.legalEntityTypeDetail payer_10, parties.details.legalEntityTypeDetail payer_11, tender.items.classification.id.n1_1_57, parties.details.legalEntityTypeDetail payer_16, parties.details.legalEntityTypeDetail payer_17, parties.details.legalEntityTypeDetail payer_14, parties.details.legalEntityTypeDetail payer_15, tender.criteria.id, parties.details.legalEntityTypeDetail candidate_24, parties.details.legalEntityTypeDetail enquirer_21, parties.details.legalEntityTypeDetail candidate_23, parties.details.legalEntityTypeDetail enquirer_22, parties.details.legalEntityTypeDetail enquirer_23, parties.details.legalEntityTypeDetail candidate_25, parties.details.legalEntityTypeDetail enquirer_24, parties.details.legalEntityTypeDetail candidate_20, parties.details.legalEntityTypeDetail candidate_22, parties.details.legalEntityTypeDetail candidate_21, parties.details.legalEntityTypeDetail enquirer_20, parties.details.legalEntityTypeDetail enquirer_25, parties.details.legalEntityTypeDetail payer_9, parties.details.EntityType tenderer_1, parties.details.EntityType tenderer_2, parties.details.EntityType tenderer_3, parties.details.EntityType tenderer_4, parties.details.legalEntityTypeDetail tenderer_24, parties.details.legalEntityTypeDetail tenderer_25, contracts.statusDetails_3, parties.details.EntityType notifiedSupplier_1, contracts.statusDetails_2, parties.details.EntityType notifiedSupplier_3, parties.details.EntityType notifiedSupplier_2, parties.details.EntityType notifiedSupplier_4, contracts.statusDetails_9, contracts.statusDetails_4, contracts.statusDetails_7, tender.coveredBy_8, contracts.statusDetails_6, contracts.amendments.amendsAmount_usd, contracts.amendments.amendsAmount_pyg, tender.procurementIntention.procuringEntity.id q1, tender.procurementIntention.procuringEntity.name q1, parties.details.EntityType enquirer_4, parties.details.EntityType enquirer_3, tender.procurementIntention.procuringEntity.id q3, tender.procurementIntention.procuringEntity.name q3, parties.details.EntityType enquirer_2, parties.details.EntityType enquirer_1, parties.details.EntityType supplier_1, parties.details.EntityType supplier_3, tender.ProcurementIntentionCategory q3, parties.details.EntityType supplier_2, tender.ProcurementIntentionCategory q1, parties.details.EntityType supplier_4, parties.details.legalEntityTypeDetail supplier_22, parties.details.legalEntityTypeDetail supplier_25, parties.details.legalEntityTypeDetail supplier_24, Criterio de evaluacion faltante, parties.details.legalEntityTypeDetail supplier_21, contracts.documents.DocumentTypeDetails_12, awards.statusDetails_11, awards.statusDetails_10, parties.details.legalEntityTypeDetail supplier_18]\n",
      "\n",
      "████████\n",
      "08:24:35.108: _train param, Dropping bad and constant columns: [tender.procurementMethod_open, parties.details.legalEntityTypeDetail buyer_15, parties.details.legalEntityTypeDetail buyer_14, parties.details.legalEntityTypeDetail buyer_13, parties.details.legalEntityTypeDetail buyer_12, parties.details.legalEntityTypeDetail buyer_11, parties.details.legalEntityTypeDetail buyer_10, parties.details.EntityType payee_1, parties.details.EntityType payee_2, parties.details.EntityType payee_3, parties.details.EntityType payee_4, planning.items.classification.id.n1_1_57, planning.items.classification.id.n1_1_58, Monto faltante, tender.status_active, tender.statusDetails_En Convocatoria (Abierta), parties.details.EntityType candidate_2, parties.details.EntityType candidate_1, parties.details.EntityType candidate_4, parties.details.legalEntityTypeDetail candidate_1, awards.statusDetails_2, parties.details.EntityType candidate_3, parties.details.legalEntityTypeDetail candidate_2, awards.statusDetails_3, parties.details.legalEntityTypeDetail procuringEntity_2, parties.details.legalEntityTypeDetail buyer_19, awards.statusDetails_4, parties.details.legalEntityTypeDetail procuringEntity_3, parties.details.legalEntityTypeDetail buyer_18, parties.details.legalEntityTypeDetail buyer_17, awards.statusDetails_6, parties.details.legalEntityTypeDetail procuringEntity_1, parties.details.legalEntityTypeDetail buyer_16, parties.details.legalEntityTypeDetail candidate_7, parties.details.legalEntityTypeDetail procuringEntity_6, awards.status_4, parties.details.legalEntityTypeDetail candidate_8, parties.details.legalEntityTypeDetail procuringEntity_7, parties.details.legalEntityTypeDetail candidate_9, parties.details.legalEntityTypeDetail procuringEntity_4, parties.details.legalEntityTypeDetail procuringEntity_10, parties.details.legalEntityTypeDetail procuringEntity_5, parties.details.legalEntityTypeDetail candidate_3, parties.details.legalEntityTypeDetail procuringEntity_12, parties.details.legalEntityTypeDetail candidate_4, parties.details.legalEntityTypeDetail procuringEntity_11, parties.details.legalEntityTypeDetail candidate_5, parties.details.legalEntityTypeDetail procuringEntity_8, parties.details.legalEntityTypeDetail procuringEntity_14, parties.details.legalEntityTypeDetail candidate_6, parties.details.legalEntityTypeDetail procuringEntity_9, parties.details.legalEntityTypeDetail procuringEntity_13, parties.details.legalEntityTypeDetail notifiedSupplier_24, awards.statusDetails_7, parties.details.legalEntityTypeDetail buyer_25, awards.statusDetails_9, parties.details.legalEntityTypeDetail buyer_24, parties.details.legalEntityTypeDetail buyer_23, parties.details.legalEntityTypeDetail buyer_22, parties.details.legalEntityTypeDetail buyer_21, parties.details.legalEntityTypeDetail buyer_20, parties.details.legalEntityTypeDetail procuringEntity_21, parties.details.legalEntityTypeDetail procuringEntity_20, parties.details.legalEntityTypeDetail procuringEntity_23, parties.details.legalEntityTypeDetail procuringEntity_22, parties.details.legalEntityTypeDetail procuringEntity_25, parties.details.legalEntityTypeDetail procuringEntity_24, parties.details.legalEntityTypeDetail procuringEntity_16, parties.details.legalEntityTypeDetail procuringEntity_15, parties.details.legalEntityTypeDetail procuringEntity_18, parties.details.legalEntityTypeDetail procuringEntity_17, parties.details.legalEntityTypeDetail procuringEntity_19, parties.roles candidate q2, parties.roles candidate q1, parties.roles candidate q4, parties.roles candidate q3, tender.procurementMethodDetails q2, parties.details.legalEntityTypeDetail candidate_13, parties.details.legalEntityTypeDetail candidate_12, parties.details.legalEntityTypeDetail candidate_15, parties.details.legalEntityTypeDetail candidate_14, secondStage.id q4, secondStage.id q3, secondStage.id q2, parties.details.legalEntityTypeDetail candidate_11, secondStage.id q1, parties.details.legalEntityTypeDetail candidate_10, parties.details.legalEntityTypeDetail payee_21, parties.details.legalEntityTypeDetail buyer_1, parties.details.legalEntityTypeDetail payee_22, parties.details.legalEntityTypeDetail buyer_2, parties.details.legalEntityTypeDetail candidate_17, parties.details.legalEntityTypeDetail candidate_16, parties.details.legalEntityTypeDetail candidate_19, parties.details.legalEntityTypeDetail candidate_18, parties.details.legalEntityTypeDetail buyer_7, parties.details.legalEntityTypeDetail buyer_8, parties.details.legalEntityTypeDetail buyer_9, parties.details.legalEntityTypeDetail payee_25, parties.details.legalEntityTypeDetail buyer_3, parties.details.legalEntityTypeDetail payee_24, parties.details.legalEntityTypeDetail buyer_4, parties.details.legalEntityTypeDetail buyer_5, parties.details.legalEntityTypeDetail buyer_6, parties.details.legalEntityTypeDetail payee_18, parties.details.legalEntityTypeDetail payer_3, parties.details.legalEntityTypeDetail payer_23, parties.details.legalEntityTypeDetail payer_4, parties.details.legalEntityTypeDetail payer_24, tender.eligibilityCriteria q3, parties.details.legalEntityTypeDetail payer_1, parties.details.legalEntityTypeDetail payer_21, parties.details.legalEntityTypeDetail payer_2, parties.details.legalEntityTypeDetail payer_22, parties.details.legalEntityTypeDetail payer_7, parties.details.legalEntityTypeDetail payer_8, parties.details.legalEntityTypeDetail payer_5, parties.details.legalEntityTypeDetail payer_25, awards.documents.DocumentTypeDetails_19, parties.details.legalEntityTypeDetail payer_6, awards.documents.DocumentTypeDetails_17, parties.details.legalEntityTypeDetail tenderer_18, awards.documents.DocumentTypeDetails_14, parties.details.legalEntityTypeDetail payer_20, parties.details.legalEntityTypeDetail enquirer_18, awards.documents.DocumentTypeDetails_20, parties.details.legalEntityTypeDetail enquirer_15, parties.details.legalEntityTypeDetail payer_18, parties.details.legalEntityTypeDetail payer_19, tender.eligibilityCriteria q2, contracts.status_4, parties.details.legalEntityTypeDetail payer_12, parties.details.legalEntityTypeDetail payer_13, parties.details.legalEntityTypeDetail payer_10, parties.details.legalEntityTypeDetail payer_11, tender.items.classification.id.n1_1_57, parties.details.legalEntityTypeDetail payer_16, parties.details.legalEntityTypeDetail payer_17, parties.details.legalEntityTypeDetail payer_14, parties.details.legalEntityTypeDetail payer_15, tender.criteria.id, parties.details.legalEntityTypeDetail candidate_24, parties.details.legalEntityTypeDetail enquirer_21, parties.details.legalEntityTypeDetail candidate_23, parties.details.legalEntityTypeDetail enquirer_22, parties.details.legalEntityTypeDetail enquirer_23, parties.details.legalEntityTypeDetail candidate_25, parties.details.legalEntityTypeDetail enquirer_24, parties.details.legalEntityTypeDetail candidate_20, parties.details.legalEntityTypeDetail candidate_22, parties.details.legalEntityTypeDetail candidate_21, parties.details.legalEntityTypeDetail enquirer_20, parties.details.legalEntityTypeDetail enquirer_25, parties.details.legalEntityTypeDetail payer_9, parties.details.EntityType tenderer_1, parties.details.EntityType tenderer_2, parties.details.EntityType tenderer_3, parties.details.EntityType tenderer_4, parties.details.legalEntityTypeDetail tenderer_24, parties.details.legalEntityTypeDetail tenderer_25, contracts.statusDetails_3, parties.details.EntityType notifiedSupplier_1, contracts.statusDetails_2, parties.details.EntityType notifiedSupplier_3, parties.details.EntityType notifiedSupplier_2, parties.details.EntityType notifiedSupplier_4, contracts.statusDetails_9, contracts.statusDetails_4, contracts.statusDetails_7, tender.coveredBy_8, contracts.statusDetails_6, contracts.amendments.amendsAmount_usd, contracts.amendments.amendsAmount_pyg, tender.procurementIntention.procuringEntity.id q1, tender.procurementIntention.procuringEntity.name q1, parties.details.EntityType enquirer_4, parties.details.EntityType enquirer_3, tender.procurementIntention.procuringEntity.id q3, tender.procurementIntention.procuringEntity.name q3, parties.details.EntityType enquirer_2, parties.details.EntityType enquirer_1, parties.details.EntityType supplier_1, parties.details.EntityType supplier_3, tender.ProcurementIntentionCategory q3, parties.details.EntityType supplier_2, tender.ProcurementIntentionCategory q1, parties.details.EntityType supplier_4, parties.details.legalEntityTypeDetail supplier_22, parties.details.legalEntityTypeDetail supplier_25, parties.details.legalEntityTypeDetail supplier_24, Criterio de evaluacion faltante, parties.details.legalEntityTypeDetail supplier_21, contracts.documents.DocumentTypeDetails_12, awards.statusDetails_11, awards.statusDetails_10, parties.details.legalEntityTypeDetail supplier_18]\n",
      "\n",
      "████\n",
      "08:26:42.650: _train param, Dropping bad and constant columns: [tender.procurementMethod_open, parties.details.legalEntityTypeDetail buyer_15, parties.details.legalEntityTypeDetail buyer_14, parties.details.legalEntityTypeDetail buyer_13, parties.details.legalEntityTypeDetail buyer_12, parties.details.legalEntityTypeDetail buyer_11, parties.details.legalEntityTypeDetail buyer_10, parties.details.EntityType payee_1, parties.details.EntityType payee_2, parties.details.EntityType payee_3, parties.details.EntityType payee_4, planning.items.classification.id.n1_1_57, planning.items.classification.id.n1_1_58, Monto faltante, tender.status_active, tender.statusDetails_En Convocatoria (Abierta), parties.details.EntityType candidate_2, parties.details.EntityType candidate_1, parties.details.EntityType candidate_4, parties.details.legalEntityTypeDetail candidate_1, awards.statusDetails_2, parties.details.EntityType candidate_3, parties.details.legalEntityTypeDetail candidate_2, awards.statusDetails_3, parties.details.legalEntityTypeDetail procuringEntity_2, parties.details.legalEntityTypeDetail buyer_19, awards.statusDetails_4, parties.details.legalEntityTypeDetail procuringEntity_3, parties.details.legalEntityTypeDetail buyer_18, parties.details.legalEntityTypeDetail buyer_17, awards.statusDetails_6, parties.details.legalEntityTypeDetail procuringEntity_1, parties.details.legalEntityTypeDetail buyer_16, parties.details.legalEntityTypeDetail candidate_7, parties.details.legalEntityTypeDetail procuringEntity_6, awards.status_4, parties.details.legalEntityTypeDetail candidate_8, parties.details.legalEntityTypeDetail procuringEntity_7, parties.details.legalEntityTypeDetail candidate_9, parties.details.legalEntityTypeDetail procuringEntity_4, parties.details.legalEntityTypeDetail procuringEntity_10, parties.details.legalEntityTypeDetail procuringEntity_5, parties.details.legalEntityTypeDetail candidate_3, parties.details.legalEntityTypeDetail procuringEntity_12, parties.details.legalEntityTypeDetail candidate_4, parties.details.legalEntityTypeDetail procuringEntity_11, parties.details.legalEntityTypeDetail candidate_5, parties.details.legalEntityTypeDetail procuringEntity_8, parties.details.legalEntityTypeDetail procuringEntity_14, parties.details.legalEntityTypeDetail candidate_6, parties.details.legalEntityTypeDetail procuringEntity_9, parties.details.legalEntityTypeDetail procuringEntity_13, parties.details.legalEntityTypeDetail notifiedSupplier_24, awards.statusDetails_7, parties.details.legalEntityTypeDetail buyer_25, awards.statusDetails_9, parties.details.legalEntityTypeDetail buyer_24, parties.details.legalEntityTypeDetail buyer_23, parties.details.legalEntityTypeDetail buyer_22, parties.details.legalEntityTypeDetail buyer_21, parties.details.legalEntityTypeDetail buyer_20, parties.details.legalEntityTypeDetail procuringEntity_21, parties.details.legalEntityTypeDetail procuringEntity_20, parties.details.legalEntityTypeDetail procuringEntity_23, parties.details.legalEntityTypeDetail procuringEntity_22, parties.details.legalEntityTypeDetail procuringEntity_25, parties.details.legalEntityTypeDetail procuringEntity_24, parties.details.legalEntityTypeDetail procuringEntity_16, parties.details.legalEntityTypeDetail procuringEntity_15, parties.details.legalEntityTypeDetail procuringEntity_18, parties.details.legalEntityTypeDetail procuringEntity_17, parties.details.legalEntityTypeDetail procuringEntity_19, parties.roles candidate q2, parties.roles candidate q1, parties.roles candidate q4, parties.roles candidate q3, tender.procurementMethodDetails q2, parties.details.legalEntityTypeDetail candidate_13, parties.details.legalEntityTypeDetail candidate_12, parties.details.legalEntityTypeDetail candidate_15, parties.details.legalEntityTypeDetail candidate_14, secondStage.id q4, secondStage.id q3, secondStage.id q2, parties.details.legalEntityTypeDetail candidate_11, secondStage.id q1, parties.details.legalEntityTypeDetail candidate_10, parties.details.legalEntityTypeDetail payee_21, parties.details.legalEntityTypeDetail buyer_1, parties.details.legalEntityTypeDetail payee_22, parties.details.legalEntityTypeDetail buyer_2, parties.details.legalEntityTypeDetail candidate_17, parties.details.legalEntityTypeDetail candidate_16, parties.details.legalEntityTypeDetail candidate_19, parties.details.legalEntityTypeDetail candidate_18, parties.details.legalEntityTypeDetail buyer_7, parties.details.legalEntityTypeDetail buyer_8, parties.details.legalEntityTypeDetail buyer_9, parties.details.legalEntityTypeDetail payee_25, parties.details.legalEntityTypeDetail buyer_3, parties.details.legalEntityTypeDetail payee_24, parties.details.legalEntityTypeDetail buyer_4, parties.details.legalEntityTypeDetail buyer_5, parties.details.legalEntityTypeDetail buyer_6, parties.details.legalEntityTypeDetail payee_18, parties.details.legalEntityTypeDetail payer_3, parties.details.legalEntityTypeDetail payer_23, parties.details.legalEntityTypeDetail payer_4, parties.details.legalEntityTypeDetail payer_24, tender.eligibilityCriteria q3, parties.details.legalEntityTypeDetail payer_1, parties.details.legalEntityTypeDetail payer_21, parties.details.legalEntityTypeDetail payer_2, parties.details.legalEntityTypeDetail payer_22, parties.details.legalEntityTypeDetail payer_7, parties.details.legalEntityTypeDetail payer_8, parties.details.legalEntityTypeDetail payer_5, parties.details.legalEntityTypeDetail payer_25, awards.documents.DocumentTypeDetails_19, parties.details.legalEntityTypeDetail payer_6, awards.documents.DocumentTypeDetails_17, parties.details.legalEntityTypeDetail tenderer_18, awards.documents.DocumentTypeDetails_14, parties.details.legalEntityTypeDetail payer_20, parties.details.legalEntityTypeDetail enquirer_18, awards.documents.DocumentTypeDetails_20, parties.details.legalEntityTypeDetail enquirer_15, parties.details.legalEntityTypeDetail payer_18, parties.details.legalEntityTypeDetail payer_19, tender.eligibilityCriteria q2, contracts.status_4, parties.details.legalEntityTypeDetail payer_12, parties.details.legalEntityTypeDetail payer_13, parties.details.legalEntityTypeDetail payer_10, parties.details.legalEntityTypeDetail payer_11, tender.items.classification.id.n1_1_57, parties.details.legalEntityTypeDetail payer_16, parties.details.legalEntityTypeDetail payer_17, parties.details.legalEntityTypeDetail payer_14, parties.details.legalEntityTypeDetail payer_15, tender.criteria.id, parties.details.legalEntityTypeDetail candidate_24, parties.details.legalEntityTypeDetail enquirer_21, parties.details.legalEntityTypeDetail candidate_23, parties.details.legalEntityTypeDetail enquirer_22, parties.details.legalEntityTypeDetail enquirer_23, parties.details.legalEntityTypeDetail candidate_25, parties.details.legalEntityTypeDetail enquirer_24, parties.details.legalEntityTypeDetail candidate_20, parties.details.legalEntityTypeDetail candidate_22, parties.details.legalEntityTypeDetail candidate_21, parties.details.legalEntityTypeDetail enquirer_20, parties.details.legalEntityTypeDetail enquirer_25, parties.details.legalEntityTypeDetail payer_9, parties.details.EntityType tenderer_1, parties.details.EntityType tenderer_2, parties.details.EntityType tenderer_3, parties.details.EntityType tenderer_4, parties.details.legalEntityTypeDetail tenderer_24, parties.details.legalEntityTypeDetail tenderer_25, contracts.statusDetails_3, parties.details.EntityType notifiedSupplier_1, contracts.statusDetails_2, parties.details.EntityType notifiedSupplier_3, parties.details.EntityType notifiedSupplier_2, parties.details.EntityType notifiedSupplier_4, contracts.statusDetails_9, contracts.statusDetails_4, contracts.statusDetails_7, tender.coveredBy_8, contracts.statusDetails_6, contracts.amendments.amendsAmount_usd, contracts.amendments.amendsAmount_pyg, tender.procurementIntention.procuringEntity.id q1, tender.procurementIntention.procuringEntity.name q1, parties.details.EntityType enquirer_4, parties.details.EntityType enquirer_3, tender.procurementIntention.procuringEntity.id q3, tender.procurementIntention.procuringEntity.name q3, parties.details.EntityType enquirer_2, parties.details.EntityType enquirer_1, parties.details.EntityType supplier_1, parties.details.EntityType supplier_3, tender.ProcurementIntentionCategory q3, parties.details.EntityType supplier_2, tender.ProcurementIntentionCategory q1, parties.details.EntityType supplier_4, parties.details.legalEntityTypeDetail supplier_22, parties.details.legalEntityTypeDetail supplier_25, parties.details.legalEntityTypeDetail supplier_24, Criterio de evaluacion faltante, parties.details.legalEntityTypeDetail supplier_21, contracts.documents.DocumentTypeDetails_12, awards.statusDetails_11, awards.statusDetails_10, parties.details.legalEntityTypeDetail supplier_18]\n",
      "\n",
      "████\n",
      "08:29:05.798: _train param, Dropping unused columns: [tender.procurementMethod_open, parties.details.legalEntityTypeDetail buyer_15, parties.details.legalEntityTypeDetail buyer_14, parties.details.legalEntityTypeDetail buyer_13, parties.details.legalEntityTypeDetail buyer_12, parties.details.legalEntityTypeDetail buyer_11, parties.details.legalEntityTypeDetail buyer_10, parties.details.EntityType payee_1, parties.details.EntityType payee_2, parties.details.EntityType payee_3, parties.details.EntityType payee_4, planning.items.classification.id.n1_1_57, planning.items.classification.id.n1_1_58, Monto faltante, tender.status_active, tender.statusDetails_En Convocatoria (Abierta), parties.details.EntityType candidate_2, parties.details.EntityType candidate_1, parties.details.EntityType candidate_4, parties.details.legalEntityTypeDetail candidate_1, awards.statusDetails_2, parties.details.EntityType candidate_3, parties.details.legalEntityTypeDetail candidate_2, awards.statusDetails_3, parties.details.legalEntityTypeDetail procuringEntity_2, parties.details.legalEntityTypeDetail buyer_19, awards.statusDetails_4, parties.details.legalEntityTypeDetail procuringEntity_3, parties.details.legalEntityTypeDetail buyer_18, parties.details.legalEntityTypeDetail buyer_17, awards.statusDetails_6, parties.details.legalEntityTypeDetail procuringEntity_1, parties.details.legalEntityTypeDetail buyer_16, parties.details.legalEntityTypeDetail candidate_7, parties.details.legalEntityTypeDetail procuringEntity_6, awards.status_4, parties.details.legalEntityTypeDetail candidate_8, parties.details.legalEntityTypeDetail procuringEntity_7, parties.details.legalEntityTypeDetail candidate_9, parties.details.legalEntityTypeDetail procuringEntity_4, parties.details.legalEntityTypeDetail procuringEntity_10, parties.details.legalEntityTypeDetail procuringEntity_5, parties.details.legalEntityTypeDetail candidate_3, parties.details.legalEntityTypeDetail procuringEntity_12, parties.details.legalEntityTypeDetail candidate_4, parties.details.legalEntityTypeDetail procuringEntity_11, parties.details.legalEntityTypeDetail candidate_5, parties.details.legalEntityTypeDetail procuringEntity_8, parties.details.legalEntityTypeDetail procuringEntity_14, parties.details.legalEntityTypeDetail candidate_6, parties.details.legalEntityTypeDetail procuringEntity_9, parties.details.legalEntityTypeDetail procuringEntity_13, parties.details.legalEntityTypeDetail notifiedSupplier_24, awards.statusDetails_7, parties.details.legalEntityTypeDetail buyer_25, awards.statusDetails_9, parties.details.legalEntityTypeDetail buyer_24, parties.details.legalEntityTypeDetail buyer_23, parties.details.legalEntityTypeDetail buyer_22, parties.details.legalEntityTypeDetail buyer_21, parties.details.legalEntityTypeDetail buyer_20, parties.details.legalEntityTypeDetail procuringEntity_21, parties.details.legalEntityTypeDetail procuringEntity_20, parties.details.legalEntityTypeDetail procuringEntity_23, parties.details.legalEntityTypeDetail procuringEntity_22, parties.details.legalEntityTypeDetail procuringEntity_25, parties.details.legalEntityTypeDetail procuringEntity_24, parties.details.legalEntityTypeDetail procuringEntity_16, parties.details.legalEntityTypeDetail procuringEntity_15, parties.details.legalEntityTypeDetail procuringEntity_18, parties.details.legalEntityTypeDetail procuringEntity_17, parties.details.legalEntityTypeDetail procuringEntity_19, parties.roles candidate q2, parties.roles candidate q1, parties.roles candidate q4, parties.roles candidate q3, tender.procurementMethodDetails q2, parties.details.legalEntityTypeDetail candidate_13, parties.details.legalEntityTypeDetail candidate_12, parties.details.legalEntityTypeDetail candidate_15, parties.details.legalEntityTypeDetail candidate_14, secondStage.id q4, secondStage.id q3, secondStage.id q2, parties.details.legalEntityTypeDetail candidate_11, secondStage.id q1, parties.details.legalEntityTypeDetail candidate_10, parties.details.legalEntityTypeDetail payee_21, parties.details.legalEntityTypeDetail buyer_1, parties.details.legalEntityTypeDetail payee_22, parties.details.legalEntityTypeDetail buyer_2, parties.details.legalEntityTypeDetail candidate_17, parties.details.legalEntityTypeDetail candidate_16, parties.details.legalEntityTypeDetail candidate_19, parties.details.legalEntityTypeDetail candidate_18, parties.details.legalEntityTypeDetail buyer_7, parties.details.legalEntityTypeDetail buyer_8, parties.details.legalEntityTypeDetail buyer_9, parties.details.legalEntityTypeDetail payee_25, parties.details.legalEntityTypeDetail buyer_3, parties.details.legalEntityTypeDetail payee_24, parties.details.legalEntityTypeDetail buyer_4, parties.details.legalEntityTypeDetail buyer_5, parties.details.legalEntityTypeDetail buyer_6, parties.details.legalEntityTypeDetail payee_18, parties.details.legalEntityTypeDetail payer_3, parties.details.legalEntityTypeDetail payer_23, parties.details.legalEntityTypeDetail payer_4, parties.details.legalEntityTypeDetail payer_24, tender.eligibilityCriteria q3, parties.details.legalEntityTypeDetail payer_1, parties.details.legalEntityTypeDetail payer_21, parties.details.legalEntityTypeDetail payer_2, parties.details.legalEntityTypeDetail payer_22, parties.details.legalEntityTypeDetail payer_7, parties.details.legalEntityTypeDetail payer_8, parties.details.legalEntityTypeDetail payer_5, parties.details.legalEntityTypeDetail payer_25, awards.documents.DocumentTypeDetails_19, parties.details.legalEntityTypeDetail payer_6, awards.documents.DocumentTypeDetails_17, parties.details.legalEntityTypeDetail tenderer_18, awards.documents.DocumentTypeDetails_14, parties.details.legalEntityTypeDetail payer_20, parties.details.legalEntityTypeDetail enquirer_18, awards.documents.DocumentTypeDetails_20, parties.details.legalEntityTypeDetail enquirer_15, parties.details.legalEntityTypeDetail payer_18, parties.details.legalEntityTypeDetail payer_19, tender.eligibilityCriteria q2, contracts.status_4, parties.details.legalEntityTypeDetail payer_12, parties.details.legalEntityTypeDetail payer_13, parties.details.legalEntityTypeDetail payer_10, parties.details.legalEntityTypeDetail payer_11, tender.items.classification.id.n1_1_57, parties.details.legalEntityTypeDetail payer_16, parties.details.legalEntityTypeDetail payer_17, parties.details.legalEntityTypeDetail payer_14, parties.details.legalEntityTypeDetail payer_15, tender.criteria.id, parties.details.legalEntityTypeDetail candidate_24, parties.details.legalEntityTypeDetail enquirer_21, parties.details.legalEntityTypeDetail candidate_23, parties.details.legalEntityTypeDetail enquirer_22, parties.details.legalEntityTypeDetail enquirer_23, parties.details.legalEntityTypeDetail candidate_25, parties.details.legalEntityTypeDetail enquirer_24, parties.details.legalEntityTypeDetail candidate_20, parties.details.legalEntityTypeDetail candidate_22, parties.details.legalEntityTypeDetail candidate_21, parties.details.legalEntityTypeDetail enquirer_20, parties.details.legalEntityTypeDetail enquirer_25, parties.details.legalEntityTypeDetail payer_9, parties.details.EntityType tenderer_1, parties.details.EntityType tenderer_2, parties.details.EntityType tenderer_3, parties.details.EntityType tenderer_4, parties.details.legalEntityTypeDetail tenderer_24, parties.details.legalEntityTypeDetail tenderer_25, contracts.statusDetails_3, parties.details.EntityType notifiedSupplier_1, contracts.statusDetails_2, parties.details.EntityType notifiedSupplier_3, parties.details.EntityType notifiedSupplier_2, parties.details.EntityType notifiedSupplier_4, contracts.statusDetails_9, contracts.statusDetails_4, contracts.statusDetails_7, tender.coveredBy_8, contracts.statusDetails_6, contracts.amendments.amendsAmount_usd, contracts.amendments.amendsAmount_pyg, tender.procurementIntention.procuringEntity.id q1, tender.procurementIntention.procuringEntity.name q1, parties.details.EntityType enquirer_4, parties.details.EntityType enquirer_3, tender.procurementIntention.procuringEntity.id q3, tender.procurementIntention.procuringEntity.name q3, parties.details.EntityType enquirer_2, parties.details.EntityType enquirer_1, parties.details.EntityType supplier_1, parties.details.EntityType supplier_3, tender.ProcurementIntentionCategory q3, parties.details.EntityType supplier_2, tender.ProcurementIntentionCategory q1, parties.details.EntityType supplier_4, parties.details.legalEntityTypeDetail supplier_22, parties.details.legalEntityTypeDetail supplier_25, parties.details.legalEntityTypeDetail supplier_24, Criterio de evaluacion faltante, parties.details.legalEntityTypeDetail supplier_21, contracts.documents.DocumentTypeDetails_12, awards.statusDetails_11, awards.statusDetails_10, parties.details.legalEntityTypeDetail supplier_18]\n",
      "\n",
      "██\n",
      "08:29:24.26: _train param, Dropping unused columns: [tender.procurementMethod_open, parties.details.legalEntityTypeDetail buyer_15, parties.details.legalEntityTypeDetail buyer_14, parties.details.legalEntityTypeDetail buyer_13, parties.details.legalEntityTypeDetail buyer_12, parties.details.legalEntityTypeDetail buyer_11, parties.details.legalEntityTypeDetail buyer_10, parties.details.EntityType payee_1, parties.details.EntityType payee_2, parties.details.EntityType payee_3, parties.details.EntityType payee_4, planning.items.classification.id.n1_1_57, planning.items.classification.id.n1_1_58, Monto faltante, tender.status_active, tender.statusDetails_En Convocatoria (Abierta), parties.details.EntityType candidate_2, parties.details.EntityType candidate_1, parties.details.EntityType candidate_4, parties.details.legalEntityTypeDetail candidate_1, awards.statusDetails_2, parties.details.EntityType candidate_3, parties.details.legalEntityTypeDetail candidate_2, awards.statusDetails_3, parties.details.legalEntityTypeDetail procuringEntity_2, parties.details.legalEntityTypeDetail buyer_19, awards.statusDetails_4, parties.details.legalEntityTypeDetail procuringEntity_3, parties.details.legalEntityTypeDetail buyer_18, parties.details.legalEntityTypeDetail buyer_17, awards.statusDetails_6, parties.details.legalEntityTypeDetail procuringEntity_1, parties.details.legalEntityTypeDetail buyer_16, parties.details.legalEntityTypeDetail candidate_7, parties.details.legalEntityTypeDetail procuringEntity_6, awards.status_4, parties.details.legalEntityTypeDetail candidate_8, parties.details.legalEntityTypeDetail procuringEntity_7, parties.details.legalEntityTypeDetail candidate_9, parties.details.legalEntityTypeDetail procuringEntity_4, parties.details.legalEntityTypeDetail procuringEntity_10, parties.details.legalEntityTypeDetail procuringEntity_5, parties.details.legalEntityTypeDetail candidate_3, parties.details.legalEntityTypeDetail procuringEntity_12, parties.details.legalEntityTypeDetail candidate_4, parties.details.legalEntityTypeDetail procuringEntity_11, parties.details.legalEntityTypeDetail candidate_5, parties.details.legalEntityTypeDetail procuringEntity_8, parties.details.legalEntityTypeDetail procuringEntity_14, parties.details.legalEntityTypeDetail candidate_6, parties.details.legalEntityTypeDetail procuringEntity_9, parties.details.legalEntityTypeDetail procuringEntity_13, parties.details.legalEntityTypeDetail notifiedSupplier_24, awards.statusDetails_7, parties.details.legalEntityTypeDetail buyer_25, awards.statusDetails_9, parties.details.legalEntityTypeDetail buyer_24, parties.details.legalEntityTypeDetail buyer_23, parties.details.legalEntityTypeDetail buyer_22, parties.details.legalEntityTypeDetail buyer_21, parties.details.legalEntityTypeDetail buyer_20, parties.details.legalEntityTypeDetail procuringEntity_21, parties.details.legalEntityTypeDetail procuringEntity_20, parties.details.legalEntityTypeDetail procuringEntity_23, parties.details.legalEntityTypeDetail procuringEntity_22, parties.details.legalEntityTypeDetail procuringEntity_25, parties.details.legalEntityTypeDetail procuringEntity_24, parties.details.legalEntityTypeDetail procuringEntity_16, parties.details.legalEntityTypeDetail procuringEntity_15, parties.details.legalEntityTypeDetail procuringEntity_18, parties.details.legalEntityTypeDetail procuringEntity_17, parties.details.legalEntityTypeDetail procuringEntity_19, parties.roles candidate q2, parties.roles candidate q1, parties.roles candidate q4, parties.roles candidate q3, tender.procurementMethodDetails q2, parties.details.legalEntityTypeDetail candidate_13, parties.details.legalEntityTypeDetail candidate_12, parties.details.legalEntityTypeDetail candidate_15, parties.details.legalEntityTypeDetail candidate_14, secondStage.id q4, secondStage.id q3, secondStage.id q2, parties.details.legalEntityTypeDetail candidate_11, secondStage.id q1, parties.details.legalEntityTypeDetail candidate_10, parties.details.legalEntityTypeDetail payee_21, parties.details.legalEntityTypeDetail buyer_1, parties.details.legalEntityTypeDetail payee_22, parties.details.legalEntityTypeDetail buyer_2, parties.details.legalEntityTypeDetail candidate_17, parties.details.legalEntityTypeDetail candidate_16, parties.details.legalEntityTypeDetail candidate_19, parties.details.legalEntityTypeDetail candidate_18, parties.details.legalEntityTypeDetail buyer_7, parties.details.legalEntityTypeDetail buyer_8, parties.details.legalEntityTypeDetail buyer_9, parties.details.legalEntityTypeDetail payee_25, parties.details.legalEntityTypeDetail buyer_3, parties.details.legalEntityTypeDetail payee_24, parties.details.legalEntityTypeDetail buyer_4, parties.details.legalEntityTypeDetail buyer_5, parties.details.legalEntityTypeDetail buyer_6, parties.details.legalEntityTypeDetail payee_18, parties.details.legalEntityTypeDetail payer_3, parties.details.legalEntityTypeDetail payer_23, parties.details.legalEntityTypeDetail payer_4, parties.details.legalEntityTypeDetail payer_24, tender.eligibilityCriteria q3, parties.details.legalEntityTypeDetail payer_1, parties.details.legalEntityTypeDetail payer_21, parties.details.legalEntityTypeDetail payer_2, parties.details.legalEntityTypeDetail payer_22, parties.details.legalEntityTypeDetail payer_7, parties.details.legalEntityTypeDetail payer_8, parties.details.legalEntityTypeDetail payer_5, parties.details.legalEntityTypeDetail payer_25, awards.documents.DocumentTypeDetails_19, parties.details.legalEntityTypeDetail payer_6, awards.documents.DocumentTypeDetails_17, parties.details.legalEntityTypeDetail tenderer_18, awards.documents.DocumentTypeDetails_14, parties.details.legalEntityTypeDetail payer_20, parties.details.legalEntityTypeDetail enquirer_18, awards.documents.DocumentTypeDetails_20, parties.details.legalEntityTypeDetail enquirer_15, parties.details.legalEntityTypeDetail payer_18, parties.details.legalEntityTypeDetail payer_19, tender.eligibilityCriteria q2, contracts.status_4, parties.details.legalEntityTypeDetail payer_12, parties.details.legalEntityTypeDetail payer_13, parties.details.legalEntityTypeDetail payer_10, parties.details.legalEntityTypeDetail payer_11, tender.items.classification.id.n1_1_57, parties.details.legalEntityTypeDetail payer_16, parties.details.legalEntityTypeDetail payer_17, parties.details.legalEntityTypeDetail payer_14, parties.details.legalEntityTypeDetail payer_15, tender.criteria.id, parties.details.legalEntityTypeDetail candidate_24, parties.details.legalEntityTypeDetail enquirer_21, parties.details.legalEntityTypeDetail candidate_23, parties.details.legalEntityTypeDetail enquirer_22, parties.details.legalEntityTypeDetail enquirer_23, parties.details.legalEntityTypeDetail candidate_25, parties.details.legalEntityTypeDetail enquirer_24, parties.details.legalEntityTypeDetail candidate_20, parties.details.legalEntityTypeDetail candidate_22, parties.details.legalEntityTypeDetail candidate_21, parties.details.legalEntityTypeDetail enquirer_20, parties.details.legalEntityTypeDetail enquirer_25, parties.details.legalEntityTypeDetail payer_9, parties.details.EntityType tenderer_1, parties.details.EntityType tenderer_2, parties.details.EntityType tenderer_3, parties.details.EntityType tenderer_4, parties.details.legalEntityTypeDetail tenderer_24, parties.details.legalEntityTypeDetail tenderer_25, contracts.statusDetails_3, parties.details.EntityType notifiedSupplier_1, contracts.statusDetails_2, parties.details.EntityType notifiedSupplier_3, parties.details.EntityType notifiedSupplier_2, parties.details.EntityType notifiedSupplier_4, contracts.statusDetails_9, contracts.statusDetails_4, contracts.statusDetails_7, tender.coveredBy_8, contracts.statusDetails_6, contracts.amendments.amendsAmount_usd, contracts.amendments.amendsAmount_pyg, tender.procurementIntention.procuringEntity.id q1, tender.procurementIntention.procuringEntity.name q1, parties.details.EntityType enquirer_4, parties.details.EntityType enquirer_3, tender.procurementIntention.procuringEntity.id q3, tender.procurementIntention.procuringEntity.name q3, parties.details.EntityType enquirer_2, parties.details.EntityType enquirer_1, parties.details.EntityType supplier_1, parties.details.EntityType supplier_3, tender.ProcurementIntentionCategory q3, parties.details.EntityType supplier_2, tender.ProcurementIntentionCategory q1, parties.details.EntityType supplier_4, parties.details.legalEntityTypeDetail supplier_22, parties.details.legalEntityTypeDetail supplier_25, parties.details.legalEntityTypeDetail supplier_24, Criterio de evaluacion faltante, parties.details.legalEntityTypeDetail supplier_21, contracts.documents.DocumentTypeDetails_12, awards.statusDetails_11, awards.statusDetails_10, parties.details.legalEntityTypeDetail supplier_18]\n",
      "\n",
      "███████████| (done) 100%\n"
     ]
    },
    {
     "data": {
      "text/html": [
       "<table class='dataframe'>\n",
       "<thead>\n",
       "<tr><th>model_id                                              </th><th style=\"text-align: right;\">   aucpr</th><th style=\"text-align: right;\">     auc</th><th style=\"text-align: right;\">  logloss</th><th style=\"text-align: right;\">  mean_per_class_error</th><th style=\"text-align: right;\">    rmse</th><th style=\"text-align: right;\">      mse</th></tr>\n",
       "</thead>\n",
       "<tbody>\n",
       "<tr><td>StackedEnsemble_AllModels_1_AutoML_2_20230809_81536   </td><td style=\"text-align: right;\">0.967501</td><td style=\"text-align: right;\">0.979775</td><td style=\"text-align: right;\"> 0.139971</td><td style=\"text-align: right;\">             0.07027  </td><td style=\"text-align: right;\">0.197084</td><td style=\"text-align: right;\">0.0388419</td></tr>\n",
       "<tr><td>StackedEnsemble_BestOfFamily_1_AutoML_2_20230809_81536</td><td style=\"text-align: right;\">0.967467</td><td style=\"text-align: right;\">0.979748</td><td style=\"text-align: right;\"> 0.139988</td><td style=\"text-align: right;\">             0.0704329</td><td style=\"text-align: right;\">0.197097</td><td style=\"text-align: right;\">0.0388473</td></tr>\n",
       "<tr><td>GBM_1_AutoML_2_20230809_81536                         </td><td style=\"text-align: right;\">0.964775</td><td style=\"text-align: right;\">0.978218</td><td style=\"text-align: right;\"> 0.151889</td><td style=\"text-align: right;\">             0.0713721</td><td style=\"text-align: right;\">0.203226</td><td style=\"text-align: right;\">0.0413009</td></tr>\n",
       "<tr><td>DRF_1_AutoML_2_20230809_81536                         </td><td style=\"text-align: right;\">0.961728</td><td style=\"text-align: right;\">0.976461</td><td style=\"text-align: right;\"> 0.182656</td><td style=\"text-align: right;\">             0.0734592</td><td style=\"text-align: right;\">0.218233</td><td style=\"text-align: right;\">0.0476255</td></tr>\n",
       "<tr><td>GBM_3_AutoML_2_20230809_81536                         </td><td style=\"text-align: right;\">0.956875</td><td style=\"text-align: right;\">0.973056</td><td style=\"text-align: right;\"> 0.170645</td><td style=\"text-align: right;\">             0.0822657</td><td style=\"text-align: right;\">0.216012</td><td style=\"text-align: right;\">0.0466613</td></tr>\n",
       "<tr><td>GBM_2_AutoML_2_20230809_81536                         </td><td style=\"text-align: right;\">0.952556</td><td style=\"text-align: right;\">0.970542</td><td style=\"text-align: right;\"> 0.18021 </td><td style=\"text-align: right;\">             0.0871124</td><td style=\"text-align: right;\">0.222772</td><td style=\"text-align: right;\">0.0496273</td></tr>\n",
       "<tr><td>GLM_1_AutoML_2_20230809_81536                         </td><td style=\"text-align: right;\">0.929896</td><td style=\"text-align: right;\">0.953085</td><td style=\"text-align: right;\"> 0.216744</td><td style=\"text-align: right;\">             0.110594 </td><td style=\"text-align: right;\">0.247147</td><td style=\"text-align: right;\">0.0610819</td></tr>\n",
       "</tbody>\n",
       "</table><pre style='font-size: smaller; margin-bottom: 1em;'>[7 rows x 7 columns]</pre>"
      ],
      "text/plain": [
       "model_id                                                   aucpr       auc    logloss    mean_per_class_error      rmse        mse\n",
       "------------------------------------------------------  --------  --------  ---------  ----------------------  --------  ---------\n",
       "StackedEnsemble_AllModels_1_AutoML_2_20230809_81536     0.967501  0.979775   0.139971               0.07027    0.197084  0.0388419\n",
       "StackedEnsemble_BestOfFamily_1_AutoML_2_20230809_81536  0.967467  0.979748   0.139988               0.0704329  0.197097  0.0388473\n",
       "GBM_1_AutoML_2_20230809_81536                           0.964775  0.978218   0.151889               0.0713721  0.203226  0.0413009\n",
       "DRF_1_AutoML_2_20230809_81536                           0.961728  0.976461   0.182656               0.0734592  0.218233  0.0476255\n",
       "GBM_3_AutoML_2_20230809_81536                           0.956875  0.973056   0.170645               0.0822657  0.216012  0.0466613\n",
       "GBM_2_AutoML_2_20230809_81536                           0.952556  0.970542   0.18021                0.0871124  0.222772  0.0496273\n",
       "GLM_1_AutoML_2_20230809_81536                           0.929896  0.953085   0.216744               0.110594   0.247147  0.0610819\n",
       "[7 rows x 7 columns]\n"
      ]
     },
     "execution_count": 48,
     "metadata": {},
     "output_type": "execute_result"
    }
   ],
   "source": [
    "# Run AutoML for 10 base models\n",
    "aml.train(x=x, y=y, training_frame=train)\n",
    "\n",
    "# View the AutoML Leader\n",
    "# board\n",
    "lb = aml.leaderboard\n",
    "lb.head(rows=lb.nrows)  # Print all rows instead of default (10 rows)"
   ]
  },
  {
   "cell_type": "code",
   "execution_count": 49,
   "metadata": {},
   "outputs": [
    {
     "name": "stdout",
     "output_type": "stream",
     "text": [
      "/Users/davidnunez/Desktop/tesis/tesis-model/Training/train2022/smoteModelv1/StackedEnsemble_AllModels_1_AutoML_2_20230809_81536\n"
     ]
    }
   ],
   "source": [
    "if PARAMETERS['SAVE_LEADER_MODEL']:\n",
    "\tmodel_path = h2o.save_model(model=aml.leader, path=PARAMETERS['SAVED_MODEL_PATH'], force=True)\n",
    "\tprint(model_path)"
   ]
  },
  {
   "cell_type": "markdown",
   "metadata": {},
   "source": [
    "## Testing 2023 Data"
   ]
  },
  {
   "cell_type": "code",
   "execution_count": 50,
   "metadata": {},
   "outputs": [
    {
     "name": "stdout",
     "output_type": "stream",
     "text": [
      "Parse progress: |████████████████████████████████████████████████████████████████| (done) 100%\n"
     ]
    }
   ],
   "source": [
    "df_test = pd.read_csv(PARAMETERS['TEST_DATA_CSV'], index_col=False)\n",
    "test_frame = h2o.H2OFrame.from_python(df_test)\n",
    "test_frame[y] = test_frame[y].asfactor()"
   ]
  },
  {
   "cell_type": "code",
   "execution_count": 51,
   "metadata": {},
   "outputs": [],
   "source": [
    "def get_performance(model, test: h2o.H2OFrame):\n",
    "\tcm = model.model_performance(test).confusion_matrix().to_list()\n",
    "\tperf_t = cm[1][1] / (cm[1][0] + cm[1][1])\n",
    "\tperf_f = cm[0][0] / (cm[0][1] + cm[0][0])\n",
    "\treturn perf_t, perf_f"
   ]
  },
  {
   "cell_type": "code",
   "execution_count": 52,
   "metadata": {},
   "outputs": [
    {
     "name": "stdout",
     "output_type": "stream",
     "text": [
      "StackedEnsemble_AllModels_1_AutoML_2_20230809_81536 0.7373595505617978 0.9048099987375331\n",
      "StackedEnsemble_BestOfFamily_1_AutoML_2_20230809_81536 0.7373595505617978 0.9048099987375331\n",
      "GBM_1_AutoML_2_20230809_81536 0.7510533707865169 0.9001388713546269\n",
      "DRF_1_AutoML_2_20230809_81536 0.7131320224719101 0.8891554096704961\n",
      "GBM_3_AutoML_2_20230809_81536 0.7120786516853933 0.9231157682110844\n",
      "GBM_2_AutoML_2_20230809_81536 0.7808988764044944 0.8809493750789041\n",
      "GLM_1_AutoML_2_20230809_81536 0.7103230337078652 0.8954677439717208\n",
      "StackedEnsemble_AllModels_1_AutoML_2_20230809_81536 0.7373595505617978 0.9048099987375331\n"
     ]
    }
   ],
   "source": [
    "best = ''\n",
    "best_score_t = 0\n",
    "best_score_f = 0\n",
    "df_leaderboard = aml.leaderboard.as_data_frame()\n",
    "model_ids = df_leaderboard['model_id']\n",
    "for model_id in model_ids:\n",
    "\tmodel = h2o.get_model(model_id)\n",
    "\tscore_t, score_f = get_performance(model, test_frame)\n",
    "\tprint(model_id, score_t, score_f)\n",
    "\tif score_t > best_score_t and score_f > best_score_f:\n",
    "\t\tbest_score_t = score_t\n",
    "\t\tbest_score_f = score_f\n",
    "\t\tbest = model_id\n",
    "\n",
    "print(best, best_score_t, best_score_f)"
   ]
  }
 ],
 "metadata": {
  "kernelspec": {
   "display_name": "Python 3",
   "language": "python",
   "name": "python3"
  },
  "language_info": {
   "codemirror_mode": {
    "name": "ipython",
    "version": 3
   },
   "file_extension": ".py",
   "mimetype": "text/x-python",
   "name": "python",
   "nbconvert_exporter": "python",
   "pygments_lexer": "ipython3",
   "version": "3.11.4"
  },
  "orig_nbformat": 4
 },
 "nbformat": 4,
 "nbformat_minor": 2
}
