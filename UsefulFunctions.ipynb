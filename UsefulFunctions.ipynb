{
 "cells": [
  {
   "cell_type": "code",
   "execution_count": null,
   "metadata": {},
   "outputs": [],
   "source": [
    "# TO CSV EXAMPLE\n",
    "\n",
    "X_resampled.to_csv('ouput_x.csv', index = False, encoding='utf-8') # False: not include index\n",
    "y_resampled.to_csv('ouput_y.csv', index = False, encoding='utf-8') # False: not include index\n",
    "# print(df)"
   ]
  },
  {
   "cell_type": "code",
   "execution_count": null,
   "metadata": {},
   "outputs": [],
   "source": [
    "# GROUP BY EXAMPLE\n",
    "gkk = df_dummizado[df_dummizado['Protestas'] == True].groupby(['date.yearmonth'], dropna=False)\n",
    "# df = df_dummizado[df_dummizado]\n",
    "# gkk = df_dummizado.groupby(['date.year'], dropna=False)\n",
    "# with pd.option_context('display.max_rows', None, 'display.max_columns', None):  # more options can be specified also\n",
    "# pd.set_option('display.max_rows', None)\n",
    "gkk.count()"
   ]
  },
  {
   "cell_type": "code",
   "execution_count": null,
   "metadata": {},
   "outputs": [],
   "source": [
    "gkk = df_completo.groupby(['ocid'], dropna=False)\n",
    "gkk.count()"
   ]
  },
  {
   "cell_type": "code",
   "execution_count": null,
   "metadata": {},
   "outputs": [],
   "source": [
    "#VERIFICAR VALORES NAN EN DUMMIZADO\n",
    "\n",
    "# list(df_dummizado.columns)\n",
    "# df_dummizado.isna().mean().round(4) * 100\n",
    "# with pd.option_context('display.max_rows', None, 'display.max_columns', None):  # more options can be specified also\n",
    "pd.set_option('display.max_columns', None)  # or 1000\n",
    "pd.set_option('display.max_rows', None)  # or 1000\n",
    "df_dummizado.isna().sum()"
   ]
  }
 ],
 "metadata": {
  "language_info": {
   "name": "python"
  },
  "orig_nbformat": 4
 },
 "nbformat": 4,
 "nbformat_minor": 2
}
